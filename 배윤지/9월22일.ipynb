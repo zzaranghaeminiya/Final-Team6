{
  "nbformat": 4,
  "nbformat_minor": 0,
  "metadata": {
    "colab": {
      "provenance": [],
      "authorship_tag": "ABX9TyODLrZAWDERNVYF2rn/KUZ5",
      "include_colab_link": true
    },
    "kernelspec": {
      "name": "python3",
      "display_name": "Python 3"
    },
    "language_info": {
      "name": "python"
    }
  },
  "cells": [
    {
      "cell_type": "markdown",
      "metadata": {
        "id": "view-in-github",
        "colab_type": "text"
      },
      "source": [
        "<a href=\"https://colab.research.google.com/github/zzaranghaeminiya/Final-Team6/blob/main/9.22.ipynb\" target=\"_parent\"><img src=\"https://colab.research.google.com/assets/colab-badge.svg\" alt=\"Open In Colab\"/></a>"
      ]
    },
    {
      "cell_type": "code",
      "source": [
        "import pandas as pd\n",
        "df = pd.read_csv('/content/combined_dataset.csv')"
      ],
      "metadata": {
        "id": "zTX0aIkw4aod"
      },
      "execution_count": 2,
      "outputs": []
    },
    {
      "cell_type": "code",
      "source": [
        "df.info()"
      ],
      "metadata": {
        "colab": {
          "base_uri": "https://localhost:8080/"
        },
        "id": "5XyOjolTGFL5",
        "outputId": "223a0e20-9297-4ff3-e777-01952624082a"
      },
      "execution_count": 17,
      "outputs": [
        {
          "output_type": "stream",
          "name": "stdout",
          "text": [
            "<class 'pandas.core.frame.DataFrame'>\n",
            "RangeIndex: 11446 entries, 0 to 11445\n",
            "Data columns (total 75 columns):\n",
            " #   Column                                        Non-Null Count  Dtype  \n",
            "---  ------                                        --------------  -----  \n",
            " 0   id                                            11446 non-null  int64  \n",
            " 1   listing_url                                   11446 non-null  object \n",
            " 2   scrape_id                                     11446 non-null  int64  \n",
            " 3   last_scraped                                  11446 non-null  object \n",
            " 4   source                                        11446 non-null  object \n",
            " 5   name                                          11446 non-null  object \n",
            " 6   description                                   9276 non-null   object \n",
            " 7   neighborhood_overview                         5663 non-null   object \n",
            " 8   picture_url                                   11446 non-null  object \n",
            " 9   host_id                                       11446 non-null  int64  \n",
            " 10  host_url                                      11446 non-null  object \n",
            " 11  host_name                                     11446 non-null  object \n",
            " 12  host_since                                    11446 non-null  object \n",
            " 13  host_location                                 8554 non-null   object \n",
            " 14  host_about                                    6402 non-null   object \n",
            " 15  host_response_time                            10000 non-null  object \n",
            " 16  host_response_rate                            10000 non-null  object \n",
            " 17  host_acceptance_rate                          10641 non-null  object \n",
            " 18  host_is_superhost                             11173 non-null  object \n",
            " 19  host_thumbnail_url                            11446 non-null  object \n",
            " 20  host_picture_url                              11446 non-null  object \n",
            " 21  host_neighbourhood                            10530 non-null  object \n",
            " 22  host_listings_count                           11446 non-null  int64  \n",
            " 23  host_total_listings_count                     11446 non-null  int64  \n",
            " 24  host_verifications                            11446 non-null  object \n",
            " 25  host_has_profile_pic                          11446 non-null  object \n",
            " 26  host_identity_verified                        11446 non-null  object \n",
            " 27  neighbourhood                                 5663 non-null   object \n",
            " 28  neighbourhood_cleansed                        11446 non-null  object \n",
            " 29  neighbourhood_group_cleansed                  0 non-null      float64\n",
            " 30  latitude                                      11446 non-null  float64\n",
            " 31  longitude                                     11446 non-null  float64\n",
            " 32  property_type                                 11446 non-null  object \n",
            " 33  room_type                                     11446 non-null  object \n",
            " 34  accommodates                                  11446 non-null  int64  \n",
            " 35  bathrooms                                     8043 non-null   float64\n",
            " 36  bathrooms_text                                11425 non-null  object \n",
            " 37  bedrooms                                      9104 non-null   float64\n",
            " 38  beds                                          11027 non-null  float64\n",
            " 39  amenities                                     11446 non-null  object \n",
            " 40  price                                         10604 non-null  object \n",
            " 41  minimum_nights                                11446 non-null  int64  \n",
            " 42  maximum_nights                                11446 non-null  int64  \n",
            " 43  minimum_minimum_nights                        11445 non-null  float64\n",
            " 44  maximum_minimum_nights                        11445 non-null  float64\n",
            " 45  minimum_maximum_nights                        11445 non-null  float64\n",
            " 46  maximum_maximum_nights                        11445 non-null  float64\n",
            " 47  minimum_nights_avg_ntm                        11445 non-null  float64\n",
            " 48  maximum_nights_avg_ntm                        11445 non-null  float64\n",
            " 49  calendar_updated                              0 non-null      float64\n",
            " 50  has_availability                              10922 non-null  object \n",
            " 51  availability_30                               11446 non-null  int64  \n",
            " 52  availability_60                               11446 non-null  int64  \n",
            " 53  availability_90                               11446 non-null  int64  \n",
            " 54  availability_365                              11446 non-null  int64  \n",
            " 55  calendar_last_scraped                         11446 non-null  object \n",
            " 56  number_of_reviews                             11446 non-null  int64  \n",
            " 57  number_of_reviews_ltm                         11446 non-null  int64  \n",
            " 58  number_of_reviews_l30d                        11446 non-null  int64  \n",
            " 59  first_review                                  9949 non-null   object \n",
            " 60  last_review                                   9949 non-null   object \n",
            " 61  review_scores_rating                          9951 non-null   float64\n",
            " 62  review_scores_accuracy                        9927 non-null   float64\n",
            " 63  review_scores_cleanliness                     9928 non-null   float64\n",
            " 64  review_scores_checkin                         9927 non-null   float64\n",
            " 65  review_scores_communication                   9928 non-null   float64\n",
            " 66  review_scores_location                        9927 non-null   float64\n",
            " 67  review_scores_value                           9926 non-null   float64\n",
            " 68  license                                       0 non-null      float64\n",
            " 69  instant_bookable                              11446 non-null  object \n",
            " 70  calculated_host_listings_count                11446 non-null  int64  \n",
            " 71  calculated_host_listings_count_entire_homes   11446 non-null  int64  \n",
            " 72  calculated_host_listings_count_private_rooms  11446 non-null  int64  \n",
            " 73  calculated_host_listings_count_shared_rooms   11446 non-null  int64  \n",
            " 74  reviews_per_month                             9949 non-null   float64\n",
            "dtypes: float64(22), int64(19), object(34)\n",
            "memory usage: 6.5+ MB\n"
          ]
        }
      ]
    },
    {
      "cell_type": "code",
      "source": [
        "df['host_id'].value_counts()"
      ],
      "metadata": {
        "colab": {
          "base_uri": "https://localhost:8080/",
          "height": 489
        },
        "id": "N7JrvZak4akC",
        "outputId": "f8b8faba-9d49-45bb-e37a-797a582ff0cf"
      },
      "execution_count": 8,
      "outputs": [
        {
          "output_type": "execute_result",
          "data": {
            "text/plain": [
              "host_id\n",
              "227945       98\n",
              "5463516      98\n",
              "52431987     96\n",
              "48640172     87\n",
              "2420885      84\n",
              "             ..\n",
              "529269802     1\n",
              "389463927     1\n",
              "826315        1\n",
              "517329        1\n",
              "185641        1\n",
              "Name: count, Length: 3921, dtype: int64"
            ],
            "text/html": [
              "<div>\n",
              "<style scoped>\n",
              "    .dataframe tbody tr th:only-of-type {\n",
              "        vertical-align: middle;\n",
              "    }\n",
              "\n",
              "    .dataframe tbody tr th {\n",
              "        vertical-align: top;\n",
              "    }\n",
              "\n",
              "    .dataframe thead th {\n",
              "        text-align: right;\n",
              "    }\n",
              "</style>\n",
              "<table border=\"1\" class=\"dataframe\">\n",
              "  <thead>\n",
              "    <tr style=\"text-align: right;\">\n",
              "      <th></th>\n",
              "      <th>count</th>\n",
              "    </tr>\n",
              "    <tr>\n",
              "      <th>host_id</th>\n",
              "      <th></th>\n",
              "    </tr>\n",
              "  </thead>\n",
              "  <tbody>\n",
              "    <tr>\n",
              "      <th>227945</th>\n",
              "      <td>98</td>\n",
              "    </tr>\n",
              "    <tr>\n",
              "      <th>5463516</th>\n",
              "      <td>98</td>\n",
              "    </tr>\n",
              "    <tr>\n",
              "      <th>52431987</th>\n",
              "      <td>96</td>\n",
              "    </tr>\n",
              "    <tr>\n",
              "      <th>48640172</th>\n",
              "      <td>87</td>\n",
              "    </tr>\n",
              "    <tr>\n",
              "      <th>2420885</th>\n",
              "      <td>84</td>\n",
              "    </tr>\n",
              "    <tr>\n",
              "      <th>...</th>\n",
              "      <td>...</td>\n",
              "    </tr>\n",
              "    <tr>\n",
              "      <th>529269802</th>\n",
              "      <td>1</td>\n",
              "    </tr>\n",
              "    <tr>\n",
              "      <th>389463927</th>\n",
              "      <td>1</td>\n",
              "    </tr>\n",
              "    <tr>\n",
              "      <th>826315</th>\n",
              "      <td>1</td>\n",
              "    </tr>\n",
              "    <tr>\n",
              "      <th>517329</th>\n",
              "      <td>1</td>\n",
              "    </tr>\n",
              "    <tr>\n",
              "      <th>185641</th>\n",
              "      <td>1</td>\n",
              "    </tr>\n",
              "  </tbody>\n",
              "</table>\n",
              "<p>3921 rows × 1 columns</p>\n",
              "</div><br><label><b>dtype:</b> int64</label>"
            ]
          },
          "metadata": {},
          "execution_count": 8
        }
      ]
    },
    {
      "cell_type": "code",
      "source": [
        "df[df['host_id'] == 52431987]['host_is_superhost'].value_counts()"
      ],
      "metadata": {
        "colab": {
          "base_uri": "https://localhost:8080/",
          "height": 146
        },
        "id": "5gsrBatIWfPo",
        "outputId": "8dbae804-4bf9-4fa9-bb33-4cb82ed37545"
      },
      "execution_count": 65,
      "outputs": [
        {
          "output_type": "execute_result",
          "data": {
            "text/plain": [
              "host_is_superhost\n",
              "t    96\n",
              "Name: count, dtype: int64"
            ],
            "text/html": [
              "<div>\n",
              "<style scoped>\n",
              "    .dataframe tbody tr th:only-of-type {\n",
              "        vertical-align: middle;\n",
              "    }\n",
              "\n",
              "    .dataframe tbody tr th {\n",
              "        vertical-align: top;\n",
              "    }\n",
              "\n",
              "    .dataframe thead th {\n",
              "        text-align: right;\n",
              "    }\n",
              "</style>\n",
              "<table border=\"1\" class=\"dataframe\">\n",
              "  <thead>\n",
              "    <tr style=\"text-align: right;\">\n",
              "      <th></th>\n",
              "      <th>count</th>\n",
              "    </tr>\n",
              "    <tr>\n",
              "      <th>host_is_superhost</th>\n",
              "      <th></th>\n",
              "    </tr>\n",
              "  </thead>\n",
              "  <tbody>\n",
              "    <tr>\n",
              "      <th>t</th>\n",
              "      <td>96</td>\n",
              "    </tr>\n",
              "  </tbody>\n",
              "</table>\n",
              "</div><br><label><b>dtype:</b> int64</label>"
            ]
          },
          "metadata": {},
          "execution_count": 65
        }
      ]
    },
    {
      "cell_type": "markdown",
      "source": [
        "# 호스트 227945의 인기 비결을 파보자!!!"
      ],
      "metadata": {
        "id": "8w1vUjlBRxpK"
      }
    },
    {
      "cell_type": "code",
      "source": [
        "df[df['host_id'] == 227945]['host_is_superhost'].value_counts()"
      ],
      "metadata": {
        "colab": {
          "base_uri": "https://localhost:8080/",
          "height": 146
        },
        "id": "vdJ58MmjS9On",
        "outputId": "4d54cdde-84e4-4abc-c4fb-83a52b5038c4"
      },
      "execution_count": 48,
      "outputs": [
        {
          "output_type": "execute_result",
          "data": {
            "text/plain": [
              "host_is_superhost\n",
              "f    98\n",
              "Name: count, dtype: int64"
            ],
            "text/html": [
              "<div>\n",
              "<style scoped>\n",
              "    .dataframe tbody tr th:only-of-type {\n",
              "        vertical-align: middle;\n",
              "    }\n",
              "\n",
              "    .dataframe tbody tr th {\n",
              "        vertical-align: top;\n",
              "    }\n",
              "\n",
              "    .dataframe thead th {\n",
              "        text-align: right;\n",
              "    }\n",
              "</style>\n",
              "<table border=\"1\" class=\"dataframe\">\n",
              "  <thead>\n",
              "    <tr style=\"text-align: right;\">\n",
              "      <th></th>\n",
              "      <th>count</th>\n",
              "    </tr>\n",
              "    <tr>\n",
              "      <th>host_is_superhost</th>\n",
              "      <th></th>\n",
              "    </tr>\n",
              "  </thead>\n",
              "  <tbody>\n",
              "    <tr>\n",
              "      <th>f</th>\n",
              "      <td>98</td>\n",
              "    </tr>\n",
              "  </tbody>\n",
              "</table>\n",
              "</div><br><label><b>dtype:</b> int64</label>"
            ]
          },
          "metadata": {},
          "execution_count": 48
        }
      ]
    },
    {
      "cell_type": "markdown",
      "source": [
        "### 1. 평점"
      ],
      "metadata": {
        "id": "aqVnJkBiSGY0"
      }
    },
    {
      "cell_type": "code",
      "source": [
        "df[df['host_id'] == 227945]['review_scores_rating'].max()"
      ],
      "metadata": {
        "colab": {
          "base_uri": "https://localhost:8080/"
        },
        "id": "sXjfXyX4QRHD",
        "outputId": "482fcac7-81d0-4ec2-ba47-c65bc93ea9cf"
      },
      "execution_count": 34,
      "outputs": [
        {
          "output_type": "execute_result",
          "data": {
            "text/plain": [
              "5.0"
            ]
          },
          "metadata": {},
          "execution_count": 34
        }
      ]
    },
    {
      "cell_type": "code",
      "source": [
        "df[df['host_id'] == 227945]['review_scores_rating'].mean()"
      ],
      "metadata": {
        "colab": {
          "base_uri": "https://localhost:8080/"
        },
        "id": "mEqx-QAjF2RS",
        "outputId": "4df551e4-aa2f-4fb5-fd58-61293955d009"
      },
      "execution_count": 16,
      "outputs": [
        {
          "output_type": "execute_result",
          "data": {
            "text/plain": [
              "np.float64(4.657708333333334)"
            ]
          },
          "metadata": {},
          "execution_count": 16
        }
      ]
    },
    {
      "cell_type": "code",
      "source": [
        "df['review_scores_rating'].mean() #전체 평균"
      ],
      "metadata": {
        "colab": {
          "base_uri": "https://localhost:8080/"
        },
        "id": "h81zpMzZLqT3",
        "outputId": "84f0e19c-3319-4761-ce41-9e0dfaadffee"
      },
      "execution_count": 40,
      "outputs": [
        {
          "output_type": "execute_result",
          "data": {
            "text/plain": [
              "np.float64(4.682038991056175)"
            ]
          },
          "metadata": {},
          "execution_count": 40
        }
      ]
    },
    {
      "cell_type": "code",
      "source": [
        "df[df['host_id'] == 227945]['review_scores_rating'].min()"
      ],
      "metadata": {
        "colab": {
          "base_uri": "https://localhost:8080/"
        },
        "id": "s_WY0xG7F0mU",
        "outputId": "798407d0-3c41-406a-f305-2776d1f6a35a"
      },
      "execution_count": 15,
      "outputs": [
        {
          "output_type": "execute_result",
          "data": {
            "text/plain": [
              "4.34"
            ]
          },
          "metadata": {},
          "execution_count": 15
        }
      ]
    },
    {
      "cell_type": "code",
      "source": [
        "(df[df['host_id'] == 227945]['review_scores_rating'] == 5.0).value_counts()"
      ],
      "metadata": {
        "colab": {
          "base_uri": "https://localhost:8080/",
          "height": 178
        },
        "id": "gekW2MzC4aga",
        "outputId": "e0c85f8f-d603-4cf5-ee76-7fce1b0e416f"
      },
      "execution_count": 22,
      "outputs": [
        {
          "output_type": "execute_result",
          "data": {
            "text/plain": [
              "review_scores_rating\n",
              "False    97\n",
              "True      1\n",
              "Name: count, dtype: int64"
            ],
            "text/html": [
              "<div>\n",
              "<style scoped>\n",
              "    .dataframe tbody tr th:only-of-type {\n",
              "        vertical-align: middle;\n",
              "    }\n",
              "\n",
              "    .dataframe tbody tr th {\n",
              "        vertical-align: top;\n",
              "    }\n",
              "\n",
              "    .dataframe thead th {\n",
              "        text-align: right;\n",
              "    }\n",
              "</style>\n",
              "<table border=\"1\" class=\"dataframe\">\n",
              "  <thead>\n",
              "    <tr style=\"text-align: right;\">\n",
              "      <th></th>\n",
              "      <th>count</th>\n",
              "    </tr>\n",
              "    <tr>\n",
              "      <th>review_scores_rating</th>\n",
              "      <th></th>\n",
              "    </tr>\n",
              "  </thead>\n",
              "  <tbody>\n",
              "    <tr>\n",
              "      <th>False</th>\n",
              "      <td>97</td>\n",
              "    </tr>\n",
              "    <tr>\n",
              "      <th>True</th>\n",
              "      <td>1</td>\n",
              "    </tr>\n",
              "  </tbody>\n",
              "</table>\n",
              "</div><br><label><b>dtype:</b> int64</label>"
            ]
          },
          "metadata": {},
          "execution_count": 22
        }
      ]
    },
    {
      "cell_type": "markdown",
      "source": [
        "---"
      ],
      "metadata": {
        "id": "Tgaa3gQeQSw4"
      }
    },
    {
      "cell_type": "markdown",
      "source": [
        "### 2. 리뷰 수"
      ],
      "metadata": {
        "id": "-tCvb7MsSONX"
      }
    },
    {
      "cell_type": "code",
      "source": [
        "df[df['host_id'] == 227945]['number_of_reviews'].sort_values(ascending=False)"
      ],
      "metadata": {
        "colab": {
          "base_uri": "https://localhost:8080/",
          "height": 458
        },
        "id": "3oqM6OOASwM_",
        "outputId": "1194fb06-0082-4328-e4a4-d8111211036e"
      },
      "execution_count": 46,
      "outputs": [
        {
          "output_type": "execute_result",
          "data": {
            "text/plain": [
              "163     507\n",
              "232     498\n",
              "856     485\n",
              "402     481\n",
              "1357    451\n",
              "       ... \n",
              "9592     40\n",
              "9591     26\n",
              "7753      8\n",
              "8190      0\n",
              "4049      0\n",
              "Name: number_of_reviews, Length: 98, dtype: int64"
            ],
            "text/html": [
              "<div>\n",
              "<style scoped>\n",
              "    .dataframe tbody tr th:only-of-type {\n",
              "        vertical-align: middle;\n",
              "    }\n",
              "\n",
              "    .dataframe tbody tr th {\n",
              "        vertical-align: top;\n",
              "    }\n",
              "\n",
              "    .dataframe thead th {\n",
              "        text-align: right;\n",
              "    }\n",
              "</style>\n",
              "<table border=\"1\" class=\"dataframe\">\n",
              "  <thead>\n",
              "    <tr style=\"text-align: right;\">\n",
              "      <th></th>\n",
              "      <th>number_of_reviews</th>\n",
              "    </tr>\n",
              "  </thead>\n",
              "  <tbody>\n",
              "    <tr>\n",
              "      <th>163</th>\n",
              "      <td>507</td>\n",
              "    </tr>\n",
              "    <tr>\n",
              "      <th>232</th>\n",
              "      <td>498</td>\n",
              "    </tr>\n",
              "    <tr>\n",
              "      <th>856</th>\n",
              "      <td>485</td>\n",
              "    </tr>\n",
              "    <tr>\n",
              "      <th>402</th>\n",
              "      <td>481</td>\n",
              "    </tr>\n",
              "    <tr>\n",
              "      <th>1357</th>\n",
              "      <td>451</td>\n",
              "    </tr>\n",
              "    <tr>\n",
              "      <th>...</th>\n",
              "      <td>...</td>\n",
              "    </tr>\n",
              "    <tr>\n",
              "      <th>9592</th>\n",
              "      <td>40</td>\n",
              "    </tr>\n",
              "    <tr>\n",
              "      <th>9591</th>\n",
              "      <td>26</td>\n",
              "    </tr>\n",
              "    <tr>\n",
              "      <th>7753</th>\n",
              "      <td>8</td>\n",
              "    </tr>\n",
              "    <tr>\n",
              "      <th>8190</th>\n",
              "      <td>0</td>\n",
              "    </tr>\n",
              "    <tr>\n",
              "      <th>4049</th>\n",
              "      <td>0</td>\n",
              "    </tr>\n",
              "  </tbody>\n",
              "</table>\n",
              "<p>98 rows × 1 columns</p>\n",
              "</div><br><label><b>dtype:</b> int64</label>"
            ]
          },
          "metadata": {},
          "execution_count": 46
        }
      ]
    },
    {
      "cell_type": "code",
      "source": [
        "(df[df['host_id'] == 227945]['number_of_reviews'].sort_values(ascending=False) > 100).value_counts()"
      ],
      "metadata": {
        "colab": {
          "base_uri": "https://localhost:8080/",
          "height": 178
        },
        "id": "hEcHZDgUGAa-",
        "outputId": "3d6e0837-0253-4b37-92f0-bd62ded5bea1"
      },
      "execution_count": 30,
      "outputs": [
        {
          "output_type": "execute_result",
          "data": {
            "text/plain": [
              "number_of_reviews\n",
              "True     76\n",
              "False    22\n",
              "Name: count, dtype: int64"
            ],
            "text/html": [
              "<div>\n",
              "<style scoped>\n",
              "    .dataframe tbody tr th:only-of-type {\n",
              "        vertical-align: middle;\n",
              "    }\n",
              "\n",
              "    .dataframe tbody tr th {\n",
              "        vertical-align: top;\n",
              "    }\n",
              "\n",
              "    .dataframe thead th {\n",
              "        text-align: right;\n",
              "    }\n",
              "</style>\n",
              "<table border=\"1\" class=\"dataframe\">\n",
              "  <thead>\n",
              "    <tr style=\"text-align: right;\">\n",
              "      <th></th>\n",
              "      <th>count</th>\n",
              "    </tr>\n",
              "    <tr>\n",
              "      <th>number_of_reviews</th>\n",
              "      <th></th>\n",
              "    </tr>\n",
              "  </thead>\n",
              "  <tbody>\n",
              "    <tr>\n",
              "      <th>True</th>\n",
              "      <td>76</td>\n",
              "    </tr>\n",
              "    <tr>\n",
              "      <th>False</th>\n",
              "      <td>22</td>\n",
              "    </tr>\n",
              "  </tbody>\n",
              "</table>\n",
              "</div><br><label><b>dtype:</b> int64</label>"
            ]
          },
          "metadata": {},
          "execution_count": 30
        }
      ]
    },
    {
      "cell_type": "code",
      "source": [
        "76/98"
      ],
      "metadata": {
        "colab": {
          "base_uri": "https://localhost:8080/"
        },
        "id": "WEDXwciHPaVU",
        "outputId": "9af553e7-75bf-4533-a991-2b30bcd00565"
      },
      "execution_count": 31,
      "outputs": [
        {
          "output_type": "execute_result",
          "data": {
            "text/plain": [
              "0.7755102040816326"
            ]
          },
          "metadata": {},
          "execution_count": 31
        }
      ]
    },
    {
      "cell_type": "code",
      "source": [
        "(df[df['host_id'] == 227945]['number_of_reviews'].sort_values(ascending=False) > 200).value_counts()"
      ],
      "metadata": {
        "colab": {
          "base_uri": "https://localhost:8080/",
          "height": 178
        },
        "id": "6RZRj4GoPedO",
        "outputId": "e71c8162-ce73-485c-bbac-bf0cc866f413"
      },
      "execution_count": 32,
      "outputs": [
        {
          "output_type": "execute_result",
          "data": {
            "text/plain": [
              "number_of_reviews\n",
              "True     54\n",
              "False    44\n",
              "Name: count, dtype: int64"
            ],
            "text/html": [
              "<div>\n",
              "<style scoped>\n",
              "    .dataframe tbody tr th:only-of-type {\n",
              "        vertical-align: middle;\n",
              "    }\n",
              "\n",
              "    .dataframe tbody tr th {\n",
              "        vertical-align: top;\n",
              "    }\n",
              "\n",
              "    .dataframe thead th {\n",
              "        text-align: right;\n",
              "    }\n",
              "</style>\n",
              "<table border=\"1\" class=\"dataframe\">\n",
              "  <thead>\n",
              "    <tr style=\"text-align: right;\">\n",
              "      <th></th>\n",
              "      <th>count</th>\n",
              "    </tr>\n",
              "    <tr>\n",
              "      <th>number_of_reviews</th>\n",
              "      <th></th>\n",
              "    </tr>\n",
              "  </thead>\n",
              "  <tbody>\n",
              "    <tr>\n",
              "      <th>True</th>\n",
              "      <td>54</td>\n",
              "    </tr>\n",
              "    <tr>\n",
              "      <th>False</th>\n",
              "      <td>44</td>\n",
              "    </tr>\n",
              "  </tbody>\n",
              "</table>\n",
              "</div><br><label><b>dtype:</b> int64</label>"
            ]
          },
          "metadata": {},
          "execution_count": 32
        }
      ]
    },
    {
      "cell_type": "code",
      "source": [
        "54/98"
      ],
      "metadata": {
        "colab": {
          "base_uri": "https://localhost:8080/"
        },
        "id": "0izW4Ci3PmGL",
        "outputId": "9efbd697-22ca-4f61-8ae3-aceb5c2eabac"
      },
      "execution_count": 33,
      "outputs": [
        {
          "output_type": "execute_result",
          "data": {
            "text/plain": [
              "0.5510204081632653"
            ]
          },
          "metadata": {},
          "execution_count": 33
        }
      ]
    },
    {
      "cell_type": "markdown",
      "source": [
        "---"
      ],
      "metadata": {
        "id": "I_jLgmCHQVC2"
      }
    },
    {
      "cell_type": "markdown",
      "source": [
        "### 3. 응답율"
      ],
      "metadata": {
        "id": "0FRnZ-lxSQRw"
      }
    },
    {
      "cell_type": "code",
      "source": [
        "df[df['host_id'] == 227945]['host_response_rate'].value_counts()"
      ],
      "metadata": {
        "colab": {
          "base_uri": "https://localhost:8080/",
          "height": 178
        },
        "id": "MZ6aRtWFQiT0",
        "outputId": "afaac66a-e4d1-4266-a987-567c956df727"
      },
      "execution_count": 37,
      "outputs": [
        {
          "output_type": "execute_result",
          "data": {
            "text/plain": [
              "host_response_rate\n",
              "99%     82\n",
              "100%    16\n",
              "Name: count, dtype: int64"
            ],
            "text/html": [
              "<div>\n",
              "<style scoped>\n",
              "    .dataframe tbody tr th:only-of-type {\n",
              "        vertical-align: middle;\n",
              "    }\n",
              "\n",
              "    .dataframe tbody tr th {\n",
              "        vertical-align: top;\n",
              "    }\n",
              "\n",
              "    .dataframe thead th {\n",
              "        text-align: right;\n",
              "    }\n",
              "</style>\n",
              "<table border=\"1\" class=\"dataframe\">\n",
              "  <thead>\n",
              "    <tr style=\"text-align: right;\">\n",
              "      <th></th>\n",
              "      <th>count</th>\n",
              "    </tr>\n",
              "    <tr>\n",
              "      <th>host_response_rate</th>\n",
              "      <th></th>\n",
              "    </tr>\n",
              "  </thead>\n",
              "  <tbody>\n",
              "    <tr>\n",
              "      <th>99%</th>\n",
              "      <td>82</td>\n",
              "    </tr>\n",
              "    <tr>\n",
              "      <th>100%</th>\n",
              "      <td>16</td>\n",
              "    </tr>\n",
              "  </tbody>\n",
              "</table>\n",
              "</div><br><label><b>dtype:</b> int64</label>"
            ]
          },
          "metadata": {},
          "execution_count": 37
        }
      ]
    },
    {
      "cell_type": "code",
      "source": [
        "82/98"
      ],
      "metadata": {
        "colab": {
          "base_uri": "https://localhost:8080/"
        },
        "id": "8EwQUaKFRY10",
        "outputId": "031f6aa0-a30c-4a68-ba03-6c1c58e5263e"
      },
      "execution_count": 39,
      "outputs": [
        {
          "output_type": "execute_result",
          "data": {
            "text/plain": [
              "0.8367346938775511"
            ]
          },
          "metadata": {},
          "execution_count": 39
        }
      ]
    },
    {
      "cell_type": "markdown",
      "source": [
        "----"
      ],
      "metadata": {
        "id": "XGuPDJqGRClN"
      }
    },
    {
      "cell_type": "markdown",
      "source": [
        "### 4. 취소율"
      ],
      "metadata": {
        "id": "AkEdh01YSSAh"
      }
    },
    {
      "cell_type": "code",
      "source": [
        "df[df['host_id'] == 227945]['host_acceptance_rate'].value_counts()"
      ],
      "metadata": {
        "colab": {
          "base_uri": "https://localhost:8080/",
          "height": 146
        },
        "id": "AAdGJvu64aRe",
        "outputId": "a2aa57ed-23b9-4684-e017-80849884656a"
      },
      "execution_count": 38,
      "outputs": [
        {
          "output_type": "execute_result",
          "data": {
            "text/plain": [
              "host_acceptance_rate\n",
              "100%    98\n",
              "Name: count, dtype: int64"
            ],
            "text/html": [
              "<div>\n",
              "<style scoped>\n",
              "    .dataframe tbody tr th:only-of-type {\n",
              "        vertical-align: middle;\n",
              "    }\n",
              "\n",
              "    .dataframe tbody tr th {\n",
              "        vertical-align: top;\n",
              "    }\n",
              "\n",
              "    .dataframe thead th {\n",
              "        text-align: right;\n",
              "    }\n",
              "</style>\n",
              "<table border=\"1\" class=\"dataframe\">\n",
              "  <thead>\n",
              "    <tr style=\"text-align: right;\">\n",
              "      <th></th>\n",
              "      <th>count</th>\n",
              "    </tr>\n",
              "    <tr>\n",
              "      <th>host_acceptance_rate</th>\n",
              "      <th></th>\n",
              "    </tr>\n",
              "  </thead>\n",
              "  <tbody>\n",
              "    <tr>\n",
              "      <th>100%</th>\n",
              "      <td>98</td>\n",
              "    </tr>\n",
              "  </tbody>\n",
              "</table>\n",
              "</div><br><label><b>dtype:</b> int64</label>"
            ]
          },
          "metadata": {},
          "execution_count": 38
        }
      ]
    },
    {
      "cell_type": "markdown",
      "source": [
        "---"
      ],
      "metadata": {
        "id": "MEXr_nmAUiMQ"
      }
    },
    {
      "cell_type": "code",
      "source": [
        "df['price'].str.replace('$','').replace(',','')"
      ],
      "metadata": {
        "colab": {
          "base_uri": "https://localhost:8080/",
          "height": 458
        },
        "id": "pO7K--HJT2bi",
        "outputId": "685ea53f-5de2-4b97-c166-1fa89cfc3c2b"
      },
      "execution_count": 57,
      "outputs": [
        {
          "output_type": "execute_result",
          "data": {
            "text/plain": [
              "0        3,955.00\n",
              "1        2,955.00\n",
              "2        3,223.00\n",
              "3        6,741.00\n",
              "4        2,763.00\n",
              "           ...   \n",
              "11441      523.00\n",
              "11442    2,357.00\n",
              "11443    1,120.00\n",
              "11444    1,141.00\n",
              "11445    1,518.00\n",
              "Name: price, Length: 11446, dtype: object"
            ],
            "text/html": [
              "<div>\n",
              "<style scoped>\n",
              "    .dataframe tbody tr th:only-of-type {\n",
              "        vertical-align: middle;\n",
              "    }\n",
              "\n",
              "    .dataframe tbody tr th {\n",
              "        vertical-align: top;\n",
              "    }\n",
              "\n",
              "    .dataframe thead th {\n",
              "        text-align: right;\n",
              "    }\n",
              "</style>\n",
              "<table border=\"1\" class=\"dataframe\">\n",
              "  <thead>\n",
              "    <tr style=\"text-align: right;\">\n",
              "      <th></th>\n",
              "      <th>price</th>\n",
              "    </tr>\n",
              "  </thead>\n",
              "  <tbody>\n",
              "    <tr>\n",
              "      <th>0</th>\n",
              "      <td>3,955.00</td>\n",
              "    </tr>\n",
              "    <tr>\n",
              "      <th>1</th>\n",
              "      <td>2,955.00</td>\n",
              "    </tr>\n",
              "    <tr>\n",
              "      <th>2</th>\n",
              "      <td>3,223.00</td>\n",
              "    </tr>\n",
              "    <tr>\n",
              "      <th>3</th>\n",
              "      <td>6,741.00</td>\n",
              "    </tr>\n",
              "    <tr>\n",
              "      <th>4</th>\n",
              "      <td>2,763.00</td>\n",
              "    </tr>\n",
              "    <tr>\n",
              "      <th>...</th>\n",
              "      <td>...</td>\n",
              "    </tr>\n",
              "    <tr>\n",
              "      <th>11441</th>\n",
              "      <td>523.00</td>\n",
              "    </tr>\n",
              "    <tr>\n",
              "      <th>11442</th>\n",
              "      <td>2,357.00</td>\n",
              "    </tr>\n",
              "    <tr>\n",
              "      <th>11443</th>\n",
              "      <td>1,120.00</td>\n",
              "    </tr>\n",
              "    <tr>\n",
              "      <th>11444</th>\n",
              "      <td>1,141.00</td>\n",
              "    </tr>\n",
              "    <tr>\n",
              "      <th>11445</th>\n",
              "      <td>1,518.00</td>\n",
              "    </tr>\n",
              "  </tbody>\n",
              "</table>\n",
              "<p>11446 rows × 1 columns</p>\n",
              "</div><br><label><b>dtype:</b> object</label>"
            ]
          },
          "metadata": {},
          "execution_count": 57
        }
      ]
    },
    {
      "cell_type": "code",
      "source": [
        "df[df['host_id'] == 227945]['price']"
      ],
      "metadata": {
        "colab": {
          "base_uri": "https://localhost:8080/",
          "height": 458
        },
        "id": "uhK-bFjlTxNT",
        "outputId": "33475dbc-d051-470d-dd38-a35a760a12ae"
      },
      "execution_count": 52,
      "outputs": [
        {
          "output_type": "execute_result",
          "data": {
            "text/plain": [
              "5        $1,919.00\n",
              "6              NaN\n",
              "7        $2,434.00\n",
              "8        $1,521.00\n",
              "20       $1,695.00\n",
              "           ...    \n",
              "9397           NaN\n",
              "9588     $1,492.00\n",
              "9591           NaN\n",
              "9592           NaN\n",
              "11230    $2,038.00\n",
              "Name: price, Length: 98, dtype: object"
            ],
            "text/html": [
              "<div>\n",
              "<style scoped>\n",
              "    .dataframe tbody tr th:only-of-type {\n",
              "        vertical-align: middle;\n",
              "    }\n",
              "\n",
              "    .dataframe tbody tr th {\n",
              "        vertical-align: top;\n",
              "    }\n",
              "\n",
              "    .dataframe thead th {\n",
              "        text-align: right;\n",
              "    }\n",
              "</style>\n",
              "<table border=\"1\" class=\"dataframe\">\n",
              "  <thead>\n",
              "    <tr style=\"text-align: right;\">\n",
              "      <th></th>\n",
              "      <th>price</th>\n",
              "    </tr>\n",
              "  </thead>\n",
              "  <tbody>\n",
              "    <tr>\n",
              "      <th>5</th>\n",
              "      <td>$1,919.00</td>\n",
              "    </tr>\n",
              "    <tr>\n",
              "      <th>6</th>\n",
              "      <td>NaN</td>\n",
              "    </tr>\n",
              "    <tr>\n",
              "      <th>7</th>\n",
              "      <td>$2,434.00</td>\n",
              "    </tr>\n",
              "    <tr>\n",
              "      <th>8</th>\n",
              "      <td>$1,521.00</td>\n",
              "    </tr>\n",
              "    <tr>\n",
              "      <th>20</th>\n",
              "      <td>$1,695.00</td>\n",
              "    </tr>\n",
              "    <tr>\n",
              "      <th>...</th>\n",
              "      <td>...</td>\n",
              "    </tr>\n",
              "    <tr>\n",
              "      <th>9397</th>\n",
              "      <td>NaN</td>\n",
              "    </tr>\n",
              "    <tr>\n",
              "      <th>9588</th>\n",
              "      <td>$1,492.00</td>\n",
              "    </tr>\n",
              "    <tr>\n",
              "      <th>9591</th>\n",
              "      <td>NaN</td>\n",
              "    </tr>\n",
              "    <tr>\n",
              "      <th>9592</th>\n",
              "      <td>NaN</td>\n",
              "    </tr>\n",
              "    <tr>\n",
              "      <th>11230</th>\n",
              "      <td>$2,038.00</td>\n",
              "    </tr>\n",
              "  </tbody>\n",
              "</table>\n",
              "<p>98 rows × 1 columns</p>\n",
              "</div><br><label><b>dtype:</b> object</label>"
            ]
          },
          "metadata": {},
          "execution_count": 52
        }
      ]
    },
    {
      "cell_type": "markdown",
      "source": [
        "#[결론]"
      ],
      "metadata": {
        "id": "Yh9eHpplST3a"
      }
    },
    {
      "cell_type": "markdown",
      "source": [
        "예약 수가 가장 많은 호스트(227945)에게서 발견한 사실\n",
        "\n",
        "0. 슈퍼호스트 X\n",
        "1. 평점은 평균 평점보다 낮다. (4.66 < 4.68)\n",
        "2. 최고 평점은 5.0 but, 98개 중 1개\n",
        "3. 리뷰가 100개 이상인 숙소는 77%, 200개 이상인 숙소는 55% (인과관계가 불명확.... 일단은 pass)\n",
        "4. 응답율은 99%가 83%, 100%가 17%\n",
        "5. 취소율은 전부 0%"
      ],
      "metadata": {
        "id": "MavZqw6URjn9"
      }
    },
    {
      "cell_type": "markdown",
      "source": [
        "# 동순위인 호스트 5463516의 인기 비결도 살펴보자!!"
      ],
      "metadata": {
        "id": "R5wcmkLAScc4"
      }
    },
    {
      "cell_type": "code",
      "source": [
        "df[df['host_id'] == 5463516]['host_is_superhost'].value_counts()"
      ],
      "metadata": {
        "colab": {
          "base_uri": "https://localhost:8080/",
          "height": 146
        },
        "id": "QGaEDC-yTjts",
        "outputId": "9784c769-e6cb-480f-cde4-1d7822e7aca0"
      },
      "execution_count": 49,
      "outputs": [
        {
          "output_type": "execute_result",
          "data": {
            "text/plain": [
              "host_is_superhost\n",
              "f    98\n",
              "Name: count, dtype: int64"
            ],
            "text/html": [
              "<div>\n",
              "<style scoped>\n",
              "    .dataframe tbody tr th:only-of-type {\n",
              "        vertical-align: middle;\n",
              "    }\n",
              "\n",
              "    .dataframe tbody tr th {\n",
              "        vertical-align: top;\n",
              "    }\n",
              "\n",
              "    .dataframe thead th {\n",
              "        text-align: right;\n",
              "    }\n",
              "</style>\n",
              "<table border=\"1\" class=\"dataframe\">\n",
              "  <thead>\n",
              "    <tr style=\"text-align: right;\">\n",
              "      <th></th>\n",
              "      <th>count</th>\n",
              "    </tr>\n",
              "    <tr>\n",
              "      <th>host_is_superhost</th>\n",
              "      <th></th>\n",
              "    </tr>\n",
              "  </thead>\n",
              "  <tbody>\n",
              "    <tr>\n",
              "      <th>f</th>\n",
              "      <td>98</td>\n",
              "    </tr>\n",
              "  </tbody>\n",
              "</table>\n",
              "</div><br><label><b>dtype:</b> int64</label>"
            ]
          },
          "metadata": {},
          "execution_count": 49
        }
      ]
    },
    {
      "cell_type": "markdown",
      "source": [
        "### 1. 평점"
      ],
      "metadata": {
        "id": "q8EAae5WSkkK"
      }
    },
    {
      "cell_type": "code",
      "source": [
        "df[df['host_id'] == 5463516]['review_scores_rating'].max()"
      ],
      "metadata": {
        "colab": {
          "base_uri": "https://localhost:8080/"
        },
        "id": "AfeC9vKDScDF",
        "outputId": "ebe3331a-a76e-439f-bc00-148f7ac26eb2"
      },
      "execution_count": 41,
      "outputs": [
        {
          "output_type": "execute_result",
          "data": {
            "text/plain": [
              "5.0"
            ]
          },
          "metadata": {},
          "execution_count": 41
        }
      ]
    },
    {
      "cell_type": "code",
      "source": [
        "df[df['host_id'] == 5463516]['review_scores_rating'].mean()"
      ],
      "metadata": {
        "colab": {
          "base_uri": "https://localhost:8080/"
        },
        "id": "3yAQ2sxp4aKd",
        "outputId": "08ed75f3-3b0d-4f0e-d167-379c5c2c95fd"
      },
      "execution_count": 43,
      "outputs": [
        {
          "output_type": "execute_result",
          "data": {
            "text/plain": [
              "np.float64(4.601063829787234)"
            ]
          },
          "metadata": {},
          "execution_count": 43
        }
      ]
    },
    {
      "cell_type": "code",
      "source": [
        "df[df['host_id'] == 5463516]['review_scores_rating'].min()"
      ],
      "metadata": {
        "colab": {
          "base_uri": "https://localhost:8080/"
        },
        "id": "GBq9z6AeREim",
        "outputId": "57a62059-4df1-4822-ae9a-eeeb2d62c76d"
      },
      "execution_count": 44,
      "outputs": [
        {
          "output_type": "execute_result",
          "data": {
            "text/plain": [
              "3.33"
            ]
          },
          "metadata": {},
          "execution_count": 44
        }
      ]
    },
    {
      "cell_type": "markdown",
      "source": [
        "---"
      ],
      "metadata": {
        "id": "KlwGvTo1SrJd"
      }
    },
    {
      "cell_type": "markdown",
      "source": [
        "# 2. 리뷰 수"
      ],
      "metadata": {
        "id": "3uCobHfYSsKw"
      }
    },
    {
      "cell_type": "code",
      "source": [
        "df[df['host_id'] == 5463516]['number_of_reviews'].sort_values(ascending=False)"
      ],
      "metadata": {
        "colab": {
          "base_uri": "https://localhost:8080/",
          "height": 458
        },
        "id": "Finer44oUadG",
        "outputId": "2cd94cf6-da1d-4ca1-9875-5ebd29bad0e9"
      },
      "execution_count": 59,
      "outputs": [
        {
          "output_type": "execute_result",
          "data": {
            "text/plain": [
              "158      412\n",
              "1368     391\n",
              "10379    336\n",
              "1801     331\n",
              "1766     316\n",
              "        ... \n",
              "7056       3\n",
              "8344       0\n",
              "8194       0\n",
              "8188       0\n",
              "8165       0\n",
              "Name: number_of_reviews, Length: 98, dtype: int64"
            ],
            "text/html": [
              "<div>\n",
              "<style scoped>\n",
              "    .dataframe tbody tr th:only-of-type {\n",
              "        vertical-align: middle;\n",
              "    }\n",
              "\n",
              "    .dataframe tbody tr th {\n",
              "        vertical-align: top;\n",
              "    }\n",
              "\n",
              "    .dataframe thead th {\n",
              "        text-align: right;\n",
              "    }\n",
              "</style>\n",
              "<table border=\"1\" class=\"dataframe\">\n",
              "  <thead>\n",
              "    <tr style=\"text-align: right;\">\n",
              "      <th></th>\n",
              "      <th>number_of_reviews</th>\n",
              "    </tr>\n",
              "  </thead>\n",
              "  <tbody>\n",
              "    <tr>\n",
              "      <th>158</th>\n",
              "      <td>412</td>\n",
              "    </tr>\n",
              "    <tr>\n",
              "      <th>1368</th>\n",
              "      <td>391</td>\n",
              "    </tr>\n",
              "    <tr>\n",
              "      <th>10379</th>\n",
              "      <td>336</td>\n",
              "    </tr>\n",
              "    <tr>\n",
              "      <th>1801</th>\n",
              "      <td>331</td>\n",
              "    </tr>\n",
              "    <tr>\n",
              "      <th>1766</th>\n",
              "      <td>316</td>\n",
              "    </tr>\n",
              "    <tr>\n",
              "      <th>...</th>\n",
              "      <td>...</td>\n",
              "    </tr>\n",
              "    <tr>\n",
              "      <th>7056</th>\n",
              "      <td>3</td>\n",
              "    </tr>\n",
              "    <tr>\n",
              "      <th>8344</th>\n",
              "      <td>0</td>\n",
              "    </tr>\n",
              "    <tr>\n",
              "      <th>8194</th>\n",
              "      <td>0</td>\n",
              "    </tr>\n",
              "    <tr>\n",
              "      <th>8188</th>\n",
              "      <td>0</td>\n",
              "    </tr>\n",
              "    <tr>\n",
              "      <th>8165</th>\n",
              "      <td>0</td>\n",
              "    </tr>\n",
              "  </tbody>\n",
              "</table>\n",
              "<p>98 rows × 1 columns</p>\n",
              "</div><br><label><b>dtype:</b> int64</label>"
            ]
          },
          "metadata": {},
          "execution_count": 59
        }
      ]
    },
    {
      "cell_type": "code",
      "source": [
        "(df[df['host_id'] == 5463516]['number_of_reviews'].sort_values(ascending=False) > 100).value_counts()"
      ],
      "metadata": {
        "colab": {
          "base_uri": "https://localhost:8080/",
          "height": 178
        },
        "id": "nOneN24xREfZ",
        "outputId": "5f47fba7-924a-4be4-a5b2-c98a389e52d9"
      },
      "execution_count": 58,
      "outputs": [
        {
          "output_type": "execute_result",
          "data": {
            "text/plain": [
              "number_of_reviews\n",
              "False    70\n",
              "True     28\n",
              "Name: count, dtype: int64"
            ],
            "text/html": [
              "<div>\n",
              "<style scoped>\n",
              "    .dataframe tbody tr th:only-of-type {\n",
              "        vertical-align: middle;\n",
              "    }\n",
              "\n",
              "    .dataframe tbody tr th {\n",
              "        vertical-align: top;\n",
              "    }\n",
              "\n",
              "    .dataframe thead th {\n",
              "        text-align: right;\n",
              "    }\n",
              "</style>\n",
              "<table border=\"1\" class=\"dataframe\">\n",
              "  <thead>\n",
              "    <tr style=\"text-align: right;\">\n",
              "      <th></th>\n",
              "      <th>count</th>\n",
              "    </tr>\n",
              "    <tr>\n",
              "      <th>number_of_reviews</th>\n",
              "      <th></th>\n",
              "    </tr>\n",
              "  </thead>\n",
              "  <tbody>\n",
              "    <tr>\n",
              "      <th>False</th>\n",
              "      <td>70</td>\n",
              "    </tr>\n",
              "    <tr>\n",
              "      <th>True</th>\n",
              "      <td>28</td>\n",
              "    </tr>\n",
              "  </tbody>\n",
              "</table>\n",
              "</div><br><label><b>dtype:</b> int64</label>"
            ]
          },
          "metadata": {},
          "execution_count": 58
        }
      ]
    },
    {
      "cell_type": "code",
      "source": [
        "(df[df['host_id'] == 5463516]['number_of_reviews'].sort_values(ascending=False) > 200).value_counts()"
      ],
      "metadata": {
        "colab": {
          "base_uri": "https://localhost:8080/",
          "height": 178
        },
        "id": "RmOoY7dhREaw",
        "outputId": "07bbf65b-431e-43df-8e9c-3ec5af061588"
      },
      "execution_count": 60,
      "outputs": [
        {
          "output_type": "execute_result",
          "data": {
            "text/plain": [
              "number_of_reviews\n",
              "False    85\n",
              "True     13\n",
              "Name: count, dtype: int64"
            ],
            "text/html": [
              "<div>\n",
              "<style scoped>\n",
              "    .dataframe tbody tr th:only-of-type {\n",
              "        vertical-align: middle;\n",
              "    }\n",
              "\n",
              "    .dataframe tbody tr th {\n",
              "        vertical-align: top;\n",
              "    }\n",
              "\n",
              "    .dataframe thead th {\n",
              "        text-align: right;\n",
              "    }\n",
              "</style>\n",
              "<table border=\"1\" class=\"dataframe\">\n",
              "  <thead>\n",
              "    <tr style=\"text-align: right;\">\n",
              "      <th></th>\n",
              "      <th>count</th>\n",
              "    </tr>\n",
              "    <tr>\n",
              "      <th>number_of_reviews</th>\n",
              "      <th></th>\n",
              "    </tr>\n",
              "  </thead>\n",
              "  <tbody>\n",
              "    <tr>\n",
              "      <th>False</th>\n",
              "      <td>85</td>\n",
              "    </tr>\n",
              "    <tr>\n",
              "      <th>True</th>\n",
              "      <td>13</td>\n",
              "    </tr>\n",
              "  </tbody>\n",
              "</table>\n",
              "</div><br><label><b>dtype:</b> int64</label>"
            ]
          },
          "metadata": {},
          "execution_count": 60
        }
      ]
    },
    {
      "cell_type": "markdown",
      "source": [
        "---"
      ],
      "metadata": {
        "id": "uRms_eqIUkBp"
      }
    },
    {
      "cell_type": "markdown",
      "source": [
        "### 3. 응답율"
      ],
      "metadata": {
        "id": "85LlGb_mUk_m"
      }
    },
    {
      "cell_type": "code",
      "source": [
        "df[df['host_id'] == 5463516]['host_response_rate'].value_counts()"
      ],
      "metadata": {
        "colab": {
          "base_uri": "https://localhost:8080/",
          "height": 146
        },
        "id": "e6iZxB0GREV6",
        "outputId": "9d757ba0-f11d-429f-e00c-d5d725b37f91"
      },
      "execution_count": 61,
      "outputs": [
        {
          "output_type": "execute_result",
          "data": {
            "text/plain": [
              "host_response_rate\n",
              "100%    98\n",
              "Name: count, dtype: int64"
            ],
            "text/html": [
              "<div>\n",
              "<style scoped>\n",
              "    .dataframe tbody tr th:only-of-type {\n",
              "        vertical-align: middle;\n",
              "    }\n",
              "\n",
              "    .dataframe tbody tr th {\n",
              "        vertical-align: top;\n",
              "    }\n",
              "\n",
              "    .dataframe thead th {\n",
              "        text-align: right;\n",
              "    }\n",
              "</style>\n",
              "<table border=\"1\" class=\"dataframe\">\n",
              "  <thead>\n",
              "    <tr style=\"text-align: right;\">\n",
              "      <th></th>\n",
              "      <th>count</th>\n",
              "    </tr>\n",
              "    <tr>\n",
              "      <th>host_response_rate</th>\n",
              "      <th></th>\n",
              "    </tr>\n",
              "  </thead>\n",
              "  <tbody>\n",
              "    <tr>\n",
              "      <th>100%</th>\n",
              "      <td>98</td>\n",
              "    </tr>\n",
              "  </tbody>\n",
              "</table>\n",
              "</div><br><label><b>dtype:</b> int64</label>"
            ]
          },
          "metadata": {},
          "execution_count": 61
        }
      ]
    },
    {
      "cell_type": "markdown",
      "source": [
        "---"
      ],
      "metadata": {
        "id": "0SCKhUUrUo2_"
      }
    },
    {
      "cell_type": "markdown",
      "source": [
        "### 4. 취소율"
      ],
      "metadata": {
        "id": "g_6j4QueUp9m"
      }
    },
    {
      "cell_type": "code",
      "source": [
        "df[df['host_id'] == 5463516]['host_acceptance_rate'].value_counts()"
      ],
      "metadata": {
        "colab": {
          "base_uri": "https://localhost:8080/",
          "height": 146
        },
        "id": "wuyH5-HzUogE",
        "outputId": "e06f466b-63c3-4ff4-c900-a9dd71c89634"
      },
      "execution_count": 62,
      "outputs": [
        {
          "output_type": "execute_result",
          "data": {
            "text/plain": [
              "host_acceptance_rate\n",
              "100%    98\n",
              "Name: count, dtype: int64"
            ],
            "text/html": [
              "<div>\n",
              "<style scoped>\n",
              "    .dataframe tbody tr th:only-of-type {\n",
              "        vertical-align: middle;\n",
              "    }\n",
              "\n",
              "    .dataframe tbody tr th {\n",
              "        vertical-align: top;\n",
              "    }\n",
              "\n",
              "    .dataframe thead th {\n",
              "        text-align: right;\n",
              "    }\n",
              "</style>\n",
              "<table border=\"1\" class=\"dataframe\">\n",
              "  <thead>\n",
              "    <tr style=\"text-align: right;\">\n",
              "      <th></th>\n",
              "      <th>count</th>\n",
              "    </tr>\n",
              "    <tr>\n",
              "      <th>host_acceptance_rate</th>\n",
              "      <th></th>\n",
              "    </tr>\n",
              "  </thead>\n",
              "  <tbody>\n",
              "    <tr>\n",
              "      <th>100%</th>\n",
              "      <td>98</td>\n",
              "    </tr>\n",
              "  </tbody>\n",
              "</table>\n",
              "</div><br><label><b>dtype:</b> int64</label>"
            ]
          },
          "metadata": {},
          "execution_count": 62
        }
      ]
    },
    {
      "cell_type": "code",
      "source": [],
      "metadata": {
        "id": "ld0oxkMLRESL"
      },
      "execution_count": null,
      "outputs": []
    },
    {
      "cell_type": "markdown",
      "source": [
        "--------"
      ],
      "metadata": {
        "id": "iqWVKam-Ykoe"
      }
    },
    {
      "cell_type": "markdown",
      "source": [
        "# 3위 !"
      ],
      "metadata": {
        "id": "FbLPLJPbYlaw"
      }
    },
    {
      "cell_type": "code",
      "source": [
        "df['minimum_nights']"
      ],
      "metadata": {
        "colab": {
          "base_uri": "https://localhost:8080/",
          "height": 458
        },
        "id": "jD5fzNVaREQE",
        "outputId": "53b6faa1-d1de-48eb-d118-62f4eac26555"
      },
      "execution_count": 76,
      "outputs": [
        {
          "output_type": "execute_result",
          "data": {
            "text/plain": [
              "0        1\n",
              "1        1\n",
              "2        3\n",
              "3        1\n",
              "4        7\n",
              "        ..\n",
              "11441    1\n",
              "11442    2\n",
              "11443    3\n",
              "11444    1\n",
              "11445    1\n",
              "Name: minimum_nights, Length: 11446, dtype: int64"
            ],
            "text/html": [
              "<div>\n",
              "<style scoped>\n",
              "    .dataframe tbody tr th:only-of-type {\n",
              "        vertical-align: middle;\n",
              "    }\n",
              "\n",
              "    .dataframe tbody tr th {\n",
              "        vertical-align: top;\n",
              "    }\n",
              "\n",
              "    .dataframe thead th {\n",
              "        text-align: right;\n",
              "    }\n",
              "</style>\n",
              "<table border=\"1\" class=\"dataframe\">\n",
              "  <thead>\n",
              "    <tr style=\"text-align: right;\">\n",
              "      <th></th>\n",
              "      <th>minimum_nights</th>\n",
              "    </tr>\n",
              "  </thead>\n",
              "  <tbody>\n",
              "    <tr>\n",
              "      <th>0</th>\n",
              "      <td>1</td>\n",
              "    </tr>\n",
              "    <tr>\n",
              "      <th>1</th>\n",
              "      <td>1</td>\n",
              "    </tr>\n",
              "    <tr>\n",
              "      <th>2</th>\n",
              "      <td>3</td>\n",
              "    </tr>\n",
              "    <tr>\n",
              "      <th>3</th>\n",
              "      <td>1</td>\n",
              "    </tr>\n",
              "    <tr>\n",
              "      <th>4</th>\n",
              "      <td>7</td>\n",
              "    </tr>\n",
              "    <tr>\n",
              "      <th>...</th>\n",
              "      <td>...</td>\n",
              "    </tr>\n",
              "    <tr>\n",
              "      <th>11441</th>\n",
              "      <td>1</td>\n",
              "    </tr>\n",
              "    <tr>\n",
              "      <th>11442</th>\n",
              "      <td>2</td>\n",
              "    </tr>\n",
              "    <tr>\n",
              "      <th>11443</th>\n",
              "      <td>3</td>\n",
              "    </tr>\n",
              "    <tr>\n",
              "      <th>11444</th>\n",
              "      <td>1</td>\n",
              "    </tr>\n",
              "    <tr>\n",
              "      <th>11445</th>\n",
              "      <td>1</td>\n",
              "    </tr>\n",
              "  </tbody>\n",
              "</table>\n",
              "<p>11446 rows × 1 columns</p>\n",
              "</div><br><label><b>dtype:</b> int64</label>"
            ]
          },
          "metadata": {},
          "execution_count": 76
        }
      ]
    },
    {
      "cell_type": "code",
      "source": [
        "(df['id'].value_counts() != 1).value_counts()"
      ],
      "metadata": {
        "colab": {
          "base_uri": "https://localhost:8080/",
          "height": 146
        },
        "id": "ESGZ3JcDRENo",
        "outputId": "28344988-96d6-4823-ed38-8ef416862844"
      },
      "execution_count": 75,
      "outputs": [
        {
          "output_type": "execute_result",
          "data": {
            "text/plain": [
              "count\n",
              "False    11446\n",
              "Name: count, dtype: int64"
            ],
            "text/html": [
              "<div>\n",
              "<style scoped>\n",
              "    .dataframe tbody tr th:only-of-type {\n",
              "        vertical-align: middle;\n",
              "    }\n",
              "\n",
              "    .dataframe tbody tr th {\n",
              "        vertical-align: top;\n",
              "    }\n",
              "\n",
              "    .dataframe thead th {\n",
              "        text-align: right;\n",
              "    }\n",
              "</style>\n",
              "<table border=\"1\" class=\"dataframe\">\n",
              "  <thead>\n",
              "    <tr style=\"text-align: right;\">\n",
              "      <th></th>\n",
              "      <th>count</th>\n",
              "    </tr>\n",
              "    <tr>\n",
              "      <th>count</th>\n",
              "      <th></th>\n",
              "    </tr>\n",
              "  </thead>\n",
              "  <tbody>\n",
              "    <tr>\n",
              "      <th>False</th>\n",
              "      <td>11446</td>\n",
              "    </tr>\n",
              "  </tbody>\n",
              "</table>\n",
              "</div><br><label><b>dtype:</b> int64</label>"
            ]
          },
          "metadata": {},
          "execution_count": 75
        }
      ]
    },
    {
      "cell_type": "code",
      "source": [],
      "metadata": {
        "id": "TWdwnyhLREKg"
      },
      "execution_count": null,
      "outputs": []
    },
    {
      "cell_type": "code",
      "source": [],
      "metadata": {
        "id": "2l1bWo39gQL7"
      },
      "execution_count": null,
      "outputs": []
    },
    {
      "cell_type": "code",
      "source": [],
      "metadata": {
        "id": "ezRgiP9RgQHC"
      },
      "execution_count": null,
      "outputs": []
    },
    {
      "cell_type": "code",
      "source": [],
      "metadata": {
        "id": "JmB8_yBqgQDW"
      },
      "execution_count": null,
      "outputs": []
    },
    {
      "cell_type": "code",
      "source": [],
      "metadata": {
        "id": "G2ScTAjhgQAi"
      },
      "execution_count": null,
      "outputs": []
    },
    {
      "cell_type": "code",
      "source": [],
      "metadata": {
        "id": "FTDzVctqgP93"
      },
      "execution_count": null,
      "outputs": []
    },
    {
      "cell_type": "code",
      "source": [],
      "metadata": {
        "id": "VVfIeG4GgP7h"
      },
      "execution_count": null,
      "outputs": []
    },
    {
      "cell_type": "code",
      "source": [],
      "metadata": {
        "id": "cLdYt1ukgP5P"
      },
      "execution_count": null,
      "outputs": []
    },
    {
      "cell_type": "code",
      "source": [
        "clean = pd.read_csv('/content/top100_all_columns_comparison (1).csv')"
      ],
      "metadata": {
        "id": "fnvBJ69hgP0z"
      },
      "execution_count": 80,
      "outputs": []
    },
    {
      "cell_type": "code",
      "source": [
        "clean.info()"
      ],
      "metadata": {
        "colab": {
          "base_uri": "https://localhost:8080/"
        },
        "id": "2Y9BXfbLgPwo",
        "outputId": "ceca4f34-08a6-4e69-c007-b02721db81b4"
      },
      "execution_count": 81,
      "outputs": [
        {
          "output_type": "stream",
          "name": "stdout",
          "text": [
            "<class 'pandas.core.frame.DataFrame'>\n",
            "RangeIndex: 100 entries, 0 to 99\n",
            "Data columns (total 78 columns):\n",
            " #   Column                                        Non-Null Count  Dtype  \n",
            "---  ------                                        --------------  -----  \n",
            " 0   rank                                          100 non-null    int64  \n",
            " 1   host_id                                       100 non-null    int64  \n",
            " 2   id                                            100 non-null    float64\n",
            " 3   listing_url                                   100 non-null    object \n",
            " 4   scrape_id                                     100 non-null    float64\n",
            " 5   last_scraped                                  100 non-null    object \n",
            " 6   source                                        100 non-null    object \n",
            " 7   name                                          100 non-null    object \n",
            " 8   description                                   98 non-null     object \n",
            " 9   neighborhood_overview                         80 non-null     object \n",
            " 10  picture_url                                   100 non-null    object \n",
            " 11  host_url                                      100 non-null    object \n",
            " 12  host_name                                     100 non-null    object \n",
            " 13  host_since                                    100 non-null    object \n",
            " 14  host_location                                 84 non-null     object \n",
            " 15  host_about                                    73 non-null     object \n",
            " 16  host_response_time                            95 non-null     object \n",
            " 17  host_response_rate                            95 non-null     object \n",
            " 18  host_acceptance_rate                          97 non-null     float64\n",
            " 19  host_is_superhost                             99 non-null     object \n",
            " 20  host_thumbnail_url                            100 non-null    object \n",
            " 21  host_picture_url                              100 non-null    object \n",
            " 22  host_neighbourhood                            99 non-null     object \n",
            " 23  host_listings_count                           100 non-null    float64\n",
            " 24  host_total_listings_count                     100 non-null    float64\n",
            " 25  host_verifications                            100 non-null    object \n",
            " 26  host_has_profile_pic                          100 non-null    object \n",
            " 27  host_identity_verified                        100 non-null    object \n",
            " 28  neighbourhood                                 80 non-null     object \n",
            " 29  neighbourhood_cleansed                        100 non-null    object \n",
            " 30  neighbourhood_group_cleansed                  0 non-null      float64\n",
            " 31  latitude                                      100 non-null    float64\n",
            " 32  longitude                                     100 non-null    float64\n",
            " 33  property_type                                 100 non-null    object \n",
            " 34  room_type                                     100 non-null    object \n",
            " 35  accommodates                                  100 non-null    float64\n",
            " 36  bathrooms                                     92 non-null     float64\n",
            " 37  bathrooms_text                                100 non-null    object \n",
            " 38  bedrooms                                      96 non-null     float64\n",
            " 39  beds                                          100 non-null    float64\n",
            " 40  amenities                                     100 non-null    object \n",
            " 41  price                                         99 non-null     float64\n",
            " 42  minimum_nights                                100 non-null    float64\n",
            " 43  maximum_nights                                100 non-null    float64\n",
            " 44  minimum_minimum_nights                        100 non-null    float64\n",
            " 45  maximum_minimum_nights                        100 non-null    float64\n",
            " 46  minimum_maximum_nights                        100 non-null    float64\n",
            " 47  maximum_maximum_nights                        100 non-null    float64\n",
            " 48  minimum_nights_avg_ntm                        100 non-null    float64\n",
            " 49  maximum_nights_avg_ntm                        100 non-null    float64\n",
            " 50  calendar_updated                              0 non-null      float64\n",
            " 51  has_availability                              99 non-null     object \n",
            " 52  availability_30                               100 non-null    float64\n",
            " 53  availability_60                               100 non-null    float64\n",
            " 54  availability_90                               100 non-null    float64\n",
            " 55  availability_365                              100 non-null    float64\n",
            " 56  calendar_last_scraped                         100 non-null    object \n",
            " 57  number_of_reviews                             100 non-null    int64  \n",
            " 58  number_of_reviews_ltm                         100 non-null    float64\n",
            " 59  number_of_reviews_l30d                        100 non-null    float64\n",
            " 60  first_review                                  100 non-null    object \n",
            " 61  last_review                                   100 non-null    object \n",
            " 62  review_scores_rating                          100 non-null    float64\n",
            " 63  review_scores_accuracy                        100 non-null    float64\n",
            " 64  review_scores_cleanliness                     100 non-null    float64\n",
            " 65  review_scores_checkin                         100 non-null    float64\n",
            " 66  review_scores_communication                   100 non-null    float64\n",
            " 67  review_scores_location                        100 non-null    float64\n",
            " 68  review_scores_value                           100 non-null    float64\n",
            " 69  license                                       0 non-null      float64\n",
            " 70  instant_bookable                              100 non-null    object \n",
            " 71  calculated_host_listings_count                100 non-null    float64\n",
            " 72  calculated_host_listings_count_entire_homes   100 non-null    float64\n",
            " 73  calculated_host_listings_count_private_rooms  100 non-null    float64\n",
            " 74  calculated_host_listings_count_shared_rooms   100 non-null    float64\n",
            " 75  reviews_per_month                             100 non-null    float64\n",
            " 76  host_is_superhost_num                         99 non-null     float64\n",
            " 77  count                                         100 non-null    int64  \n",
            "dtypes: float64(42), int64(4), object(32)\n",
            "memory usage: 61.1+ KB\n"
          ]
        }
      ]
    },
    {
      "cell_type": "code",
      "source": [],
      "metadata": {
        "id": "ty9WSa3AgPor"
      },
      "execution_count": null,
      "outputs": []
    },
    {
      "cell_type": "code",
      "source": [],
      "metadata": {
        "id": "B51RB_rMgPg9"
      },
      "execution_count": null,
      "outputs": []
    },
    {
      "cell_type": "markdown",
      "source": [
        "----"
      ],
      "metadata": {
        "id": "6_HHq4zZRDmF"
      }
    },
    {
      "cell_type": "code",
      "source": [
        "# -*- coding: utf-8 -*-\n",
        "\"\"\"\n",
        "Airbnb 호스트 신뢰도 등급제 - '가설검증 전용' 스크립트\n",
        "- ML 없음. 통계적 유의성만 확인.\n",
        "- 파생변수 → 등급제 → 상관/ttest/ANOVA/카이제곱\n",
        "\"\"\"\n",
        "\n",
        "import pandas as pd\n",
        "import numpy as np\n",
        "from datetime import datetime\n",
        "from scipy import stats\n",
        "\n",
        "# =========================\n",
        "# 0) 데이터 로드\n",
        "# =========================\n",
        "df = pd.read_csv('/content/combined_dataset.csv')\n",
        "\n",
        "# =========================\n",
        "# 1) 유틸 함수\n",
        "# =========================\n",
        "def pct_to_float(s):\n",
        "    \"\"\"'97%' → 0.97, 숫자는 [0~1] 범위면 그대로, [1~100]이면 100으로 나눔, 그 외 NaN\"\"\"\n",
        "    if pd.isna(s):\n",
        "        return np.nan\n",
        "    if isinstance(s, (int, float)):\n",
        "        return float(s) / (100.0 if s > 1 else 1.0)\n",
        "    s = str(s).strip()\n",
        "    if s.endswith('%'):\n",
        "        try:\n",
        "            return float(s[:-1]) / 100.0\n",
        "        except:\n",
        "            return np.nan\n",
        "    try:\n",
        "        v = float(s)\n",
        "        return v / (100.0 if v > 1 else 1.0)\n",
        "    except:\n",
        "        return np.nan\n",
        "\n",
        "def map_response_time(x):\n",
        "    \"\"\"host_response_time 문자열 → 0~3 점수 매핑\"\"\"\n",
        "    if pd.isna(x): return np.nan\n",
        "    x = str(x).lower()\n",
        "    if 'within an hour' in x or 'within 1 hour' in x: return 3\n",
        "    if 'within a few hours' in x: return 2\n",
        "    if 'within a day' in x: return 1\n",
        "    if 'few days' in x: return 0\n",
        "    return 1  # 기타는 중간값\n",
        "\n",
        "def bool01(x):\n",
        "    if pd.isna(x): return np.nan\n",
        "    x = str(x).strip().lower()\n",
        "    if x in ['t','true','1','yes','y']: return 1.0\n",
        "    if x in ['f','false','0','no','n']: return 0.0\n",
        "    return np.nan\n",
        "\n",
        "def months_since(d):\n",
        "    \"\"\"host_since → 개월 수\"\"\"\n",
        "    if pd.isna(d): return np.nan\n",
        "    try:\n",
        "        return (datetime.today() - pd.to_datetime(d, errors='coerce')).days / 30.44\n",
        "    except:\n",
        "        return np.nan\n",
        "\n",
        "def zscore(s):\n",
        "    \"\"\"결측 허용 z-score\"\"\"\n",
        "    s = s.astype(float)\n",
        "    return (s - np.nanmean(s)) / (np.nanstd(s) + 1e-9)\n",
        "\n",
        "def drop_na_pair(df, cols):\n",
        "    \"\"\"가설검증 전: 지정 컬럼 동시 결측 제거하여 인덱스/길이 정렬\"\"\"\n",
        "    sub = df[cols].copy()\n",
        "    # 모두 숫자화 시도\n",
        "    for c in cols:\n",
        "        if sub[c].dtype == 'O':\n",
        "            sub[c] = pd.to_numeric(sub[c], errors='coerce')\n",
        "    return sub.dropna()\n",
        "\n",
        "# =========================\n",
        "# 2) 기본 정리 & 파생변수\n",
        "# =========================\n",
        "# 날짜\n",
        "df['host_since_months'] = df['host_since'].apply(months_since) if 'host_since' in df.columns else np.nan\n",
        "df['op_months'] = df['host_since_months'].fillna(1).clip(lower=1)\n",
        "\n",
        "# 응답/수락률\n",
        "for c in ['host_response_rate','host_acceptance_rate']:\n",
        "    df[c + '_num'] = df[c].apply(pct_to_float) if c in df.columns else np.nan\n",
        "\n",
        "# 응답시간 점수\n",
        "df['host_response_time_score'] = df['host_response_time'].apply(map_response_time) if 'host_response_time' in df.columns else np.nan\n",
        "\n",
        "# 불리언\n",
        "for c in ['instant_bookable','host_identity_verified','host_has_profile_pic','host_is_superhost']:\n",
        "    df[c + '_01'] = df[c].apply(bool01) if c in df.columns else np.nan\n",
        "\n",
        "# 필수 수치 기본값 존재 보정\n",
        "for c in ['number_of_reviews','reviews_per_month','number_of_reviews_l30d','host_listings_count','host_total_listings_count',\n",
        "          'availability_365','minimum_nights','maximum_nights']:\n",
        "    if c not in df.columns:\n",
        "        df[c] = np.nan\n",
        "\n",
        "# 활동성\n",
        "df['reviews_per_month_filled'] = df['reviews_per_month'].fillna(0)\n",
        "df['review_rate_per_month'] = df['number_of_reviews'] / df['op_months']\n",
        "df['recent_review_ratio'] = df['number_of_reviews_l30d'] / df['number_of_reviews'].replace(0, np.nan)\n",
        "\n",
        "activity_terms = pd.DataFrame({\n",
        "    'rrpm_z' : zscore(df['review_rate_per_month']),\n",
        "    'recent_ratio_z': zscore(df['recent_review_ratio']),\n",
        "    'rpm_z' : zscore(df['reviews_per_month_filled'])\n",
        "})\n",
        "df['activity_index'] = activity_terms.mean(axis=1)\n",
        "\n",
        "# 응답성\n",
        "response_terms = pd.DataFrame({\n",
        "    'resp_rate_z' : zscore(df['host_response_rate_num']),\n",
        "    'acc_rate_z'  : zscore(df['host_acceptance_rate_num']),\n",
        "    'resp_time_z' : zscore(df['host_response_time_score'])\n",
        "})\n",
        "df['response_index'] = response_terms.mean(axis=1)\n",
        "\n",
        "# 운영 안정성\n",
        "df['listings_cnt'] = df[['host_listings_count','host_total_listings_count']].max(axis=1)\n",
        "df['listings_cnt'] = df['listings_cnt'].fillna(1).clip(lower=1)\n",
        "df['avail_per_listing'] = df['availability_365'] / df['listings_cnt']\n",
        "\n",
        "min_penalty = -zscore(np.log1p(df['minimum_nights']))\n",
        "max_penalty = -zscore(np.log1p(df['maximum_nights']))\n",
        "\n",
        "stability_terms = pd.DataFrame({\n",
        "    'avail_per_listing_z': zscore(df['avail_per_listing']),\n",
        "    'instant_bookable_z' : zscore(df['instant_bookable_01']),\n",
        "    'min_penalty'        : min_penalty,\n",
        "    'max_penalty'        : max_penalty\n",
        "})\n",
        "df['stability_index'] = stability_terms.mean(axis=1)\n",
        "\n",
        "# 프로필 신뢰성\n",
        "if 'host_verifications' in df.columns:\n",
        "    def count_verifs(v):\n",
        "        if isinstance(v, str) and v.strip().startswith('['):\n",
        "            try:\n",
        "                return len(eval(v))\n",
        "            except:\n",
        "                return np.nan\n",
        "        return np.nan\n",
        "    df['host_verifications_count'] = df['host_verifications'].apply(count_verifs)\n",
        "else:\n",
        "    df['host_verifications_count'] = np.nan\n",
        "\n",
        "df['host_about_len'] = df['host_about'].fillna('').astype(str).str.len() if 'host_about' in df.columns else np.nan\n",
        "\n",
        "cred_terms = pd.DataFrame({\n",
        "    'idv_z'      : zscore(df['host_identity_verified_01']),\n",
        "    'pic_z'      : zscore(df['host_has_profile_pic_01']),\n",
        "    'verifs_z'   : zscore(df['host_verifications_count']),\n",
        "    'about_len_z': zscore(df['host_about_len'])\n",
        "})\n",
        "df['credibility_index'] = cred_terms.mean(axis=1)\n",
        "\n",
        "# 통합 신뢰지수(참고용; 가설검증에는 개별지수도 사용)\n",
        "df['trust_index'] = pd.DataFrame({\n",
        "    'activity_index'  : df['activity_index'],\n",
        "    'response_index'  : df['response_index'],\n",
        "    'stability_index' : df['stability_index'],\n",
        "    'credibility_index': df['credibility_index']\n",
        "}).mean(axis=1)\n",
        "\n",
        "# 등급(사분위)\n",
        "valid = df[['trust_index']].dropna()\n",
        "qs = valid['trust_index'].quantile([0.25, 0.5, 0.75]).to_dict() if len(valid) > 0 else {0.25:0,0.5:0,0.75:0}\n",
        "\n",
        "def to_grade(v):\n",
        "    if pd.isna(v): return np.nan\n",
        "    if v <= qs[0.25]: return 'Rookie'\n",
        "    if v <= qs[0.5]: return 'Rising'\n",
        "    if v <= qs[0.75]: return 'Super'\n",
        "    return 'Master'\n",
        "df['host_grade'] = df['trust_index'].apply(to_grade)\n",
        "\n",
        "# 타깃(신뢰도 Proxy)\n",
        "df['is_super'] = df['host_is_superhost_01']  # 범주(0/1)\n",
        "HIGH_RATING_TH = 4.8\n",
        "df['is_high_rating'] = (df['review_scores_rating'] >= HIGH_RATING_TH).astype(float)\n",
        "\n",
        "# =========================\n",
        "# 3) 가설검증 함수들\n",
        "# =========================\n",
        "def corr_test(df, x, y, method='pearson'):\n",
        "    sub = drop_na_pair(df, [x, y])\n",
        "    if len(sub) < 3:\n",
        "        print(f\"[상관] {x} ~ {y} : 유효 표본 부족 (n={len(sub)})\")\n",
        "        return\n",
        "    if method == 'pearson':\n",
        "        r, p = stats.pearsonr(sub[x].values, sub[y].values)\n",
        "    else:\n",
        "        r, p = stats.spearmanr(sub[x].values, sub[y].values)\n",
        "    print(f\"[상관-{method}] {x} ~ {y} : r={r:.3f}, p={p:.6f}, n={len(sub)}\")\n",
        "\n",
        "def t_test_groups(df, value_col, group_col, group1=1.0, group0=0.0):\n",
        "    \"\"\"두 집단 평균 비교: Welch t-test\"\"\"\n",
        "    sub = df[[value_col, group_col]].dropna()\n",
        "    g1 = sub.loc[sub[group_col]==group1, value_col].values\n",
        "    g0 = sub.loc[sub[group_col]==group0, value_col].values\n",
        "    if len(g1) < 2 or len(g0) < 2:\n",
        "        print(f\"[t-test] 표본 부족: {group_col}=={group1}({len(g1)}), {group_col}=={group0}({len(g0)})\")\n",
        "        return\n",
        "    t, p = stats.ttest_ind(g1, g0, equal_var=False)\n",
        "    print(f\"[t-test] {value_col} by {group_col} : t={t:.3f}, p={p:.6f}, n1={len(g1)}, n0={len(g0)}\")\n",
        "\n",
        "def anova_by_grade(df, value_col, grade_col='host_grade'):\n",
        "    sub = df[[value_col, grade_col]].dropna()\n",
        "    if sub[grade_col].nunique() < 2:\n",
        "        print(f\"[ANOVA] 등급이 2개 미만 → 수행 불가\")\n",
        "        return\n",
        "    groups = [g[value_col].values for _, g in sub.groupby(grade_col)]\n",
        "    if not all(len(g) >= 2 for g in groups):\n",
        "        print(f\"[ANOVA] 그룹 표본 일부 부족: sizes={[len(g) for g in groups]}\")\n",
        "        return\n",
        "    F, p = stats.f_oneway(*groups)\n",
        "    print(f\"[ANOVA] {value_col} by {grade_col} : F={F:.3f}, p={p:.6f}, sizes={[len(g) for g in groups]}\")\n",
        "\n",
        "def chi2_test(df, cat_a, cat_b):\n",
        "    \"\"\"카이제곱: 범주형-범주형 독립성 검정\"\"\"\n",
        "    sub = df[[cat_a, cat_b]].dropna()\n",
        "    # 값이 연속형일 수 있으니 이산화\n",
        "    sub[cat_a] = (sub[cat_a] > 0.5).astype(int) if sub[cat_a].dtype.kind in \"fc\" else sub[cat_a]\n",
        "    sub[cat_b] = (sub[cat_b] > 0.5).astype(int) if sub[cat_b].dtype.kind in \"fc\" else sub[cat_b]\n",
        "    tab = pd.crosstab(sub[cat_a], sub[cat_b])\n",
        "    if tab.shape[0] < 2 or tab.shape[1] < 2:\n",
        "        print(f\"[Chi2] 유효한 교차표 부족:\\n{tab}\")\n",
        "        return\n",
        "    chi2, p, dof, exp = stats.chi2_contingency(tab)\n",
        "    print(f\"[Chi2] {cat_a} vs {cat_b} : chi2={chi2:.3f}, dof={dof}, p={p:.6f}\\n{tab}\")\n",
        "\n",
        "# =========================\n",
        "# 4) 가설 세팅 & 실행\n",
        "# =========================\n",
        "print(\"=== H1: 활동성/응답/운영/프로필 지수는 평점과 양(+)의 상관이 있다. ===\")\n",
        "for idx_col in ['activity_index','response_index','stability_index','credibility_index','trust_index']:\n",
        "    corr_test(df, idx_col, 'review_scores_rating', method='pearson')\n",
        "    corr_test(df, idx_col, 'review_scores_rating', method='spearman')\n",
        "\n",
        "print(\"\\n=== H2: 슈퍼호스트는 일반호스트보다 지수가 높다 (Welch t-test). ===\")\n",
        "for idx_col in ['activity_index','response_index','stability_index','credibility_index','trust_index']:\n",
        "    t_test_groups(df, value_col=idx_col, group_col='is_super', group1=1.0, group0=0.0)\n",
        "\n",
        "print(\"\\n=== H3: 등급이 높을수록 평균 평점이 높다 (ANOVA). ===\")\n",
        "anova_by_grade(df, value_col='review_scores_rating', grade_col='host_grade')\n",
        "\n",
        "print(\"\\n=== H4: 특정 운영정책/특성이 고평점 또는 슈퍼호스트와 연관 (Chi-square). ===\")\n",
        "# instant_bookable ↔ 고평점/슈퍼호스트\n",
        "chi2_test(df, 'instant_bookable_01', 'is_high_rating')\n",
        "chi2_test(df, 'instant_bookable_01', 'is_super')\n",
        "# 신분인증 ↔ 고평점/슈퍼호스트\n",
        "chi2_test(df, 'host_identity_verified_01', 'is_high_rating')\n",
        "chi2_test(df, 'host_identity_verified_01', 'is_super')\n",
        "\n",
        "print(\"\\n=== 요약 통계 (등급별) ===\")\n",
        "summary_cols = ['host_grade','review_scores_rating','number_of_reviews','reviews_per_month',\n",
        "                'activity_index','response_index','stability_index','credibility_index','trust_index','is_super','is_high_rating']\n",
        "exists = [c for c in summary_cols if c in df.columns]\n",
        "if 'host_grade' in exists:\n",
        "    print(df[exists].groupby('host_grade').agg(['mean','median','count']))\n",
        "else:\n",
        "    print(\"등급 컬럼(host_grade)이 없어 요약 불가(결측 과다일 수 있음).\")\n"
      ],
      "metadata": {
        "colab": {
          "base_uri": "https://localhost:8080/"
        },
        "id": "i8uUlseWcuh1",
        "outputId": "ed2ef644-9f8a-48ba-a5b7-24d213760899"
      },
      "execution_count": 6,
      "outputs": [
        {
          "output_type": "stream",
          "name": "stdout",
          "text": [
            "=== H1: 활동성/응답/운영/프로필 지수는 평점과 양(+)의 상관이 있다. ===\n",
            "[상관-pearson] activity_index ~ review_scores_rating : r=0.113, p=0.000000, n=9951\n",
            "[상관-spearman] activity_index ~ review_scores_rating : r=0.046, p=0.000004, n=9951\n",
            "[상관-pearson] response_index ~ review_scores_rating : r=0.097, p=0.000000, n=9481\n",
            "[상관-spearman] response_index ~ review_scores_rating : r=0.077, p=0.000000, n=9481\n",
            "[상관-pearson] stability_index ~ review_scores_rating : r=-0.010, p=0.342509, n=9951\n",
            "[상관-spearman] stability_index ~ review_scores_rating : r=-0.026, p=0.010222, n=9951\n",
            "[상관-pearson] credibility_index ~ review_scores_rating : r=0.112, p=0.000000, n=9951\n",
            "[상관-spearman] credibility_index ~ review_scores_rating : r=0.003, p=0.769388, n=9951\n",
            "[상관-pearson] trust_index ~ review_scores_rating : r=0.138, p=0.000000, n=9951\n",
            "[상관-spearman] trust_index ~ review_scores_rating : r=0.037, p=0.000185, n=9951\n",
            "\n",
            "=== H2: 슈퍼호스트는 일반호스트보다 지수가 높다 (Welch t-test). ===\n",
            "[t-test] activity_index by is_super : t=28.207, p=0.000000, n1=4078, n0=7095\n",
            "[t-test] response_index by is_super : t=29.191, p=0.000000, n1=4072, n0=6352\n",
            "[t-test] stability_index by is_super : t=2.679, p=0.007404, n1=4078, n0=7095\n",
            "[t-test] credibility_index by is_super : t=22.042, p=0.000000, n1=4078, n0=7095\n",
            "[t-test] trust_index by is_super : t=39.511, p=0.000000, n1=4078, n0=7095\n",
            "\n",
            "=== H3: 등급이 높을수록 평균 평점이 높다 (ANOVA). ===\n",
            "[ANOVA] review_scores_rating by host_grade : F=51.106, p=0.000000, sizes=[2857, 2420, 1887, 2787]\n",
            "\n",
            "=== H4: 특정 운영정책/특성이 고평점 또는 슈퍼호스트와 연관 (Chi-square). ===\n",
            "[Chi2] instant_bookable_01 vs is_high_rating : chi2=74.169, dof=1, p=0.000000\n",
            "is_high_rating          0     1\n",
            "instant_bookable_01            \n",
            "0                    2347  2268\n",
            "1                    4032  2799\n",
            "[Chi2] instant_bookable_01 vs is_super : chi2=43.716, dof=1, p=0.000000\n",
            "is_super                0     1\n",
            "instant_bookable_01            \n",
            "0                    3025  1478\n",
            "1                    4070  2600\n",
            "[Chi2] host_identity_verified_01 vs is_high_rating : chi2=23.559, dof=1, p=0.000001\n",
            "is_high_rating                0     1\n",
            "host_identity_verified_01            \n",
            "0                           280   135\n",
            "1                          6099  4932\n",
            "[Chi2] host_identity_verified_01 vs is_super : chi2=102.020, dof=1, p=0.000000\n",
            "is_super                      0     1\n",
            "host_identity_verified_01            \n",
            "0                           353    51\n",
            "1                          6742  4027\n",
            "\n",
            "=== 요약 통계 (등급별) ===\n",
            "           review_scores_rating              number_of_reviews               \\\n",
            "                           mean median count              mean median count   \n",
            "host_grade                                                                    \n",
            "Master                 4.746636   4.82  2857        140.873515   93.0  2862   \n",
            "Rising                 4.631814   4.77  2420         27.141209   10.0  2861   \n",
            "Rookie                 4.613243   4.80  1887         15.064291    2.0  2862   \n",
            "Super                  4.706010   4.79  2787         56.743796   30.0  2861   \n",
            "\n",
            "           reviews_per_month              activity_index  ...  \\\n",
            "                        mean median count           mean  ...   \n",
            "host_grade                                                ...   \n",
            "Master              3.831474   3.63  2857       0.814667  ...   \n",
            "Rising              0.966136   0.68  2420      -0.371649  ...   \n",
            "Rookie              0.545347   0.33  1885      -0.562201  ...   \n",
            "Super               1.830843   1.62  2787      -0.017474  ...   \n",
            "\n",
            "           credibility_index trust_index                  is_super         \\\n",
            "                       count        mean    median count      mean median   \n",
            "host_grade                                                                  \n",
            "Master                  2862    0.408329  0.363549  2862  0.538626    1.0   \n",
            "Rising                  2861   -0.048745 -0.042855  2861  0.309267    0.0   \n",
            "Rookie                  2862   -0.573286 -0.438187  2862  0.148135    0.0   \n",
            "Super                   2861    0.129918  0.129352  2861  0.459383    0.0   \n",
            "\n",
            "                 is_high_rating               \n",
            "           count           mean median count  \n",
            "host_grade                                    \n",
            "Master      2809       0.565688    1.0  2862  \n",
            "Rising      2784       0.394268    0.0  2861  \n",
            "Rookie      2761       0.342068    0.0  2862  \n",
            "Super       2819       0.468717    0.0  2861  \n",
            "\n",
            "[4 rows x 30 columns]\n"
          ]
        }
      ]
    },
    {
      "cell_type": "code",
      "source": [
        "# -*- coding: utf-8 -*-\n",
        "\"\"\"\n",
        "호스트 신뢰도 등급제 (5개 기준):\n",
        "1) 예약건수 (bookings_count)  → 많을수록 가점\n",
        "2) 평점 (review_scores_rating) → 높을수록 가점\n",
        "3) 응답률 (host_response_rate)  → 높을수록 가점\n",
        "4) 예약 취소율 (cancellation_rate) → 낮을수록 가점 (역스코어)\n",
        "5) 리뷰 수 (number_of_reviews) → 많을수록 가점\n",
        "\n",
        "출력:\n",
        "- 각 기준별 점수(0~3), 총점, 등급(host_grade)\n",
        "- (옵션) 등급 vs 슈퍼호스트/고평점 통계 검정\n",
        "\"\"\"\n",
        "\n",
        "import pandas as pd\n",
        "import numpy as np\n",
        "from datetime import datetime\n",
        "from scipy import stats\n",
        "\n",
        "# ============= 사용자 설정 =============\n",
        "\n",
        "# 평점 절대 임계값\n",
        "RATING_BINS = [4.5, 4.8, 4.95]  # <4.5=0, 4.5~<4.8=1, 4.8~<4.95=2, >=4.95=3\n",
        "\n",
        "# 응답률 임계값 (비율)\n",
        "RESP_BINS = [0.80, 0.90, 0.95]  # <0.80=0, 0.80~<0.90=1, 0.90~<0.95=2, >=0.95=3\n",
        "\n",
        "# 취소율 임계값(낮을수록 좋음)\n",
        "CANCEL_BINS = [0.10, 0.05, 0.01] # >0.10=0, 0.10~>0.05=1, 0.05~>0.01=2, <=0.01=3\n",
        "\n",
        "# 총점 → 등급 컷오프\n",
        "# 5개 지표 × 0~3점 = 최대 15점\n",
        "GRADE_CUTOFFS = {\n",
        "    \"Master\": 12,   # 12~15\n",
        "    \"Super\":  9,    # 9~11\n",
        "    \"Rising\": 6,    # 6~8\n",
        "    \"Rookie\": -1    # 0~5\n",
        "}\n",
        "\n",
        "# ============= 유틸 =============\n",
        "def pct_to_float(x):\n",
        "    \"\"\"'97%' -> 0.97, 97 -> 0.97, 0.97 -> 0.97\"\"\"\n",
        "    if pd.isna(x): return np.nan\n",
        "    if isinstance(x, (int, float)):\n",
        "        return float(x)/100.0 if x > 1 else float(x)\n",
        "    s = str(x).strip()\n",
        "    if s.endswith('%'):\n",
        "        try: return float(s[:-1]) / 100.0\n",
        "        except: return np.nan\n",
        "    try:\n",
        "        v = float(s)\n",
        "        return v/100.0 if v > 1 else v\n",
        "    except:\n",
        "        return np.nan\n",
        "\n",
        "def months_since(d):\n",
        "    if pd.isna(d): return np.nan\n",
        "    try:\n",
        "        return (datetime.today() - pd.to_datetime(d, errors='coerce')).days / 30.44\n",
        "    except:\n",
        "        return np.nan\n",
        "\n",
        "def qscore_by_quantiles(series, labels=(0,1,2,3)):\n",
        "    \"\"\"하위→상위 4분위 기반 점수(0~3). 결측은 NaN.\"\"\"\n",
        "    s = pd.to_numeric(series, errors='coerce')\n",
        "    try:\n",
        "        q = s.quantile([0.25,0.5,0.75])\n",
        "        return pd.cut(s, bins=[-np.inf, q[0.25], q[0.5], q[0.75], np.inf], labels=labels).astype(float)\n",
        "    except Exception:\n",
        "        return pd.Series(np.nan, index=s.index)\n",
        "\n",
        "def binscore_by_thresholds(x, bins, reverse=False):\n",
        "    \"\"\"\n",
        "    절대 임계값에 따른 0~3점.\n",
        "    - reverse=False: 낮음→0, 높음→3 (예: 평점/응답률)\n",
        "    - reverse=True : 낮음→3, 높음→0 (예: 취소율)\n",
        "    bins 길이=3: [b0, b1, b2]\n",
        "    \"\"\"\n",
        "    x = pd.to_numeric(x, errors='coerce')\n",
        "    s = pd.Series(index=x.index, dtype=float)\n",
        "    if not reverse:\n",
        "        s[(x < bins[0])] = 0\n",
        "        s[(x >= bins[0]) & (x < bins[1])] = 1\n",
        "        s[(x >= bins[1]) & (x < bins[2])] = 2\n",
        "        s[(x >= bins[2])] = 3\n",
        "    else:\n",
        "        s[(x >  bins[0])] = 0\n",
        "        s[(x <= bins[0]) & (x >  bins[1])] = 1\n",
        "        s[(x <= bins[1]) & (x >  bins[2])] = 2\n",
        "        s[(x <= bins[2])] = 3\n",
        "    return s\n",
        "\n",
        "def make_grade(total_score, cutoffs):\n",
        "    s = pd.Series(index=total_score.index, dtype=object)\n",
        "    s[ total_score >= cutoffs[\"Master\"] ] = \"Master\"\n",
        "    s[(total_score >= cutoffs[\"Super\"])  & (total_score < cutoffs[\"Master\"])] = \"Super\"\n",
        "    s[(total_score >= cutoffs[\"Rising\"]) & (total_score < cutoffs[\"Super\"]) ] = \"Rising\"\n",
        "    s[ total_score <  cutoffs[\"Rising\"] ] = \"Rookie\"\n",
        "    return s\n",
        "\n",
        "# ============= 데이터 로드 & 컬럼 준비 =============\n",
        "df = pd.read_csv('/content/combined_dataset.csv')\n",
        "\n",
        "# 1) 예약건수(bookings_count) 확보\n",
        "# 가능한 컬럼 후보를 순차적으로 탐색\n",
        "CAND_BOOK_COLS = [\"bookings_count\", \"reservations_count\", \"reservation_count\", \"total_bookings\"]\n",
        "book_col = next((c for c in CAND_BOOK_COLS if c in df.columns), None)\n",
        "\n",
        "if book_col is None:\n",
        "    # 대체 추정: 리뷰수/월 × 운영개월수 vs 누적 리뷰수 중 큰 값 사용(조악하지만 결측 대체)\n",
        "    if 'host_since' in df.columns:\n",
        "        op_months = pd.Series(df['host_since'].apply(months_since)).fillna(1).clip(lower=1)\n",
        "    else:\n",
        "        op_months = pd.Series(1, index=df.index)  # 정보 없으면 1개월로 보수적 처리\n",
        "\n",
        "    reviews_per_month = pd.to_numeric(df.get('reviews_per_month', np.nan), errors='coerce').fillna(0)\n",
        "    number_of_reviews = pd.to_numeric(df.get('number_of_reviews', np.nan), errors='coerce').fillna(0)\n",
        "\n",
        "    bookings_proxy_1 = (reviews_per_month * op_months)  # 활동 기반 추정\n",
        "    bookings_proxy_2 = number_of_reviews                # 리뷰수 자체를 하한선으로\n",
        "    df['bookings_count_est'] = np.maximum(bookings_proxy_1, bookings_proxy_2)\n",
        "    book_col = 'bookings_count_est'\n",
        "    print(\"[warn] bookings_count 컬럼 없음 → 추정치(bookings_count_est) 사용\")\n",
        "else:\n",
        "    print(f\"[info] 예약건수 컬럼 사용: {book_col}\")\n",
        "\n",
        "# 2) 평점\n",
        "rating = pd.to_numeric(df.get('review_scores_rating', np.nan), errors='coerce')\n",
        "\n",
        "# 3) 응답률\n",
        "resp = df.get('host_response_rate', np.nan).apply(pct_to_float) if 'host_response_rate' in df.columns else pd.Series(np.nan, index=df.index)\n",
        "\n",
        "# 4) 예약 취소율 (직접 컬럼이 없으면 cancellations_count/bookings_count 로 계산 시도)\n",
        "CAND_CANCEL_COLS = [\"host_cancellation_rate\", \"cancellation_rate\", \"cancel_rate\"]\n",
        "cancel_col = next((c for c in CAND_CANCEL_COLS if c in df.columns), None)\n",
        "if cancel_col is None:\n",
        "    if {'cancellations_count'}.issubset(df.columns) or 'cancellations_count' in df.columns:\n",
        "        cancels = pd.to_numeric(df.get('cancellations_count', np.nan), errors='coerce')\n",
        "        bookings = pd.to_numeric(df.get(book_col, np.nan), errors='coerce')\n",
        "        cancel_rate = cancels / bookings.replace(0, np.nan)\n",
        "        print(\"[warn] cancellation_rate 컬럼 없음 → cancellations_count / bookings 으로 산출\")\n",
        "    else:\n",
        "        cancel_rate = pd.Series(np.nan, index=df.index)\n",
        "        print(\"[warn] 취소율 관련 컬럼 없음 → cancel_rate=NaN\")\n",
        "else:\n",
        "    # 퍼센트 또는 소수 형태 모두 처리\n",
        "    cancel_rate = df[cancel_col].apply(pct_to_float)\n",
        "    print(f\"[info] 취소율 컬럼 사용: {cancel_col}\")\n",
        "\n",
        "# 5) 리뷰 수\n",
        "reviews = pd.to_numeric(df.get('number_of_reviews', np.nan), errors='coerce')\n",
        "\n",
        "# ============= 점수화(0~3) =============\n",
        "# 예약건수/리뷰수는 분포 의존성이 크므로 4분위(상대 기준)로 스코어링\n",
        "bookings_score = qscore_by_quantiles(df[book_col])          # 0~3\n",
        "reviews_score  = qscore_by_quantiles(reviews)               # 0~3\n",
        "rating_score   = binscore_by_thresholds(rating, RATING_BINS, reverse=False)\n",
        "resp_score     = binscore_by_thresholds(resp,   RESP_BINS,   reverse=False)\n",
        "cancel_score   = binscore_by_thresholds(cancel_rate, CANCEL_BINS, reverse=True)\n",
        "\n",
        "score_cols = {\n",
        "    'score_bookings': bookings_score,\n",
        "    'score_rating'  : rating_score,\n",
        "    'score_resp'    : resp_score,\n",
        "    'score_cancel'  : cancel_score,\n",
        "    'score_reviews' : reviews_score\n",
        "}\n",
        "scores = pd.DataFrame(score_cols)\n",
        "\n",
        "# 총점(결측은 0점 처리 OR 평균대체 중 선택) → 기본은 0점 처리\n",
        "scores_filled = scores.fillna(0)\n",
        "total_score = scores_filled.sum(axis=1)\n",
        "\n",
        "# 등급 산정\n",
        "host_grade = make_grade(total_score, GRADE_CUTOFFS)\n",
        "\n",
        "# 결과 병합\n",
        "out = df.copy()\n",
        "out = out.assign(\n",
        "    **scores,\n",
        "    total_score = total_score,\n",
        "    host_grade  = host_grade\n",
        ")\n",
        "\n",
        "# ============= (옵션) 통계 검정 =============\n",
        "# 신뢰도(고평점/슈퍼호스트)와 등급/특성 간 관계 확인\n",
        "# 고평점 임계값\n",
        "HIGH_RATING_TH = 4.8\n",
        "is_high_rating = (rating >= HIGH_RATING_TH).astype(float)\n",
        "\n",
        "# 슈퍼호스트\n",
        "is_super = df.get('host_is_superhost', np.nan)\n",
        "if is_super.dtype == 'O':\n",
        "    is_super = is_super.map({'t':1, 'f':0, 'true':1, 'false':0}).astype(float)\n",
        "elif is_super.dtype in [int, float, bool]:\n",
        "    is_super = pd.Series(is_super, dtype=float)\n",
        "else:\n",
        "    is_super = pd.Series(np.nan, index=df.index)\n",
        "\n",
        "def chi2(var_a, var_b, name_a, name_b):\n",
        "    sub = pd.DataFrame({'a':var_a, 'b':var_b}).dropna()\n",
        "    if sub.empty:\n",
        "        print(f\"[Chi2] {name_a} vs {name_b}: 유효 표본 없음\")\n",
        "        return\n",
        "    # 연속형이면 이산화\n",
        "    if sub['a'].dtype.kind in \"fc\":\n",
        "        sub['a'] = (sub['a'] > sub['a'].median()).astype(int)\n",
        "    if sub['b'].dtype.kind in \"fc\":\n",
        "        sub['b'] = (sub['b'] > sub['b'].median()).astype(int)\n",
        "    tab = pd.crosstab(sub['a'], sub['b'])\n",
        "    if min(tab.shape) < 2:\n",
        "        print(f\"[Chi2] {name_a} vs {name_b}: 교차표 축이 1입니다\\n{tab}\")\n",
        "        return\n",
        "    chi2, p, dof, _ = stats.chi2_contingency(tab)\n",
        "    print(f\"[Chi2] {name_a} vs {name_b}: chi2={chi2:.3f}, dof={dof}, p={p:.6f}\\n{tab}\\n\")\n",
        "\n",
        "def anova_grade_on_rating():\n",
        "    sub = pd.DataFrame({'grade':host_grade, 'rating':rating}).dropna()\n",
        "    if sub['grade'].nunique() < 2:\n",
        "        print(\"[ANOVA] 등급 수준이 2 미만\")\n",
        "        return\n",
        "    groups = [g['rating'].values for _, g in sub.groupby('grade')]\n",
        "    if not all(len(g)>=2 for g in groups):\n",
        "        print(\"[ANOVA] 일부 그룹 표본 부족\")\n",
        "        return\n",
        "    F,p = stats.f_oneway(*groups)\n",
        "    print(f\"[ANOVA] review_scores_rating by host_grade: F={F:.3f}, p={p:.6f}, sizes={[len(g) for g in groups]}\")\n",
        "\n",
        "print(\"\\n=== 통계 검정(옵션) ===\")\n",
        "anova_grade_on_rating()                               # 등급 ↔ 평점 (주의: 평점이 입력지표에도 포함되어 있어 부분적으로 순환성 존재)\n",
        "chi2(host_grade.map({'Rookie':0,'Rising':1,'Super':2,'Master':3}), is_super, \"host_grade\", \"is_super\")\n",
        "chi2(host_grade.map({'Rookie':0,'Rising':1,'Super':2,'Master':3}), is_high_rating, \"host_grade\", \"is_high_rating\")\n",
        "\n",
        "# ============= 저장/요약 =============\n",
        "# 주요 컬럼만 내보내기\n",
        "keep = [\n",
        "    'id','host_id','listing_url','name',\n",
        "    book_col, 'review_scores_rating','host_response_rate',\n",
        "    cancel_col if cancel_col else 'cancellations_count',\n",
        "    'number_of_reviews',\n",
        "    'score_bookings','score_rating','score_resp','score_cancel','score_reviews',\n",
        "    'total_score','host_grade'\n",
        "]\n",
        "keep = [c for c in keep if c in out.columns]\n",
        "\n",
        "out[keep].head(10).to_csv(\"/content/host_grades_preview.csv\", index=False)\n",
        "out.to_csv(\"/content/host_grades_full.csv\", index=False)\n",
        "\n",
        "print(\"\\n[done] 등급 산정 완료.\")\n",
        "print(\"- 미리보기 저장: /content/data/host_grades_preview.csv\")\n",
        "print(\"- 전체 저장   : /content/host_grades_full.csv\")\n",
        "\n",
        "# 간단 요약\n",
        "print(\"\\n=== 등급 분포 ===\")\n",
        "print(out['host_grade'].value_counts(dropna=False))\n",
        "\n",
        "print(\"\\n=== 등급별 요약(평균) ===\")\n",
        "print(out.groupby('host_grade')[['total_score','review_scores_rating', book_col, 'number_of_reviews']].mean().round(3))\n"
      ],
      "metadata": {
        "colab": {
          "base_uri": "https://localhost:8080/"
        },
        "id": "gOxsXYtkeJlM",
        "outputId": "dc537503-4b17-4e21-ee74-f0db76394f94"
      },
      "execution_count": 8,
      "outputs": [
        {
          "output_type": "stream",
          "name": "stdout",
          "text": [
            "[warn] bookings_count 컬럼 없음 → 추정치(bookings_count_est) 사용\n",
            "[warn] 취소율 관련 컬럼 없음 → cancel_rate=NaN\n",
            "\n",
            "=== 통계 검정(옵션) ===\n",
            "[ANOVA] review_scores_rating by host_grade: F=867.262, p=0.000000, sizes=[162, 3710, 2162, 3917]\n",
            "[Chi2] host_grade vs is_super: chi2=2405.022, dof=3, p=0.000000\n",
            "b     0     1\n",
            "a            \n",
            "0  3131   372\n",
            "1  2479  1133\n",
            "2  1481  2416\n",
            "3     4   157\n",
            "\n",
            "[Chi2] host_grade vs is_high_rating: chi2=2182.073, dof=3, p=0.000000\n",
            "b     0     1\n",
            "a            \n",
            "0  3110   547\n",
            "1  1891  1819\n",
            "2  1378  2539\n",
            "3     0   162\n",
            "\n",
            "\n",
            "[done] 등급 산정 완료.\n",
            "- 미리보기 저장: /content/data/host_grades_preview.csv\n",
            "- 전체 저장   : /content/host_grades_full.csv\n",
            "\n",
            "=== 등급 분포 ===\n",
            "host_grade\n",
            "Super     3917\n",
            "Rising    3710\n",
            "Rookie    3657\n",
            "Master     162\n",
            "Name: count, dtype: int64\n",
            "\n",
            "=== 등급별 요약(평균) ===\n",
            "            total_score  review_scores_rating  bookings_count_est  \\\n",
            "host_grade                                                          \n",
            "Master           12.000                 4.967             490.693   \n",
            "Rising            7.064                 4.743             101.640   \n",
            "Rookie            2.806                 4.314              20.152   \n",
            "Super             9.907                 4.816             340.061   \n",
            "\n",
            "            number_of_reviews  \n",
            "host_grade                     \n",
            "Master                218.148  \n",
            "Rising                 27.863  \n",
            "Rookie                  5.654  \n",
            "Super                 134.517  \n"
          ]
        }
      ]
    },
    {
      "cell_type": "code",
      "source": [
        "import pandas as pd\n",
        "import numpy as np\n",
        "from scipy import stats\n",
        "\n",
        "# host_grade, review_scores_rating, host_is_superhost, is_high_rating 포함된 df 필요\n",
        "# (앞에서 만든 out 데이터프레임 사용)\n",
        "\n",
        "# 평점 ≥ 4.8 고평점 여부\n",
        "HIGH_RATING_TH = 4.8\n",
        "out['is_high_rating'] = (out['review_scores_rating'] >= HIGH_RATING_TH).astype(float)\n",
        "\n",
        "# 슈퍼호스트 변수 정리\n",
        "is_super = out['host_is_superhost']\n",
        "if is_super.dtype == 'O':\n",
        "    out['is_super'] = is_super.map({'t':1,'f':0,'true':1,'false':0})\n",
        "else:\n",
        "    out['is_super'] = pd.to_numeric(is_super, errors='coerce')\n",
        "\n",
        "# === H1: 등급 ↔ 평점 (ANOVA) ===\n",
        "sub = out[['host_grade','review_scores_rating']].dropna()\n",
        "groups = [g['review_scores_rating'].values for _, g in sub.groupby('host_grade')]\n",
        "if all(len(g) >= 2 for g in groups) and len(groups) > 1:\n",
        "    F, p = stats.f_oneway(*groups)\n",
        "    print(f\"[ANOVA] 평점 by host_grade: F={F:.3f}, p={p:.6f}, sizes={[len(g) for g in groups]}\")\n",
        "else:\n",
        "    print(\"[ANOVA] 표본 부족\")\n",
        "\n",
        "# === H2: 등급 ↔ 슈퍼호스트 여부 (Chi-square) ===\n",
        "tab1 = pd.crosstab(out['host_grade'], out['is_super'])\n",
        "chi2, p, dof, _ = stats.chi2_contingency(tab1)\n",
        "print(f\"[Chi2] host_grade vs is_super: chi2={chi2:.3f}, dof={dof}, p={p:.6f}\\n{tab1}\\n\")\n",
        "\n",
        "# === H3: 등급 ↔ 고평점 여부 (Chi-square) ===\n",
        "tab2 = pd.crosstab(out['host_grade'], out['is_high_rating'])\n",
        "chi2, p, dof, _ = stats.chi2_contingency(tab2)\n",
        "print(f\"[Chi2] host_grade vs is_high_rating: chi2={chi2:.3f}, dof={dof}, p={p:.6f}\\n{tab2}\\n\")\n"
      ],
      "metadata": {
        "colab": {
          "base_uri": "https://localhost:8080/"
        },
        "id": "C9swxtSUk_4G",
        "outputId": "a6ecba76-d1c8-4f5f-8b12-4e40696d37d5"
      },
      "execution_count": 9,
      "outputs": [
        {
          "output_type": "stream",
          "name": "stdout",
          "text": [
            "[ANOVA] 평점 by host_grade: F=867.262, p=0.000000, sizes=[162, 3710, 2162, 3917]\n",
            "[Chi2] host_grade vs is_super: chi2=2405.022, dof=3, p=0.000000\n",
            "is_super     0.0   1.0\n",
            "host_grade            \n",
            "Master         4   157\n",
            "Rising      2479  1133\n",
            "Rookie      3131   372\n",
            "Super       1481  2416\n",
            "\n",
            "[Chi2] host_grade vs is_high_rating: chi2=2182.073, dof=3, p=0.000000\n",
            "is_high_rating   0.0   1.0\n",
            "host_grade                \n",
            "Master             0   162\n",
            "Rising          1891  1819\n",
            "Rookie          3110   547\n",
            "Super           1378  2539\n",
            "\n"
          ]
        }
      ]
    },
    {
      "cell_type": "code",
      "source": [
        "#한글 글씨 폰트 설치 (설치 후 런타임 재실행)\n",
        "%%capture\n",
        "!sudo apt-get install -y fonts-nanum\n",
        "!sudo fc-cache -fv\n",
        "!rm ~/.cache/matplotlib -rf\n",
        "\n",
        "import matplotlib.pyplot as plt\n",
        "import matplotlib.font_manager as fm\n",
        "fm.fontManager.addfont('/usr/share/fonts/truetype/nanum/NanumGothic.ttf')\n",
        "plt.rcParams['font.family'] = 'NanumGothic'\n",
        "\n",
        "#음수 깨짐 방지\n",
        "plt.rcParams['axes.unicode_minus']=False"
      ],
      "metadata": {
        "id": "NbW8oLUarJjs"
      },
      "execution_count": 14,
      "outputs": []
    },
    {
      "cell_type": "code",
      "source": [
        "# -*- coding: utf-8 -*-\n",
        "# 등급제(5기준) 결과를 이용한 슬라이드용 그래프 생성\n",
        "# 파일 저장: /mnt/data/grade_super_rate.png, grade_highrate.png, grade_rating_box.png, grade_super_stacked.png\n",
        "\n",
        "import os\n",
        "import pandas as pd\n",
        "import numpy as np\n",
        "import matplotlib.pyplot as plt\n",
        "from datetime import datetime\n",
        "\n",
        "# -----------------------------\n",
        "# 경로 설정\n",
        "# -----------------------------\n",
        "PATH_FULL = \"/content/host_grades_full.csv\"\n",
        "PATH_RAW  = \"/content/combined_dataset.csv\"\n",
        "\n",
        "# 등급 순서 고정\n",
        "GRADE_ORDER = [\"Rookie\",\"Rising\",\"Super\",\"Master\"]\n",
        "\n",
        "# (fallback용) 점수 기준 – 너가 쓰던 값과 동일\n",
        "RATING_BINS = [4.5, 4.8, 4.95]\n",
        "RESP_BINS   = [0.80, 0.90, 0.95]\n",
        "CANCEL_BINS = [0.10, 0.05, 0.01]\n",
        "GRADE_CUTOFFS = {\"Master\":12, \"Super\":9, \"Rising\":6, \"Rookie\":-1}\n",
        "\n",
        "# -----------------------------\n",
        "# 유틸 (fallback 계산시 사용)\n",
        "# -----------------------------\n",
        "def pct_to_float(x):\n",
        "    if pd.isna(x): return np.nan\n",
        "    if isinstance(x,(int,float)): return float(x)/100.0 if x>1 else float(x)\n",
        "    s=str(x).strip()\n",
        "    if s.endswith(\"%\"):\n",
        "        try: return float(s[:-1])/100.0\n",
        "        except: return np.nan\n",
        "    try:\n",
        "        v=float(s); return v/100.0 if v>1 else v\n",
        "    except: return np.nan\n",
        "\n",
        "def months_since(d):\n",
        "    if pd.isna(d): return np.nan\n",
        "    try: return (datetime.today() - pd.to_datetime(d, errors=\"coerce\")).days / 30.44\n",
        "    except: return np.nan\n",
        "\n",
        "def qscore_by_quantiles(series):\n",
        "    s = pd.to_numeric(series, errors=\"coerce\")\n",
        "    try:\n",
        "        q = s.quantile([0.25,0.5,0.75])\n",
        "        return pd.cut(s, bins=[-np.inf,q[0.25],q[0.5],q[0.75],np.inf], labels=[0,1,2,3]).astype(float)\n",
        "    except:  # 데이터가 너무 적거나 전부 같은 값인 경우\n",
        "        return pd.Series(np.nan, index=s.index)\n",
        "\n",
        "def binscore_by_thresholds(x, bins, reverse=False):\n",
        "    x = pd.to_numeric(x, errors=\"coerce\")\n",
        "    out = pd.Series(index=x.index, dtype=float)\n",
        "    if not reverse:\n",
        "        out[(x < bins[0])] = 0\n",
        "        out[(x >= bins[0]) & (x < bins[1])] = 1\n",
        "        out[(x >= bins[1]) & (x < bins[2])] = 2\n",
        "        out[(x >= bins[2])] = 3\n",
        "    else:\n",
        "        out[(x >  bins[0])] = 0\n",
        "        out[(x <= bins[0]) & (x >  bins[1])] = 1\n",
        "        out[(x <= bins[1]) & (x >  bins[2])] = 2\n",
        "        out[(x <= bins[2])] = 3\n",
        "    return out\n",
        "\n",
        "def make_grade(total_score):\n",
        "    s = pd.Series(index=total_score.index, dtype=object)\n",
        "    s[ total_score >= GRADE_CUTOFFS[\"Master\"] ] = \"Master\"\n",
        "    s[(total_score >= GRADE_CUTOFFS[\"Super\"])  & (total_score < GRADE_CUTOFFS[\"Master\"])] = \"Super\"\n",
        "    s[(total_score >= GRADE_CUTOFFS[\"Rising\"]) & (total_score < GRADE_CUTOFFS[\"Super\"]) ] = \"Rising\"\n",
        "    s[ total_score <  GRADE_CUTOFFS[\"Rising\"] ] = \"Rookie\"\n",
        "    return s\n",
        "\n",
        "# -----------------------------\n",
        "# 데이터 로드 (host_grades_full.csv 우선)\n",
        "# -----------------------------\n",
        "if os.path.exists(PATH_FULL):\n",
        "    df = pd.read_csv(PATH_FULL)\n",
        "else:\n",
        "    # 원본에서 등급 재산출 (네가 쓰던 로직 축약)\n",
        "    df = pd.read_csv(PATH_RAW)\n",
        "\n",
        "    # 예약건수\n",
        "    CAND_BOOK_COLS = [\"bookings_count\",\"reservations_count\",\"reservation_count\",\"total_bookings\"]\n",
        "    book_col = next((c for c in CAND_BOOK_COLS if c in df.columns), None)\n",
        "    if book_col is None:\n",
        "        op_months = (df['host_since'].apply(months_since) if 'host_since' in df.columns else pd.Series(1, index=df.index)).fillna(1).clip(lower=1)\n",
        "        reviews_per_month = pd.to_numeric(df.get('reviews_per_month', np.nan), errors='coerce').fillna(0)\n",
        "        number_of_reviews = pd.to_numeric(df.get('number_of_reviews', np.nan), errors='coerce').fillna(0)\n",
        "        df['bookings_count_est'] = np.maximum(reviews_per_month * op_months, number_of_reviews)\n",
        "        book_col = 'bookings_count_est'\n",
        "\n",
        "    # 핵심 지표\n",
        "    rating = pd.to_numeric(df.get('review_scores_rating', np.nan), errors='coerce')\n",
        "    resp   = df.get('host_response_rate', np.nan).apply(pct_to_float) if 'host_response_rate' in df.columns else pd.Series(np.nan, index=df.index)\n",
        "\n",
        "    CAND_CANCEL_COLS = [\"host_cancellation_rate\",\"cancellation_rate\",\"cancel_rate\"]\n",
        "    cancel_col = next((c for c in CAND_CANCEL_COLS if c in df.columns), None)\n",
        "    if cancel_col is None:\n",
        "        if 'cancellations_count' in df.columns:\n",
        "            cancels = pd.to_numeric(df.get('cancellations_count', np.nan), errors='coerce')\n",
        "            bookings = pd.to_numeric(df.get(book_col, np.nan), errors='coerce')\n",
        "            cancel_rate = cancels / bookings.replace(0, np.nan)\n",
        "        else:\n",
        "            cancel_rate = pd.Series(np.nan, index=df.index)\n",
        "    else:\n",
        "        cancel_rate = df[cancel_col].apply(pct_to_float)\n",
        "\n",
        "    reviews = pd.to_numeric(df.get('number_of_reviews', np.nan), errors='coerce')\n",
        "\n",
        "    # 점수화 & 등급\n",
        "    scores = pd.DataFrame({\n",
        "        'score_bookings': qscore_by_quantiles(df[book_col]),\n",
        "        'score_rating'  : binscore_by_thresholds(rating, RATING_BINS, reverse=False),\n",
        "        'score_resp'    : binscore_by_thresholds(resp,   RESP_BINS,   reverse=False),\n",
        "        'score_cancel'  : binscore_by_thresholds(cancel_rate, CANCEL_BINS, reverse=True),\n",
        "        'score_reviews' : qscore_by_quantiles(reviews)\n",
        "    }).fillna(0)\n",
        "\n",
        "    total_score = scores.sum(axis=1)\n",
        "    df['host_grade'] = make_grade(total_score)\n",
        "\n",
        "# -----------------------------\n",
        "# 파생 변수 정리: 슈퍼호스트/고평점\n",
        "# -----------------------------\n",
        "is_super = df.get('host_is_superhost')\n",
        "if is_super is not None and is_super.dtype == 'O':\n",
        "    df['is_super'] = is_super.map({'t':1,'f':0,'true':1,'false':0})\n",
        "else:\n",
        "    df['is_super'] = pd.to_numeric(is_super, errors='coerce')\n",
        "\n",
        "df['review_scores_rating'] = pd.to_numeric(df.get('review_scores_rating', np.nan), errors='coerce')\n",
        "df['is_high_rating'] = (df['review_scores_rating'] >= 4.8).astype(float)\n",
        "\n",
        "# 등급 순서 고정\n",
        "df['host_grade'] = pd.Categorical(df['host_grade'], categories=GRADE_ORDER, ordered=True)\n",
        "\n",
        "GRADE_COLORS = {\n",
        "    \"Rookie\": \"#d62728\",   # 빨강\n",
        "    \"Rising\": \"#ff7f0e\",   # 주황\n",
        "    \"Super\":  \"#1f77b4\",   # 파랑\n",
        "    \"Master\": \"#2ca02c\"    # 초록\n",
        "}\n",
        "\n",
        "\n",
        "# -----------------------------\n",
        "# 그래프 1: 등급별 슈퍼호스트 비율 (bar)\n",
        "# -----------------------------\n",
        "super_rate = df.groupby('host_grade')['is_super'].mean().reindex(GRADE_ORDER)\n",
        "\n",
        "plt.figure(figsize=(6,5))\n",
        "super_rate.plot(kind='bar',\n",
        "                color=[GRADE_COLORS[g] for g in GRADE_ORDER],  # 등급 순서별 색상 지정\n",
        "                edgecolor='black')\n",
        "plt.title(\"등급별 슈퍼호스트 비율\")\n",
        "plt.xlabel(\"등급\")\n",
        "plt.ylabel(\"비율\")\n",
        "plt.ylim(0, 1)\n",
        "for i, v in enumerate(super_rate.fillna(0)):\n",
        "    plt.text(i, v + 0.02, f\"{v:.2f}\", ha='center')\n",
        "plt.tight_layout()\n",
        "plt.savefig(\"/content/grade_super_rate.png\", dpi=220)\n",
        "plt.show()\n",
        "\n",
        "# -----------------------------\n",
        "# 그래프 2: 등급별 고평점(≥4.8) 비율 (bar)\n",
        "# -----------------------------\n",
        "high_rate = df.groupby('host_grade')['is_high_rating'].mean().reindex(GRADE_ORDER)\n",
        "\n",
        "plt.figure(figsize=(6,5))\n",
        "high_rate.plot(kind='bar',\n",
        "               color=[GRADE_COLORS[g] for g in GRADE_ORDER],\n",
        "                edgecolor='black')\n",
        "plt.title(\"등급별 고평점(≥4.8) 비율\")\n",
        "plt.xlabel(\"등급\")\n",
        "plt.ylabel(\"비율\")\n",
        "plt.ylim(0, 1)\n",
        "for i, v in enumerate(high_rate.fillna(0)):\n",
        "    plt.text(i, v + 0.02, f\"{v:.2f}\", ha='center')\n",
        "plt.tight_layout()\n",
        "plt.savefig(\"/content/grade_highrate.png\", dpi=220)\n",
        "plt.show()\n",
        "\n",
        "# -----------------------------\n",
        "# 그래프 3: 등급별 평점 분포 (boxplot)\n",
        "# -----------------------------\n",
        "plt.figure(figsize=(6,5))\n",
        "data_for_box = [df.loc[df['host_grade']==g, 'review_scores_rating'].dropna().values for g in GRADE_ORDER]\n",
        "plt.boxplot(data_for_box, labels=GRADE_ORDER, showmeans=True, patch_artist=True)\n",
        "for patch, g in zip(plt.gca().artists, GRADE_ORDER):\n",
        "    patch.set_facecolor(GRADE_COLORS[g])\n",
        "plt.title(\"등급별 평점 분포\")\n",
        "plt.xlabel(\"등급\")\n",
        "plt.ylabel(\"평점\")\n",
        "plt.tight_layout()\n",
        "plt.savefig(\"/content/grade_rating_box.png\", dpi=220)\n",
        "plt.show()\n",
        "\n",
        "# -----------------------------\n",
        "# 그래프 4: 등급×슈퍼호스트 구성비 (누적 막대, 발표용)\n",
        "# -----------------------------\n",
        "tab = pd.crosstab(df['host_grade'], df['is_super']).reindex(GRADE_ORDER)\n",
        "# 비율로 변환\n",
        "tab_ratio = tab.div(tab.sum(axis=1), axis=0)\n",
        "\n",
        "plt.figure(figsize=(6,5))\n",
        "bottom = np.zeros(len(tab_ratio))\n",
        "for col in sorted(tab_ratio.columns):  # 0.0 먼저, 1.0 다음\n",
        "    vals = tab_ratio[col].values\n",
        "    plt.bar(GRADE_ORDER, vals, bottom=bottom, label=f\"슈퍼호스트={int(col)}\")\n",
        "    bottom += vals\n",
        "plt.title(\"등급별 슈퍼호스트 구성비\")\n",
        "plt.xlabel(\"등급\")\n",
        "plt.ylabel(\"비율\")\n",
        "plt.ylim(0, 1)\n",
        "plt.legend(loc=\"upper right\")\n",
        "for i, total in enumerate(tab_ratio.sum(axis=1).values):\n",
        "    plt.text(i, 0.8, f\"n={int(tab.sum(axis=1).iloc[i])}\", ha='center')\n",
        "plt.tight_layout()\n",
        "plt.savefig(\"/content/grade_super_stacked.png\", dpi=220)\n",
        "plt.show()\n",
        "\n",
        "\n",
        "# -----------------------------\n",
        "# 그래프 5: 등급 분포 (파이차트)\n",
        "# -----------------------------\n",
        "grade_counts = df['host_grade'].value_counts().reindex(GRADE_ORDER)\n",
        "\n",
        "plt.figure(figsize=(6,6))\n",
        "plt.pie(\n",
        "    grade_counts,\n",
        "    labels=GRADE_ORDER,\n",
        "    autopct='%1.1f%%',\n",
        "    startangle=90,\n",
        "    counterclock=False,\n",
        "    colors=[GRADE_COLORS[g] for g in GRADE_ORDER]\n",
        ")\n",
        "plt.title(\"호스트 등급 분포\")\n",
        "plt.tight_layout()\n",
        "plt.savefig(\"/content/grade_distribution_pie.png\", dpi=220)\n",
        "plt.show()\n",
        "\n",
        "\n",
        "print(\"Saved figures:\")\n",
        "print(\"- /content/grade_super_rate.png\")\n",
        "print(\"- /content/grade_highrate.png\")\n",
        "print(\"- /content/grade_rating_box.png\")\n",
        "print(\"- /content/grade_super_stacked.png\")\n",
        "print(\"- /content/grade_distribution_pie.png\")\n"
      ],
      "metadata": {
        "colab": {
          "base_uri": "https://localhost:8080/",
          "height": 1000
        },
        "id": "XiD25TNulemN",
        "outputId": "c94891a7-4019-4016-ff49-4dc5c6381320"
      },
      "execution_count": 16,
      "outputs": [
        {
          "output_type": "stream",
          "name": "stderr",
          "text": [
            "/tmp/ipython-input-251802868.py:151: FutureWarning: The default of observed=False is deprecated and will be changed to True in a future version of pandas. Pass observed=False to retain current behavior or observed=True to adopt the future default and silence this warning.\n",
            "  super_rate = df.groupby('host_grade')['is_super'].mean().reindex(GRADE_ORDER)\n"
          ]
        },
        {
          "output_type": "display_data",
          "data": {
            "text/plain": [
              "<Figure size 600x500 with 1 Axes>"
            ],
            "image/png": "[encoded data removed]"
          },
          "metadata": {}
        },
        {
          "output_type": "stream",
          "name": "stderr",
          "text": [
            "/tmp/ipython-input-251802868.py:170: FutureWarning: The default of observed=False is deprecated and will be changed to True in a future version of pandas. Pass observed=False to retain current behavior or observed=True to adopt the future default and silence this warning.\n",
            "  high_rate = df.groupby('host_grade')['is_high_rating'].mean().reindex(GRADE_ORDER)\n"
          ]
        },
        {
          "output_type": "display_data",
          "data": {
            "text/plain": [
              "<Figure size 600x500 with 1 Axes>"
            ],
            "image/png": "[encoded data removed]"
          },
          "metadata": {}
        },
        {
          "output_type": "stream",
          "name": "stderr",
          "text": [
            "/tmp/ipython-input-251802868.py:191: MatplotlibDeprecationWarning: The 'labels' parameter of boxplot() has been renamed 'tick_labels' since Matplotlib 3.9; support for the old name will be dropped in 3.11.\n",
            "  plt.boxplot(data_for_box, labels=GRADE_ORDER, showmeans=True, patch_artist=True)\n"
          ]
        },
        {
          "output_type": "display_data",
          "data": {
            "text/plain": [
              "<Figure size 600x500 with 1 Axes>"
            ],
            "image/png": "[encoded data removed]"
          },
          "metadata": {}
        },
        {
          "output_type": "display_data",
          "data": {
            "text/plain": [
              "<Figure size 600x500 with 1 Axes>"
            ],
            "image/png": "[encoded data removed]"
          },
          "metadata": {}
        },
        {
          "output_type": "display_data",
          "data": {
            "text/plain": [
              "<Figure size 600x600 with 1 Axes>"
            ],
            "image/png": "[encoded data removed]"
          },
          "metadata": {}
        },
        {
          "output_type": "stream",
          "name": "stdout",
          "text": [
            "Saved figures:\n",
            "- /content/grade_super_rate.png\n",
            "- /content/grade_highrate.png\n",
            "- /content/grade_rating_box.png\n",
            "- /content/grade_super_stacked.png\n",
            "- /content/grade_distribution_pie.png\n"
          ]
        }
      ]
    },
    {
      "cell_type": "markdown",
      "source": [
        "-------"
      ],
      "metadata": {
        "id": "3zdx7dYo56Jx"
      }
    },
    {
      "cell_type": "markdown",
      "source": [
        "#2번 코드입니다!!!"
      ],
      "metadata": {
        "id": "tE2XFaaf8RNQ"
      }
    },
    {
      "cell_type": "markdown",
      "source": [
        "### 근데 이건 아닌 듯.."
      ],
      "metadata": {
        "id": "eUyDwGS08UQy"
      }
    },
    {
      "cell_type": "code",
      "source": [
        "import pandas as pd\n",
        "import numpy as np\n",
        "from sklearn.preprocessing import StandardScaler\n",
        "from sklearn.cluster import KMeans\n",
        "\n",
        "# 데이터 불러오기\n",
        "df = pd.read_csv(\"/content/combined_dataset.csv\")\n",
        "\n",
        "# 결과 변수\n",
        "rating = pd.to_numeric(df.get(\"review_scores_rating\"), errors=\"coerce\")\n",
        "is_super = df.get(\"host_is_superhost\")\n",
        "if is_super is not None and is_super.dtype == \"O\":\n",
        "    is_super = is_super.map({\"t\":1,\"f\":0,\"true\":1,\"false\":0})\n",
        "is_super = pd.to_numeric(is_super, errors=\"coerce\")\n",
        "\n",
        "# 수치형 feature 후보\n",
        "num_cols = [c for c in df.select_dtypes(include=[np.number]).columns if c not in [\"id\",\"review_scores_rating\"]]\n",
        "features = df[num_cols].copy()\n",
        "\n",
        "# ===== 1. 결측값 처리 (전체 중앙값 → 남으면 0) =====\n",
        "features = features.fillna(features.median(numeric_only=True)).fillna(0)\n",
        "\n",
        "# ===== 2. 상관 높은 변수 선택 =====\n",
        "corrs = {}\n",
        "for c in features.columns:\n",
        "    try:\n",
        "        corrs[c] = abs(np.corrcoef(features[c], rating.fillna(0))[0,1])\n",
        "    except Exception:\n",
        "        corrs[c] = 0\n",
        "top_vars = sorted(corrs, key=corrs.get, reverse=True)[:5]\n",
        "print(\"선택된 상위 변수:\", top_vars)\n",
        "\n",
        "# 선택된 변수 결측 재처리 (안전장치)\n",
        "features[top_vars] = features[top_vars].fillna(features[top_vars].median()).fillna(0)\n",
        "\n",
        "# ===== 3. Quantile 기반 등급 =====\n",
        "score = features[top_vars].sum(axis=1)\n",
        "df[\"grade_quantile\"] = pd.qcut(score.rank(method=\"first\"), 4, labels=[\"Rookie\",\"Rising\",\"Super\",\"Master\"])\n",
        "\n",
        "# ===== 4. KMeans 기반 등급 =====\n",
        "scaler = StandardScaler()\n",
        "Xz = scaler.fit_transform(features[top_vars].values)   # 이제 NaN 없어야 함\n",
        "kmeans = KMeans(n_clusters=4, n_init=50, random_state=42)\n",
        "clusters = kmeans.fit_predict(Xz)\n",
        "\n",
        "# 클러스터 → 등급 매핑 (평균 평점 순서대로)\n",
        "order = pd.DataFrame({\"c\":clusters,\"rating\":rating}).groupby(\"c\")[\"rating\"].mean().sort_values().index.tolist()\n",
        "c2g = {order[i]: g for i, g in enumerate([\"Rookie\",\"Rising\",\"Super\",\"Master\"])}\n",
        "df[\"grade_kmeans\"] = pd.Series(clusters).map(c2g)\n"
      ],
      "metadata": {
        "colab": {
          "base_uri": "https://localhost:8080/"
        },
        "id": "SQ9s0JM8qYqV",
        "outputId": "7abf39b7-1b21-461d-a04b-f016f4f45047"
      },
      "execution_count": 12,
      "outputs": [
        {
          "output_type": "stream",
          "name": "stderr",
          "text": [
            "/usr/local/lib/python3.12/dist-packages/numpy/lib/_function_base_impl.py:2922: RuntimeWarning: invalid value encountered in divide\n",
            "  c /= stddev[:, None]\n",
            "/usr/local/lib/python3.12/dist-packages/numpy/lib/_function_base_impl.py:2923: RuntimeWarning: invalid value encountered in divide\n",
            "  c /= stddev[None, :]\n"
          ]
        },
        {
          "output_type": "stream",
          "name": "stdout",
          "text": [
            "선택된 상위 변수: ['neighbourhood_group_cleansed', 'calendar_updated', 'number_of_reviews_ltm', 'number_of_reviews_l30d', 'number_of_reviews']\n"
          ]
        }
      ]
    },
    {
      "cell_type": "code",
      "source": [
        "# === 시각화 & 요약 ===\n",
        "import matplotlib.pyplot as plt\n",
        "import numpy as np\n",
        "import pandas as pd\n",
        "\n",
        "# 등급 순서 & 색상(원하면 바꿔도 됨)\n",
        "GRADE_ORDER = [\"Rookie\",\"Rising\",\"Super\",\"Master\"]\n",
        "GRADE_COLORS = {\n",
        "    \"Rookie\": \"#d62728\",   # 빨강\n",
        "    \"Rising\": \"#ff7f0e\",   # 주황\n",
        "    \"Super\":  \"#1f77b4\",   # 파랑\n",
        "    \"Master\": \"#2ca02c\"    # 초록\n",
        "}\n",
        "\n",
        "# 등급 열을 범주형 & 순서 고정\n",
        "for col in [\"grade_quantile\", \"grade_kmeans\"]:\n",
        "    if col in df.columns:\n",
        "        df[col] = pd.Categorical(df[col], categories=GRADE_ORDER, ordered=True)\n",
        "\n",
        "# 슈퍼호스트 컬럼 정리 (0/1)\n",
        "raw_super = df.get(\"host_is_superhost\")\n",
        "if \"is_super\" not in df.columns:\n",
        "    if raw_super is not None and getattr(raw_super, \"dtype\", None) == \"O\":\n",
        "        df[\"is_super\"] = raw_super.map({\"t\":1,\"f\":0,\"true\":1,\"false\":0})\n",
        "    else:\n",
        "        df[\"is_super\"] = pd.to_numeric(raw_super, errors=\"coerce\")\n",
        "df[\"is_super\"] = pd.to_numeric(df[\"is_super\"], errors=\"coerce\")\n",
        "\n",
        "# 고평점 여부 (≥4.8)\n",
        "df[\"is_high_rating\"] = (pd.to_numeric(df[\"review_scores_rating\"], errors=\"coerce\") >= 4.8).astype(float)\n",
        "\n",
        "def boxplot_by_grade(grade_col, filename):\n",
        "    \"\"\"등급별 평점 박스플롯\"\"\"\n",
        "    if grade_col not in df.columns:\n",
        "        print(f\"[skip] {grade_col} 없음\")\n",
        "        return\n",
        "    data = [df.loc[df[grade_col]==g, \"review_scores_rating\"].dropna().values for g in GRADE_ORDER]\n",
        "    # 전체가 비었는지 체크\n",
        "    if all(len(d)==0 for d in data):\n",
        "        print(f\"[skip] {grade_col}에 유효한 평점 없음\")\n",
        "        return\n",
        "    plt.figure(figsize=(7,5))\n",
        "    bp = plt.boxplot(data, labels=GRADE_ORDER, showmeans=True, patch_artist=True)\n",
        "    # 색상 채우기\n",
        "    for patch, g in zip(bp['boxes'], GRADE_ORDER):\n",
        "        patch.set_facecolor(GRADE_COLORS[g])\n",
        "    plt.title(f\"등급별 평점 분포 ({grade_col})\")\n",
        "    plt.xlabel(\"등급\")\n",
        "    plt.ylabel(\"평점\")\n",
        "    plt.tight_layout()\n",
        "    plt.savefig(f\"/content/{filename}\", dpi=220)\n",
        "    plt.show()\n",
        "    print(f\"[saved] /content/{filename}\")\n",
        "\n",
        "def bar_rate_by_grade(grade_col, target_col, title, filename):\n",
        "    \"\"\"등급별 비율 막대 (슈퍼호스트/고평점 등)\"\"\"\n",
        "    if grade_col not in df.columns:\n",
        "        print(f\"[skip] {grade_col} 없음\")\n",
        "        return\n",
        "    sub = df[[grade_col, target_col]].dropna()\n",
        "    if sub.empty:\n",
        "        print(f\"[skip] {grade_col}×{target_col} 유효 표본 없음\")\n",
        "        return\n",
        "    rate = sub.groupby(grade_col)[target_col].mean().reindex(GRADE_ORDER)\n",
        "    plt.figure(figsize=(7,5))\n",
        "    colors = [GRADE_COLORS[g] for g in GRADE_ORDER]\n",
        "    plt.bar(GRADE_ORDER, rate.values, color=colors, edgecolor=\"black\")\n",
        "    for i, v in enumerate(rate.fillna(0).values):\n",
        "        plt.text(i, v + 0.02, f\"{v:.2f}\", ha=\"center\")\n",
        "    plt.ylim(0, 1)\n",
        "    plt.title(title)\n",
        "    plt.xlabel(\"등급\")\n",
        "    plt.ylabel(\"비율\")\n",
        "    plt.tight_layout()\n",
        "    plt.savefig(f\"/content/{filename}\", dpi=220)\n",
        "    plt.show()\n",
        "    print(f\"[saved] /content/{filename}\")\n",
        "\n",
        "def pie_distribution(grade_col, filename):\n",
        "    \"\"\"등급 분포 파이차트\"\"\"\n",
        "    if grade_col not in df.columns:\n",
        "        print(f\"[skip] {grade_col} 없음\")\n",
        "        return\n",
        "    counts = df[grade_col].value_counts().reindex(GRADE_ORDER).fillna(0)\n",
        "    if counts.sum() == 0:\n",
        "        print(f\"[skip] {grade_col} 유효 표본 없음\")\n",
        "        return\n",
        "    plt.figure(figsize=(6,6))\n",
        "    plt.pie(\n",
        "        counts.values,\n",
        "        labels=GRADE_ORDER,\n",
        "        autopct=\"%1.1f%%\",\n",
        "        startangle=90,\n",
        "        counterclock=False,\n",
        "        colors=[GRADE_COLORS[g] for g in GRADE_ORDER]\n",
        "    )\n",
        "    plt.title(f\"호스트 등급 분포 ({grade_col})\")\n",
        "    plt.tight_layout()\n",
        "    plt.savefig(f\"/content/{filename}\", dpi=220)\n",
        "    plt.show()\n",
        "    print(f\"[saved] /content/{filename}\")\n",
        "\n",
        "def heatmap_crosstab(grade_col_a, grade_col_b, filename):\n",
        "    \"\"\"두 등급 간 교차표 히트맵 (일치도 확인)\"\"\"\n",
        "    if grade_col_a not in df.columns or grade_col_b not in df.columns:\n",
        "        print(f\"[skip] {grade_col_a}/{grade_col_b} 없음\")\n",
        "        return\n",
        "    tab = pd.crosstab(df[grade_col_a], df[grade_col_b]).reindex(index=GRADE_ORDER, columns=GRADE_ORDER)\n",
        "    if tab.sum().sum() == 0:\n",
        "        print(f\"[skip] 교차표 비어있음\")\n",
        "        return\n",
        "    plt.figure(figsize=(6,5))\n",
        "    plt.imshow(tab, aspect=\"auto\")\n",
        "    plt.xticks(range(4), GRADE_ORDER)\n",
        "    plt.yticks(range(4), GRADE_ORDER)\n",
        "    plt.colorbar(label=\"count\")\n",
        "    # 셀 값 표시\n",
        "    for i in range(4):\n",
        "        for j in range(4):\n",
        "            plt.text(j, i, int(tab.iloc[i, j]), ha=\"center\", va=\"center\", color=\"white\" if tab.values[i, j] > tab.values.max()/2 else \"black\")\n",
        "    plt.title(f\"교차표 히트맵: {grade_col_a} vs {grade_col_b}\")\n",
        "    plt.xlabel(grade_col_b)\n",
        "    plt.ylabel(grade_col_a)\n",
        "    plt.tight_layout()\n",
        "    plt.savefig(f\"/content/{filename}\", dpi=220)\n",
        "    plt.show()\n",
        "    print(f\"[saved] /content/{filename}\")\n",
        "\n",
        "# ---- 실제 호출 (원하는 것만 실행해도 됨) ----\n",
        "# 박스플롯\n",
        "boxplot_by_grade(\"grade_kmeans\",   \"box_rating_by_grade_kmeans.png\")\n",
        "boxplot_by_grade(\"grade_quantile\", \"box_rating_by_grade_quantile.png\")\n",
        "\n",
        "# 비율 막대 (슈퍼호스트 / 고평점)\n",
        "bar_rate_by_grade(\"grade_kmeans\",   \"is_super\",      \"등급별 슈퍼호스트 비율 (KMeans)\",   \"bar_super_rate_kmeans.png\")\n",
        "bar_rate_by_grade(\"grade_quantile\", \"is_super\",      \"등급별 슈퍼호스트 비율 (Quantile)\", \"bar_super_rate_quantile.png\")\n",
        "bar_rate_by_grade(\"grade_kmeans\",   \"is_high_rating\",\"등급별 고평점(≥4.8) 비율 (KMeans)\", \"bar_high_rate_kmeans.png\")\n",
        "bar_rate_by_grade(\"grade_quantile\", \"is_high_rating\",\"등급별 고평점(≥4.8) 비율 (Quantile)\", \"bar_high_rate_quantile.png\")\n",
        "\n",
        "# 파이차트 (등급 분포)\n",
        "pie_distribution(\"grade_kmeans\",   \"pie_grade_kmeans.png\")\n",
        "pie_distribution(\"grade_quantile\", \"pie_grade_quantile.png\")\n",
        "\n",
        "# 교차 히트맵 (일치도 시각화)\n",
        "heatmap_crosstab(\"grade_quantile\", \"grade_kmeans\", \"heatmap_grade_crosstab.png\")"
      ],
      "metadata": {
        "colab": {
          "base_uri": "https://localhost:8080/",
          "height": 1000
        },
        "id": "858wDRpK5hTa",
        "outputId": "95020ba2-6834-431f-d98e-79e06cda2eab"
      },
      "execution_count": 15,
      "outputs": [
        {
          "output_type": "stream",
          "name": "stderr",
          "text": [
            "/tmp/ipython-input-2304807168.py:43: MatplotlibDeprecationWarning: The 'labels' parameter of boxplot() has been renamed 'tick_labels' since Matplotlib 3.9; support for the old name will be dropped in 3.11.\n",
            "  bp = plt.boxplot(data, labels=GRADE_ORDER, showmeans=True, patch_artist=True)\n"
          ]
        },
        {
          "output_type": "display_data",
          "data": {
            "text/plain": [
              "<Figure size 700x500 with 1 Axes>"
            ],
            "image/png": "[encoded data removed]"
          },
          "metadata": {}
        },
        {
          "output_type": "stream",
          "name": "stdout",
          "text": [
            "[saved] /content/box_rating_by_grade_kmeans.png\n"
          ]
        },
        {
          "output_type": "stream",
          "name": "stderr",
          "text": [
            "/tmp/ipython-input-2304807168.py:43: MatplotlibDeprecationWarning: The 'labels' parameter of boxplot() has been renamed 'tick_labels' since Matplotlib 3.9; support for the old name will be dropped in 3.11.\n",
            "  bp = plt.boxplot(data, labels=GRADE_ORDER, showmeans=True, patch_artist=True)\n"
          ]
        },
        {
          "output_type": "display_data",
          "data": {
            "text/plain": [
              "<Figure size 700x500 with 1 Axes>"
            ],
            "image/png": "[encoded data removed]"
          },
          "metadata": {}
        },
        {
          "output_type": "stream",
          "name": "stdout",
          "text": [
            "[saved] /content/box_rating_by_grade_quantile.png\n"
          ]
        },
        {
          "output_type": "stream",
          "name": "stderr",
          "text": [
            "/tmp/ipython-input-2304807168.py:64: FutureWarning: The default of observed=False is deprecated and will be changed to True in a future version of pandas. Pass observed=False to retain current behavior or observed=True to adopt the future default and silence this warning.\n",
            "  rate = sub.groupby(grade_col)[target_col].mean().reindex(GRADE_ORDER)\n"
          ]
        },
        {
          "output_type": "display_data",
          "data": {
            "text/plain": [
              "<Figure size 700x500 with 1 Axes>"
            ],
            "image/png": "[encoded data removed]"
          },
          "metadata": {}
        },
        {
          "output_type": "stream",
          "name": "stdout",
          "text": [
            "[saved] /content/bar_super_rate_kmeans.png\n"
          ]
        },
        {
          "output_type": "stream",
          "name": "stderr",
          "text": [
            "/tmp/ipython-input-2304807168.py:64: FutureWarning: The default of observed=False is deprecated and will be changed to True in a future version of pandas. Pass observed=False to retain current behavior or observed=True to adopt the future default and silence this warning.\n",
            "  rate = sub.groupby(grade_col)[target_col].mean().reindex(GRADE_ORDER)\n"
          ]
        },
        {
          "output_type": "display_data",
          "data": {
            "text/plain": [
              "<Figure size 700x500 with 1 Axes>"
            ],
            "image/png": "[encoded data removed]"
          },
          "metadata": {}
        },
        {
          "output_type": "stream",
          "name": "stdout",
          "text": [
            "[saved] /content/bar_super_rate_quantile.png\n"
          ]
        },
        {
          "output_type": "stream",
          "name": "stderr",
          "text": [
            "/tmp/ipython-input-2304807168.py:64: FutureWarning: The default of observed=False is deprecated and will be changed to True in a future version of pandas. Pass observed=False to retain current behavior or observed=True to adopt the future default and silence this warning.\n",
            "  rate = sub.groupby(grade_col)[target_col].mean().reindex(GRADE_ORDER)\n"
          ]
        },
        {
          "output_type": "display_data",
          "data": {
            "text/plain": [
              "<Figure size 700x500 with 1 Axes>"
            ],
            "image/png": "[encoded data removed]"
          },
          "metadata": {}
        },
        {
          "output_type": "stream",
          "name": "stdout",
          "text": [
            "[saved] /content/bar_high_rate_kmeans.png\n"
          ]
        },
        {
          "output_type": "stream",
          "name": "stderr",
          "text": [
            "/tmp/ipython-input-2304807168.py:64: FutureWarning: The default of observed=False is deprecated and will be changed to True in a future version of pandas. Pass observed=False to retain current behavior or observed=True to adopt the future default and silence this warning.\n",
            "  rate = sub.groupby(grade_col)[target_col].mean().reindex(GRADE_ORDER)\n"
          ]
        },
        {
          "output_type": "display_data",
          "data": {
            "text/plain": [
              "<Figure size 700x500 with 1 Axes>"
            ],
            "image/png": "[encoded data removed]"
          },
          "metadata": {}
        },
        {
          "output_type": "stream",
          "name": "stdout",
          "text": [
            "[saved] /content/bar_high_rate_quantile.png\n"
          ]
        },
        {
          "output_type": "display_data",
          "data": {
            "text/plain": [
              "<Figure size 600x600 with 1 Axes>"
            ],
            "image/png": "[encoded data removed]"
          },
          "metadata": {}
        },
        {
          "output_type": "stream",
          "name": "stdout",
          "text": [
            "[saved] /content/pie_grade_kmeans.png\n"
          ]
        },
        {
          "output_type": "display_data",
          "data": {
            "text/plain": [
              "<Figure size 600x600 with 1 Axes>"
            ],
            "image/png": "[encoded data removed]"
          },
          "metadata": {}
        },
        {
          "output_type": "stream",
          "name": "stdout",
          "text": [
            "[saved] /content/pie_grade_quantile.png\n"
          ]
        },
        {
          "output_type": "display_data",
          "data": {
            "text/plain": [
              "<Figure size 600x500 with 2 Axes>"
            ],
            "image/png": "[encoded data removed]"
          },
          "metadata": {}
        },
        {
          "output_type": "stream",
          "name": "stdout",
          "text": [
            "[saved] /content/heatmap_grade_crosstab.png\n"
          ]
        }
      ]
    },
    {
      "cell_type": "markdown",
      "source": [
        "----"
      ],
      "metadata": {
        "id": "msRQ58bx0Yxs"
      }
    },
    {
      "cell_type": "markdown",
      "source": [
        "### 이건 변수가 다 리뷰 관련 변수들이 나왔어요... ㅜ"
      ],
      "metadata": {
        "id": "M-At8Or_8X4b"
      }
    },
    {
      "cell_type": "code",
      "source": [
        "# -*- coding: utf-8 -*-\n",
        "import pandas as pd\n",
        "import numpy as np\n",
        "from sklearn.preprocessing import StandardScaler\n",
        "from sklearn.cluster import KMeans\n",
        "import matplotlib.pyplot as plt\n",
        "\n",
        "# =========================\n",
        "# 설정\n",
        "# =========================\n",
        "PATH = \"/content/combined_dataset.csv\"\n",
        "TOP_VARS = 5           # 결과(평점)와의 상관으로 뽑을 수치 변수 개수\n",
        "MIN_NONNA_RATIO = 0.7  # 변수 선택에 필요한 최소 비결측 비율\n",
        "USE_CONTINUOUS_AUX = False  # True면 사분위 벡터에 더해 표준화 연속값도 합쳐서 KMeans\n",
        "\n",
        "GRADE_ORDER  = [\"Rookie\",\"Rising\",\"Super\",\"Master\"]\n",
        "GRADE_COLORS = {\"Rookie\":\"#d62728\",\"Rising\":\"#ff7f0e\",\"Super\":\"#1f77b4\",\"Master\":\"#2ca02c\"}\n",
        "\n",
        "# =========================\n",
        "# 1) 데이터/타깃 준비\n",
        "# =========================\n",
        "df = pd.read_csv(PATH)\n",
        "\n",
        "rating = pd.to_numeric(df.get(\"review_scores_rating\"), errors=\"coerce\")\n",
        "is_super = df.get(\"host_is_superhost\")\n",
        "if is_super is not None and getattr(is_super, \"dtype\", None) == \"O\":\n",
        "    is_super = is_super.map({\"t\":1,\"f\":0,\"true\":1,\"false\":0})\n",
        "is_super = pd.to_numeric(is_super, errors=\"coerce\")\n",
        "\n",
        "# 후보 수치 변수(식별/타깃 제외)\n",
        "num_cols = [c for c in df.select_dtypes(include=[np.number]).columns\n",
        "            if c not in [\"id\",\"review_scores_rating\"]]\n",
        "\n",
        "# 결측 적은 변수만 후보로\n",
        "num_cols = [c for c in num_cols if df[c].notna().mean() >= MIN_NONNA_RATIO and df[c].nunique(dropna=True) >= 2]\n",
        "\n",
        "# =========================\n",
        "# 2) 결과 기반 상위 변수 선택 (pairwise corr)\n",
        "# =========================\n",
        "corrs = {}\n",
        "for c in num_cols:\n",
        "    try:\n",
        "        corrs[c] = abs(df[c].corr(rating, method=\"pearson\"))\n",
        "    except Exception:\n",
        "        corrs[c] = 0.0\n",
        "\n",
        "top_vars = sorted(corrs, key=corrs.get, reverse=True)[:TOP_VARS]\n",
        "if len(top_vars) == 0:\n",
        "    raise ValueError(\"상관으로 선택된 수치 변수가 없습니다. MIN_NONNA_RATIO를 낮추거나 데이터 컬럼을 확인하세요.\")\n",
        "print(\"선택된 상위 변수:\", top_vars)\n",
        "\n",
        "# 유효 표본(선택변수 + 평점 결측 제거)\n",
        "need_cols = top_vars + [\"review_scores_rating\"]\n",
        "idx_valid = df[need_cols].dropna().index\n",
        "X_raw = df.loc[idx_valid, top_vars].copy()\n",
        "y_rating = rating.loc[idx_valid].copy()\n",
        "y_super  = is_super.loc[idx_valid].copy()\n",
        "\n",
        "# =========================\n",
        "# 3) 사분위 벡터 만들기 (분위+순위 기반, 중복 경계 안전)\n",
        "# =========================\n",
        "def quantile_bins(series, n_bins=4):\n",
        "    \"\"\"연속값 -> 분위 랭크(0~1) -> qcut(0..n-1). 실패 시 균등 cut 폴백.\"\"\"\n",
        "    s = pd.to_numeric(series, errors=\"coerce\")\n",
        "    # rank percent (0~1)\n",
        "    r = (s.rank(method=\"average\") - 1) / (s.notna().sum() - 1) if s.notna().sum() > 1 else s*0\n",
        "    r = r.fillna(0.5)  # 단일값 대비\n",
        "    try:\n",
        "        b = pd.qcut(r, n_bins, labels=list(range(n_bins)), duplicates=\"drop\")\n",
        "        if getattr(b, \"cat\", None) is not None and b.cat.categories.size < n_bins:\n",
        "            raise ValueError\n",
        "    except Exception:\n",
        "        # 균등 간격으로 강제 분할\n",
        "        b = pd.cut(r, bins=np.linspace(0,1,n_bins+1), labels=list(range(n_bins)), include_lowest=True)\n",
        "    return b.astype(float)\n",
        "\n",
        "# 각 변수별 사분위 bin (0,1,2,3)\n",
        "Qmat = pd.DataFrame({f\"{c}__qbin\": quantile_bins(X_raw[c]) for c in top_vars}, index=X_raw.index)\n",
        "\n",
        "# 보조로 연속 표준화 값 사용 옵션\n",
        "if USE_CONTINUOUS_AUX:\n",
        "    Z = StandardScaler().fit_transform(X_raw.values)\n",
        "    Z = pd.DataFrame(Z, index=X_raw.index, columns=[f\"{c}__z\" for c in top_vars])\n",
        "    X_hybrid = pd.concat([Qmat, Z], axis=1)\n",
        "else:\n",
        "    X_hybrid = Qmat.copy()\n",
        "\n",
        "# 혹시라도 남은 결측 제거(거의 없지만 방어)\n",
        "X_hybrid = X_hybrid.dropna()\n",
        "y_rating = y_rating.loc[X_hybrid.index]\n",
        "y_super  = y_super.loc[X_hybrid.index]\n",
        "\n",
        "if len(X_hybrid) < 10:\n",
        "    raise ValueError(\"유효 표본이 너무 적어 KMeans를 안정적으로 수행하기 어렵습니다.\")\n",
        "\n",
        "# =========================\n",
        "# 4) KMeans(4) on 사분위+연속 하이브리드 공간\n",
        "# =========================\n",
        "kmeans = KMeans(n_clusters=4, n_init=50, random_state=42)\n",
        "clusters = kmeans.fit_predict(X_hybrid.values)\n",
        "\n",
        "# 평균 평점 낮→높 순으로 Rookie→Master 매핑\n",
        "order = (pd.DataFrame({\"c\":clusters, \"rating\":y_rating})\n",
        "         .groupby(\"c\")[\"rating\"].mean().sort_values().index.tolist())\n",
        "c2g = {order[i]:g for i,g in enumerate(GRADE_ORDER)}\n",
        "grade_hybrid = pd.Series(clusters, index=X_hybrid.index, name=\"grade_hybrid\").map(c2g)\n",
        "\n",
        "# =========================\n",
        "# 5) 등급별 요약 표 (리뷰/예약/평점)\n",
        "# =========================\n",
        "book_cands = [\"bookings_count\",\"reservations_count\",\"reservation_count\",\n",
        "              \"total_bookings\",\"confirmed_bookings\",\"bookings_count_est\"]\n",
        "book_col = next((c for c in book_cands if c in df.columns), None)\n",
        "review_col = \"number_of_reviews\" if \"number_of_reviews\" in df.columns else None\n",
        "rating_col = \"review_scores_rating\"\n",
        "\n",
        "def make_summary(grade_s, label):\n",
        "    cols = [rating_col]\n",
        "    if review_col: cols.append(review_col)\n",
        "    if book_col:   cols.append(book_col)\n",
        "    tmp = pd.concat([grade_s, df.loc[grade_s.index, cols]], axis=1).dropna()\n",
        "    if tmp.empty:\n",
        "        print(f\"[{label}] 요약 불가: 유효 표본 없음\")\n",
        "        return None\n",
        "    agg = {rating_col:[\"mean\",\"median\"]}\n",
        "    if review_col: agg[review_col] = [\"mean\",\"median\",\"min\",\"max\"]\n",
        "    if book_col:   agg[book_col]   = [\"mean\",\"median\",\"min\",\"max\"]\n",
        "    summ = tmp.groupby(grade_s.name).agg(agg).round(2)\n",
        "    summ.columns = [\"_\".join(filter(None, c)).strip(\"_\") for c in summ.columns.to_flat_index()]\n",
        "    print(f\"\\n=== 등급별 기준 요약 ({label}) ===\")\n",
        "    print(summ)\n",
        "    return summ\n",
        "\n",
        "summ_h = make_summary(grade_hybrid, \"Hybrid(KMeans on Quantile-space)\")\n",
        "\n",
        "# =========================\n",
        "# 6) 시각화 (박스/막대/파이)\n",
        "# =========================\n",
        "def boxplot_by_grade(grade_s, title, path):\n",
        "    data = [df.loc[grade_s.index][grade_s==g][\"review_scores_rating\"].dropna().values for g in GRADE_ORDER]\n",
        "    if all(len(d)==0 for d in data):\n",
        "        print(\"[skip] 박스플롯: 유효한 평점 없음\")\n",
        "        return\n",
        "    plt.figure(figsize=(7,5))\n",
        "    bp = plt.boxplot(data, labels=GRADE_ORDER, showmeans=True, patch_artist=True)\n",
        "    for patch, g in zip(bp[\"boxes\"], GRADE_ORDER):\n",
        "        patch.set_facecolor(GRADE_COLORS[g])\n",
        "    plt.title(title); plt.xlabel(\"등급\"); plt.ylabel(\"평점\")\n",
        "    plt.tight_layout(); plt.savefig(path, dpi=220); plt.show(); print(\"[saved]\", path)\n",
        "\n",
        "def bar_rate_by_grade(grade_s, target_col, title, path):\n",
        "    sub = pd.concat([grade_s, df.loc[grade_s.index, target_col]], axis=1).dropna()\n",
        "    if sub.empty:\n",
        "        print(\"[skip] 막대: 유효 표본 없음\"); return\n",
        "    rate = sub.groupby(grade_s.name)[target_col].mean().reindex(GRADE_ORDER)\n",
        "    plt.figure(figsize=(7,5))\n",
        "    plt.bar(GRADE_ORDER, rate.values, color=[GRADE_COLORS[g] for g in GRADE_ORDER], edgecolor=\"black\")\n",
        "    for i,v in enumerate(rate.fillna(0).values): plt.text(i, v+0.02, f\"{v:.2f}\", ha=\"center\")\n",
        "    plt.ylim(0,1); plt.title(title); plt.xlabel(\"등급\"); plt.ylabel(\"비율\")\n",
        "    plt.tight_layout(); plt.savefig(path, dpi=220); plt.show(); print(\"[saved]\", path)\n",
        "\n",
        "def pie_distribution(grade_s, title, path):\n",
        "    counts = grade_s.value_counts().reindex(GRADE_ORDER).fillna(0)\n",
        "    if counts.sum() == 0: print(\"[skip] 파이: 비어있음\"); return\n",
        "    plt.figure(figsize=(6,6))\n",
        "    plt.pie(counts.values, labels=GRADE_ORDER, autopct=\"%1.1f%%\", startangle=90, counterclock=False,\n",
        "            colors=[GRADE_COLORS[g] for g in GRADE_ORDER])\n",
        "    plt.title(title); plt.tight_layout(); plt.savefig(path, dpi=220); plt.show(); print(\"[saved]\", path)\n",
        "\n",
        "# 파생 타깃들\n",
        "df[\"is_super_num\"] = is_super  # 0/1\n",
        "df[\"is_high_rating\"] = (pd.to_numeric(df[\"review_scores_rating\"], errors=\"coerce\") >= 4.8).astype(float)\n",
        "\n",
        "# 실제 그리기 (파일은 /content에 저장)\n",
        "boxplot_by_grade(grade_hybrid, \"등급별 평점 분포 (Hybrid)\", \"/content/box_rating_hybrid.png\")\n",
        "bar_rate_by_grade(grade_hybrid, \"is_super_num\", \"등급별 슈퍼호스트 비율 (Hybrid)\", \"/content/bar_super_rate_hybrid.png\")\n",
        "bar_rate_by_grade(grade_hybrid, \"is_high_rating\",\"등급별 고평점(≥4.8) 비율 (Hybrid)\", \"/content/bar_high_rate_hybrid.png\")\n",
        "pie_distribution(grade_hybrid, \"호스트 등급 분포 (Hybrid)\", \"/content/pie_grade_hybrid.png\")\n",
        "\n",
        "# =========================\n",
        "# 7) 저장(선택)\n",
        "# =========================\n",
        "out = pd.concat([grade_hybrid.rename(\"grade_hybrid\"), X_raw.loc[grade_hybrid.index, top_vars], Qmat.loc[grade_hybrid.index]], axis=1)\n",
        "out.to_csv(\"/content/grades_hybrid_with_bins.csv\", index=False)\n",
        "print(\"\\n[saved] /content/grades_hybrid_with_bins.csv\")\n"
      ],
      "metadata": {
        "colab": {
          "base_uri": "https://localhost:8080/",
          "height": 1000
        },
        "id": "DTUJ5qGP7wxy",
        "outputId": "63330726-3a0a-4395-b0e3-b9b8a0261eea"
      },
      "execution_count": 16,
      "outputs": [
        {
          "output_type": "stream",
          "name": "stdout",
          "text": [
            "선택된 상위 변수: ['review_scores_value', 'review_scores_accuracy', 'review_scores_cleanliness', 'review_scores_communication', 'review_scores_checkin']\n",
            "\n",
            "=== 등급별 기준 요약 (Hybrid(KMeans on Quantile-space)) ===\n",
            "              review_scores_rating_mean  review_scores_rating_median  \\\n",
            "grade_hybrid                                                           \n",
            "Master                             4.95                         5.00   \n",
            "Rising                             4.65                         4.72   \n",
            "Rookie                             4.30                         4.46   \n",
            "Super                              4.85                         4.88   \n",
            "\n",
            "              number_of_reviews_mean  number_of_reviews_median  \\\n",
            "grade_hybrid                                                     \n",
            "Master                         38.52                       8.0   \n",
            "Rising                         71.38                      31.0   \n",
            "Rookie                         53.80                      21.0   \n",
            "Super                         106.25                      58.5   \n",
            "\n",
            "              number_of_reviews_min  number_of_reviews_max  \n",
            "grade_hybrid                                                \n",
            "Master                            0                    609  \n",
            "Rising                            1                    720  \n",
            "Rookie                            1                    772  \n",
            "Super                             1                   1801  \n"
          ]
        },
        {
          "output_type": "stream",
          "name": "stderr",
          "text": [
            "/tmp/ipython-input-397310317.py:145: MatplotlibDeprecationWarning: The 'labels' parameter of boxplot() has been renamed 'tick_labels' since Matplotlib 3.9; support for the old name will be dropped in 3.11.\n",
            "  bp = plt.boxplot(data, labels=GRADE_ORDER, showmeans=True, patch_artist=True)\n"
          ]
        },
        {
          "output_type": "display_data",
          "data": {
            "text/plain": [
              "<Figure size 700x500 with 1 Axes>"
            ],
            "image/png": "[encoded data removed]"
          },
          "metadata": {}
        },
        {
          "output_type": "stream",
          "name": "stdout",
          "text": [
            "[saved] /content/box_rating_hybrid.png\n"
          ]
        },
        {
          "output_type": "display_data",
          "data": {
            "text/plain": [
              "<Figure size 700x500 with 1 Axes>"
            ],
            "image/png": "[encoded data removed]"
          },
          "metadata": {}
        },
        {
          "output_type": "stream",
          "name": "stdout",
          "text": [
            "[saved] /content/bar_super_rate_hybrid.png\n"
          ]
        },
        {
          "output_type": "display_data",
          "data": {
            "text/plain": [
              "<Figure size 700x500 with 1 Axes>"
            ],
            "image/png": "[encoded data removed]"
          },
          "metadata": {}
        },
        {
          "output_type": "stream",
          "name": "stdout",
          "text": [
            "[saved] /content/bar_high_rate_hybrid.png\n"
          ]
        },
        {
          "output_type": "display_data",
          "data": {
            "text/plain": [
              "<Figure size 600x600 with 1 Axes>"
            ],
            "image/png": "[encoded data removed]"
          },
          "metadata": {}
        },
        {
          "output_type": "stream",
          "name": "stdout",
          "text": [
            "[saved] /content/pie_grade_hybrid.png\n",
            "\n",
            "[saved] /content/grades_hybrid_with_bins.csv\n"
          ]
        }
      ]
    },
    {
      "cell_type": "markdown",
      "source": [
        "----"
      ],
      "metadata": {
        "id": "9Mlts6YT7xHm"
      }
    },
    {
      "cell_type": "markdown",
      "source": [
        "### 그래서 리뷰와 관련된 변수들 제거 버전입니다!"
      ],
      "metadata": {
        "id": "2UcW6XIO9q2m"
      }
    },
    {
      "cell_type": "code",
      "source": [
        "# -*- coding: utf-8 -*-\n",
        "import pandas as pd\n",
        "import numpy as np\n",
        "from sklearn.preprocessing import StandardScaler\n",
        "from sklearn.cluster import KMeans\n",
        "import matplotlib.pyplot as plt\n",
        "\n",
        "# =========================\n",
        "# 설정\n",
        "# =========================\n",
        "PATH = \"/content/combined_dataset.csv\"\n",
        "TOP_VARS = 5\n",
        "MIN_NONNA_RATIO = 0.7\n",
        "USE_CONTINUOUS_AUX = False  # True면 사분위 벡터에 표준화 연속값도 추가\n",
        "\n",
        "GRADE_ORDER  = [\"Rookie\",\"Rising\",\"Super\",\"Master\"]\n",
        "GRADE_COLORS = {\"Rookie\":\"#d62728\",\"Rising\":\"#ff7f0e\",\"Super\":\"#1f77b4\",\"Master\":\"#2ca02c\"}\n",
        "\n",
        "# 리뷰/평점 관련(타깃과 직접 연관) 컬럼 제외 패턴\n",
        "# -> 이름에 아래 토큰이 하나라도 들어가면 제외\n",
        "LEAKAGE_TOKENS = [\n",
        "    \"review\",          # number_of_reviews, reviews_per_month, ...\n",
        "    \"review_scores\",   # review_scores_*\n",
        "    \"rating\",          # review_scores_rating, overall_rating, ...\n",
        "    \"star\"             # star_rating 등\n",
        "]\n",
        "\n",
        "def is_leakage(colname: str) -> bool:\n",
        "    name = str(colname).lower()\n",
        "    return any(tok in name for tok in LEAKAGE_TOKENS)\n",
        "\n",
        "# =========================\n",
        "# 1) 데이터/타깃 준비\n",
        "# =========================\n",
        "df = pd.read_csv(PATH)\n",
        "\n",
        "rating = pd.to_numeric(df.get(\"review_scores_rating\"), errors=\"coerce\")\n",
        "is_super = df.get(\"host_is_superhost\")\n",
        "if is_super is not None and getattr(is_super, \"dtype\", None) == \"O\":\n",
        "    is_super = is_super.map({\"t\":1,\"f\":0,\"true\":1,\"false\":0})\n",
        "is_super = pd.to_numeric(is_super, errors=\"coerce\")\n",
        "\n",
        "# 후보 수치 변수: 식별자/타깃/리뷰·평점·리뷰스코어 관련 컬럼 제외\n",
        "num_cols_all = [c for c in df.select_dtypes(include=[np.number]).columns if c != \"review_scores_rating\"]\n",
        "num_cols = [c for c in num_cols_all if c not in [\"id\", \"listing_id\", \"host_id\"] and not is_leakage(c)]\n",
        "\n",
        "# 결측 적고 값 다양성이 있는 변수만\n",
        "num_cols = [c for c in num_cols if df[c].notna().mean() >= MIN_NONNA_RATIO and df[c].nunique(dropna=True) >= 2]\n",
        "if len(num_cols) == 0:\n",
        "    raise ValueError(\"사용 가능한 숫자 피처가 없습니다. MIN_NONNA_RATIO를 낮추거나 컬럼 구성을 확인해주세요.\")\n",
        "\n",
        "# =========================\n",
        "# 2) 결과 기반 상위 변수 선택 (pairwise corr) — 누수 변수는 이미 제외됨\n",
        "# =========================\n",
        "corrs = {}\n",
        "for c in num_cols:\n",
        "    try:\n",
        "        corrs[c] = abs(df[c].corr(rating, method=\"pearson\"))\n",
        "    except Exception:\n",
        "        corrs[c] = 0.0\n",
        "\n",
        "top_vars = sorted(corrs, key=corrs.get, reverse=True)[:TOP_VARS]\n",
        "if len(top_vars) == 0:\n",
        "    raise ValueError(\"상관으로 선택된 수치 변수가 없습니다. 파라미터를 조정하세요.\")\n",
        "print(\"선택된 상위 변수(리뷰/평점 관련 제외):\", top_vars)\n",
        "\n",
        "# 유효 표본(선택변수 + 평점 결측 제거)\n",
        "need_cols = top_vars + [\"review_scores_rating\"]\n",
        "idx_valid = df[need_cols].dropna().index\n",
        "X_raw = df.loc[idx_valid, top_vars].copy()\n",
        "y_rating = rating.loc[idx_valid].copy()\n",
        "y_super  = is_super.loc[idx_valid].copy()\n",
        "\n",
        "# =========================\n",
        "# 3) 사분위 벡터(분위 기반) 만들기\n",
        "# =========================\n",
        "def quantile_bins(series, n_bins=4):\n",
        "    \"\"\"연속값 -> 분위 랭크(0~1) -> qcut(0..n-1). 실패시 균등 cut.\"\"\"\n",
        "    s = pd.to_numeric(series, errors=\"coerce\")\n",
        "    r = (s.rank(method=\"average\") - 1) / (s.notna().sum() - 1) if s.notna().sum() > 1 else s*0\n",
        "    r = r.fillna(0.5)\n",
        "    try:\n",
        "        b = pd.qcut(r, n_bins, labels=list(range(n_bins)), duplicates=\"drop\")\n",
        "        if getattr(b, \"cat\", None) is not None and b.cat.categories.size < n_bins:\n",
        "            raise ValueError\n",
        "    except Exception:\n",
        "        b = pd.cut(r, bins=np.linspace(0,1,n_bins+1), labels=list(range(n_bins)), include_lowest=True)\n",
        "    return b.astype(float)\n",
        "\n",
        "Qmat = pd.DataFrame({f\"{c}__qbin\": quantile_bins(X_raw[c]) for c in top_vars}, index=X_raw.index)\n",
        "\n",
        "# (옵션) 연속 표준화 값 추가\n",
        "if USE_CONTINUOUS_AUX:\n",
        "    Z = StandardScaler().fit_transform(X_raw.values)\n",
        "    Z = pd.DataFrame(Z, index=X_raw.index, columns=[f\"{c}__z\" for c in top_vars])\n",
        "    X_hybrid = pd.concat([Qmat, Z], axis=1)\n",
        "else:\n",
        "    X_hybrid = Qmat.copy()\n",
        "\n",
        "X_hybrid = X_hybrid.dropna()\n",
        "y_rating = y_rating.loc[X_hybrid.index]\n",
        "y_super  = y_super.loc[X_hybrid.index]\n",
        "\n",
        "if len(X_hybrid) < 10:\n",
        "    raise ValueError(\"유효 표본이 너무 적습니다. MIN_NONNA_RATIO를 낮추거나 데이터 결측을 확인하세요.\")\n",
        "\n",
        "# =========================\n",
        "# 4) KMeans(4) on 사분위 하이브리드 공간\n",
        "# =========================\n",
        "kmeans = KMeans(n_clusters=4, n_init=50, random_state=42)\n",
        "clusters = kmeans.fit_predict(X_hybrid.values)\n",
        "\n",
        "# 평균 평점 낮→높 순으로 Rookie→Master 매핑\n",
        "order = (pd.DataFrame({\"c\":clusters, \"rating\":y_rating})\n",
        "         .groupby(\"c\")[\"rating\"].mean().sort_values().index.tolist())\n",
        "c2g = {order[i]:g for i,g in enumerate(GRADE_ORDER)}\n",
        "grade_hybrid = pd.Series(clusters, index=X_hybrid.index, name=\"grade_hybrid\").map(c2g)\n",
        "\n",
        "# =========================\n",
        "# 5) 등급별 요약 표 (리뷰/예약/평점) — 타깃은 평점이므로 리뷰 관련은 참고용\n",
        "# =========================\n",
        "book_cands = [\"bookings_count\",\"reservations_count\",\"reservation_count\",\n",
        "              \"total_bookings\",\"confirmed_bookings\",\"bookings_count_est\"]\n",
        "book_col = next((c for c in book_cands if c in df.columns), None)\n",
        "review_col = \"number_of_reviews\" if \"number_of_reviews\" in df.columns else None\n",
        "rating_col = \"review_scores_rating\"\n",
        "\n",
        "def make_summary(grade_s, label):\n",
        "    cols = [rating_col]\n",
        "    if review_col: cols.append(review_col)\n",
        "    if book_col:   cols.append(book_col)\n",
        "    tmp = pd.concat([grade_s, df.loc[grade_s.index, cols]], axis=1).dropna()\n",
        "    if tmp.empty:\n",
        "        print(f\"[{label}] 요약 불가: 유효 표본 없음\")\n",
        "        return None\n",
        "    agg = {rating_col:[\"mean\",\"median\"]}\n",
        "    if review_col: agg[review_col] = [\"mean\",\"median\",\"min\",\"max\"]\n",
        "    if book_col:   agg[book_col]   = [\"mean\",\"median\",\"min\",\"max\"]\n",
        "    summ = tmp.groupby(grade_s.name).agg(agg).round(2)\n",
        "    summ.columns = [\"_\".join(filter(None, c)).strip(\"_\") for c in summ.columns.to_flat_index()]\n",
        "    print(f\"\\n=== 등급별 기준 요약 ({label}) ===\")\n",
        "    print(summ)\n",
        "    return summ\n",
        "\n",
        "summ_h = make_summary(grade_hybrid, \"Hybrid(KMeans on Quantile-space)\")\n",
        "\n",
        "# =========================\n",
        "# 6) 시각화 (박스/막대/파이)\n",
        "# =========================\n",
        "def boxplot_by_grade(grade_s, title, path):\n",
        "    data = [df.loc[grade_s.index][grade_s==g][\"review_scores_rating\"].dropna().values for g in GRADE_ORDER]\n",
        "    if all(len(d)==0 for d in data):\n",
        "        print(\"[skip] 박스플롯: 유효한 평점 없음\")\n",
        "        return\n",
        "    plt.figure(figsize=(7,5))\n",
        "    bp = plt.boxplot(data, labels=GRADE_ORDER, showmeans=True, patch_artist=True)\n",
        "    for patch, g in zip(bp[\"boxes\"], GRADE_ORDER):\n",
        "        patch.set_facecolor(GRADE_COLORS[g])\n",
        "    plt.title(title); plt.xlabel(\"등급\"); plt.ylabel(\"평점\")\n",
        "    plt.tight_layout(); plt.savefig(path, dpi=220); plt.show(); print(\"[saved]\", path)\n",
        "\n",
        "def bar_rate_by_grade(grade_s, target_col, title, path):\n",
        "    sub = pd.concat([grade_s, df.loc[grade_s.index, target_col]], axis=1).dropna()\n",
        "    if sub.empty:\n",
        "        print(\"[skip] 막대: 유효 표본 없음\"); return\n",
        "    rate = sub.groupby(grade_s.name)[target_col].mean().reindex(GRADE_ORDER)\n",
        "    plt.figure(figsize=(7,5))\n",
        "    plt.bar(GRADE_ORDER, rate.values, color=[GRADE_COLORS[g] for g in GRADE_ORDER], edgecolor=\"black\")\n",
        "    for i,v in enumerate(rate.fillna(0).values): plt.text(i, v+0.02, f\"{v:.2f}\", ha=\"center\")\n",
        "    plt.ylim(0,1); plt.title(title); plt.xlabel(\"등급\"); plt.ylabel(\"비율\")\n",
        "    plt.tight_layout(); plt.savefig(path, dpi=220); plt.show(); print(\"[saved]\", path)\n",
        "\n",
        "def pie_distribution(grade_s, title, path):\n",
        "    counts = grade_s.value_counts().reindex(GRADE_ORDER).fillna(0)\n",
        "    if counts.sum() == 0: print(\"[skip] 파이: 비어있음\"); return\n",
        "    plt.figure(figsize=(6,6))\n",
        "    plt.pie(counts.values, labels=GRADE_ORDER, autopct=\"%1.1f%%\", startangle=90, counterclock=False,\n",
        "            colors=[GRADE_COLORS[g] for g in GRADE_ORDER])\n",
        "    plt.title(title); plt.tight_layout(); plt.savefig(path, dpi=220); plt.show(); print(\"[saved]\", path)\n",
        "\n",
        "# 파생 타깃들(비율 그래프용)\n",
        "df[\"is_super_num\"] = is_super\n",
        "df[\"is_high_rating\"] = (pd.to_numeric(df[\"review_scores_rating\"], errors=\"coerce\") >= 4.8).astype(float)\n",
        "\n",
        "# 실제 그리기 (파일은 /content 에 저장)\n",
        "boxplot_by_grade(grade_hybrid, \"등급별 평점 분포 (Hybrid, no review-features)\", \"/content/box_rating_hybrid_no_leak.png\")\n",
        "bar_rate_by_grade(grade_hybrid, \"is_super_num\", \"등급별 슈퍼호스트 비율 (Hybrid)\", \"/content/bar_super_rate_hybrid_no_leak.png\")\n",
        "bar_rate_by_grade(grade_hybrid, \"is_high_rating\",\"등급별 고평점(≥4.8) 비율 (Hybrid)\", \"/content/bar_high_rate_hybrid_no_leak.png\")\n",
        "pie_distribution(grade_hybrid, \"호스트 등급 분포 (Hybrid)\", \"/content/pie_grade_hybrid_no_leak.png\")\n"
      ],
      "metadata": {
        "colab": {
          "base_uri": "https://localhost:8080/",
          "height": 1000
        },
        "id": "0vsZiJ7E9mKS",
        "outputId": "cb6b645a-2980-44d7-ad6d-dac25525afc2"
      },
      "execution_count": 17,
      "outputs": [
        {
          "output_type": "stream",
          "name": "stdout",
          "text": [
            "선택된 상위 변수(리뷰/평점 관련 제외): ['calculated_host_listings_count_private_rooms', 'scrape_id', 'calculated_host_listings_count', 'calculated_host_listings_count_shared_rooms', 'host_listings_count']\n",
            "\n",
            "=== 등급별 기준 요약 (Hybrid(KMeans on Quantile-space)) ===\n",
            "              review_scores_rating_mean  review_scores_rating_median  \\\n",
            "grade_hybrid                                                           \n",
            "Master                             4.80                         4.87   \n",
            "Rising                             4.59                         4.80   \n",
            "Rookie                             4.49                         4.62   \n",
            "Super                              4.71                         4.78   \n",
            "\n",
            "              number_of_reviews_mean  number_of_reviews_median  \\\n",
            "grade_hybrid                                                     \n",
            "Master                         85.37                      38.0   \n",
            "Rising                         38.44                      10.0   \n",
            "Rookie                         53.98                      13.0   \n",
            "Super                          75.06                      33.0   \n",
            "\n",
            "              number_of_reviews_min  number_of_reviews_max  \n",
            "grade_hybrid                                                \n",
            "Master                            1                    763  \n",
            "Rising                            0                    634  \n",
            "Rookie                            1                   1801  \n",
            "Super                             1                    795  \n"
          ]
        },
        {
          "output_type": "stream",
          "name": "stderr",
          "text": [
            "/tmp/ipython-input-3617679472.py:156: MatplotlibDeprecationWarning: The 'labels' parameter of boxplot() has been renamed 'tick_labels' since Matplotlib 3.9; support for the old name will be dropped in 3.11.\n",
            "  bp = plt.boxplot(data, labels=GRADE_ORDER, showmeans=True, patch_artist=True)\n"
          ]
        },
        {
          "output_type": "display_data",
          "data": {
            "text/plain": [
              "<Figure size 700x500 with 1 Axes>"
            ],
            "image/png": "[encoded data removed]"
          },
          "metadata": {}
        },
        {
          "output_type": "stream",
          "name": "stdout",
          "text": [
            "[saved] /content/box_rating_hybrid_no_leak.png\n"
          ]
        },
        {
          "output_type": "display_data",
          "data": {
            "text/plain": [
              "<Figure size 700x500 with 1 Axes>"
            ],
            "image/png": "[encoded data removed]"
          },
          "metadata": {}
        },
        {
          "output_type": "stream",
          "name": "stdout",
          "text": [
            "[saved] /content/bar_super_rate_hybrid_no_leak.png\n"
          ]
        },
        {
          "output_type": "display_data",
          "data": {
            "text/plain": [
              "<Figure size 700x500 with 1 Axes>"
            ],
            "image/png": "[encoded data removed]"
          },
          "metadata": {}
        },
        {
          "output_type": "stream",
          "name": "stdout",
          "text": [
            "[saved] /content/bar_high_rate_hybrid_no_leak.png\n"
          ]
        },
        {
          "output_type": "display_data",
          "data": {
            "text/plain": [
              "<Figure size 600x600 with 1 Axes>"
            ],
            "image/png": "[encoded data removed]"
          },
          "metadata": {}
        },
        {
          "output_type": "stream",
          "name": "stdout",
          "text": [
            "[saved] /content/pie_grade_hybrid_no_leak.png\n"
          ]
        }
      ]
    },
    {
      "cell_type": "code",
      "source": [
        "# -*- coding: utf-8 -*-\n",
        "import pandas as pd\n",
        "import numpy as np\n",
        "from sklearn.preprocessing import StandardScaler\n",
        "from sklearn.cluster import KMeans\n",
        "\n",
        "PATH = \"/content/combined_dataset.csv\"\n",
        "TOP_VARS = 5\n",
        "MIN_NONNA_RATIO = 0.7       # 변수 후보: 결측 아닌 비율\n",
        "FALLBACK_NONNA_RATIO = 0.5  # 재시도 기준\n",
        "MIN_ROWS = 30               # 최소 표본수(너무 적으면 폴백)\n",
        "\n",
        "df = pd.read_csv(PATH)\n",
        "\n",
        "# 타깃들\n",
        "rating = pd.to_numeric(df.get(\"review_scores_rating\"), errors=\"coerce\")\n",
        "is_super = df.get(\"host_is_superhost\")\n",
        "if is_super is not None and getattr(is_super, \"dtype\", None) == \"O\":\n",
        "    is_super = is_super.map({\"t\":1,\"f\":0,\"true\":1,\"false\":0})\n",
        "is_super = pd.to_numeric(is_super, errors=\"coerce\")\n",
        "\n",
        "# 숫자 후보(식별자/타깃 제외)\n",
        "num_cols = [c for c in df.select_dtypes(include=[np.number]).columns\n",
        "            if c not in [\"id\",\"review_scores_rating\"]]\n",
        "\n",
        "# 1) 결측 적은 컬럼만 1차 후보\n",
        "nonna_ratio = {c: df[c].notna().mean() for c in num_cols}\n",
        "candidates = [c for c in num_cols if nonna_ratio[c] >= MIN_NONNA_RATIO]\n",
        "\n",
        "# 2) 상관 기반으로 상위 변수 선택 (pairwise로 NaN 무시)\n",
        "def pick_top_vars(cols, k=TOP_VARS):\n",
        "    if not cols:\n",
        "        return []\n",
        "    corrs = {}\n",
        "    for c in cols:\n",
        "        try:\n",
        "            corrs[c] = abs(df[c].corr(rating, method=\"pearson\"))\n",
        "        except Exception:\n",
        "            corrs[c] = 0.0\n",
        "    return sorted(corrs, key=corrs.get, reverse=True)[:k]\n",
        "\n",
        "top_vars = pick_top_vars(candidates, TOP_VARS)\n",
        "\n",
        "# 유효 표본 만들기\n",
        "def build_valid_dataset(vars_list):\n",
        "    if not vars_list:\n",
        "        return None, None, None\n",
        "    need_cols = vars_list + [\"review_scores_rating\"]\n",
        "    idx_valid = df[need_cols].dropna().index\n",
        "    if len(idx_valid) == 0:\n",
        "        return None, None, None\n",
        "    X = df.loc[idx_valid, vars_list].copy()\n",
        "    y = rating.loc[idx_valid]\n",
        "    # 방어: 남은 NaN 제거\n",
        "    mask = X.notna().all(axis=1) & y.notna()\n",
        "    X, y = X.loc[mask], y.loc[mask]\n",
        "    return X, y, idx_valid[mask]\n",
        "\n",
        "X, y_rating, valid_idx = build_valid_dataset(top_vars)\n",
        "\n",
        "# 표본이 너무 적으면(없거나 부족하면) 재시도: 결측이 적은 컬럼 중심으로\n",
        "if (X is None) or (len(X) < MIN_ROWS):\n",
        "    # 결측 기준 완화 + 결측 적은 순으로 추림\n",
        "    cands2 = [c for c in num_cols if nonna_ratio[c] >= FALLBACK_NONNA_RATIO]\n",
        "    # 결측 적은 순으로 정렬 후 상위 N개 중에서 상관 상위 뽑기\n",
        "    cands2 = sorted(cands2, key=lambda c: nonna_ratio[c], reverse=True)[:max(TOP_VARS*2, 10)]\n",
        "    top_vars = pick_top_vars(cands2, TOP_VARS)\n",
        "    X, y_rating, valid_idx = build_valid_dataset(top_vars)\n",
        "\n",
        "# 여전히 부족하면 → 평점만으로 폴백 (Quantile/KMeans 모두 rating 기반)\n",
        "FALLBACK_RATING_ONLY = False\n",
        "if (X is None) or (len(X) < MIN_ROWS):\n",
        "    rating_nonnull = rating.dropna()\n",
        "    if len(rating_nonnull) == 0:\n",
        "        raise ValueError(\"유효한 평점 데이터가 없어 등급을 만들 수 없습니다.\")\n",
        "    X = rating_nonnull.to_frame(name=\"rating_only\")\n",
        "    y_rating = rating_nonnull\n",
        "    valid_idx = rating_nonnull.index\n",
        "    FALLBACK_RATING_ONLY = True\n",
        "    top_vars = [\"rating_only\"]\n",
        "    print(\"[fallback] 표본 부족 → 평점(rating)만으로 등급을 산출합니다.\")\n",
        "\n",
        "# ===== 사분위 등급 =====\n",
        "def quantile_grade(series):\n",
        "    r = series.rank(method=\"first\")\n",
        "    try:\n",
        "        g = pd.qcut(r, 4, labels=[\"Rookie\",\"Rising\",\"Super\",\"Master\"], duplicates=\"drop\")\n",
        "        if getattr(g, \"cat\", None) is not None and g.cat.categories.size < 4:\n",
        "            raise ValueError\n",
        "    except Exception:\n",
        "        g = pd.cut(r, bins=4, labels=[\"Rookie\",\"Rising\",\"Super\",\"Master\"], include_lowest=True)\n",
        "    return pd.Series(g, index=series.index, name=\"grade_quantile\")\n",
        "\n",
        "score = X.sum(axis=1) if not FALLBACK_RATING_ONLY else y_rating\n",
        "grade_q = quantile_grade(score)\n",
        "\n",
        "# ===== KMeans 등급 =====\n",
        "def kmeans_grade(Xmat, y_ref):\n",
        "    scaler = StandardScaler()\n",
        "    Z = scaler.fit_transform(Xmat.values.reshape(-1,1) if Xmat.ndim==1 or Xmat.shape[1]==1 else Xmat.values)\n",
        "    km = KMeans(n_clusters=4, n_init=50, random_state=42)\n",
        "    labels = km.fit_predict(Z)\n",
        "    # 평균 평점 낮→높 = Rookie→Master 매핑\n",
        "    order = (pd.DataFrame({\"c\":labels, \"rating\":y_ref})\n",
        "             .groupby(\"c\")[\"rating\"].mean().sort_values().index.tolist())\n",
        "    c2g = {order[i]: g for i, g in enumerate([\"Rookie\",\"Rising\",\"Super\",\"Master\"])}\n",
        "    return pd.Series(labels, index=y_ref.index, name=\"grade_kmeans\").map(c2g)\n",
        "\n",
        "grade_k = kmeans_grade(X if not FALLBACK_RATING_ONLY else y_rating.to_frame(), y_rating)\n",
        "\n",
        "# ===== 최종 등급 (합의) =====\n",
        "grade_map = {\"Rookie\":0, \"Rising\":1, \"Super\":2, \"Master\":3}\n",
        "inv_map  = {v:k for k,v in grade_map.items()}\n",
        "\n",
        "gq_idx = grade_q.map(grade_map)\n",
        "gk_idx = grade_k.map(grade_map)\n",
        "final_idx = np.rint((gq_idx + gk_idx)/2).astype(int).clip(0,3)\n",
        "grade_final = final_idx.map(inv_map)\n",
        "grade_final.name = \"grade_final\"\n",
        "\n",
        "# ===== 요약표 (리뷰/예약/평점) =====\n",
        "book_cands = [\"bookings_count\",\"reservations_count\",\"reservation_count\",\n",
        "              \"total_bookings\",\"confirmed_bookings\",\"bookings_count_est\"]\n",
        "book_col = next((c for c in book_cands if c in df.columns), None)\n",
        "review_col = \"number_of_reviews\" if \"number_of_reviews\" in df.columns else None\n",
        "rating_col = \"review_scores_rating\"\n",
        "\n",
        "def make_summary(grade_series, label):\n",
        "    cols = [rating_col]\n",
        "    if review_col: cols.append(review_col)\n",
        "    if book_col:   cols.append(book_col)\n",
        "    tmp = pd.concat([grade_series, df.loc[grade_series.index, cols]], axis=1).dropna()\n",
        "    if tmp.empty:\n",
        "        print(f\"\\n[{label}] 요약 불가: 유효 표본 없음\")\n",
        "        return None\n",
        "    agg = {rating_col:[\"mean\",\"median\"]}\n",
        "    if review_col: agg[review_col] = [\"mean\",\"median\",\"min\",\"max\"]\n",
        "    if book_col:   agg[book_col]   = [\"mean\",\"median\",\"min\",\"max\"]\n",
        "    summ = tmp.groupby(grade_series.name).agg(agg).round(2)\n",
        "    summ.columns = [\"_\".join(filter(None, c)).strip(\"_\") for c in summ.columns.to_flat_index()]\n",
        "    print(f\"\\n=== 등급별 기준 요약표 ({label}) ===\")\n",
        "    print(summ)\n",
        "    return summ\n",
        "\n",
        "grade_q.name = \"grade_quantile\"\n",
        "summ_q = make_summary(grade_q, \"Quantile\")\n",
        "summ_k = make_summary(grade_k, \"KMeans\")\n",
        "grade_final.name = \"grade_final\"\n",
        "summ_f = make_summary(grade_final, \"Final\")\n",
        "\n",
        "# 원본 df에 등급 붙이기(유효 표본에 한함)\n",
        "df.loc[valid_idx, \"grade_quantile\"] = grade_q.values\n",
        "df.loc[valid_idx, \"grade_kmeans\"]   = grade_k.values\n",
        "df.loc[valid_idx, \"grade_final\"]    = grade_final.values\n",
        "\n",
        "# 저장(선택)\n",
        "out_cols = [\"grade_quantile\",\"grade_kmeans\",\"grade_final\", rating_col]\n",
        "if review_col: out_cols.append(review_col)\n",
        "if book_col:   out_cols.append(book_col)\n",
        "df.loc[valid_idx, out_cols].to_csv(\"/mnt/data/grades_and_summary_base.csv\", index=False)\n",
        "\n",
        "print(\"\\n[done] 등급 산출 완료\")\n",
        "print(\"- /mnt/data/grades_and_summary_base.csv\")\n"
      ],
      "metadata": {
        "colab": {
          "base_uri": "https://localhost:8080/",
          "height": 366
        },
        "id": "Qcc9eYTDwaXk",
        "outputId": "58353aa7-d129-41fb-9e07-6214cc604f0c"
      },
      "execution_count": 11,
      "outputs": [
        {
          "output_type": "error",
          "ename": "TypeError",
          "evalue": "Object with dtype category cannot perform the numpy op add",
          "traceback": [
            "\u001b[0;31m---------------------------------------------------------------------------\u001b[0m",
            "\u001b[0;31mTypeError\u001b[0m                                 Traceback (most recent call last)",
            "\u001b[0;32m/tmp/ipython-input-2144291154.py\u001b[0m in \u001b[0;36m<cell line: 0>\u001b[0;34m()\u001b[0m\n\u001b[1;32m    115\u001b[0m \u001b[0mgq_idx\u001b[0m \u001b[0;34m=\u001b[0m \u001b[0mgrade_q\u001b[0m\u001b[0;34m.\u001b[0m\u001b[0mmap\u001b[0m\u001b[0;34m(\u001b[0m\u001b[0mgrade_map\u001b[0m\u001b[0;34m)\u001b[0m\u001b[0;34m\u001b[0m\u001b[0;34m\u001b[0m\u001b[0m\n\u001b[1;32m    116\u001b[0m \u001b[0mgk_idx\u001b[0m \u001b[0;34m=\u001b[0m \u001b[0mgrade_k\u001b[0m\u001b[0;34m.\u001b[0m\u001b[0mmap\u001b[0m\u001b[0;34m(\u001b[0m\u001b[0mgrade_map\u001b[0m\u001b[0;34m)\u001b[0m\u001b[0;34m\u001b[0m\u001b[0;34m\u001b[0m\u001b[0m\n\u001b[0;32m--> 117\u001b[0;31m \u001b[0mfinal_idx\u001b[0m \u001b[0;34m=\u001b[0m \u001b[0mnp\u001b[0m\u001b[0;34m.\u001b[0m\u001b[0mrint\u001b[0m\u001b[0;34m(\u001b[0m\u001b[0;34m(\u001b[0m\u001b[0mgq_idx\u001b[0m \u001b[0;34m+\u001b[0m \u001b[0mgk_idx\u001b[0m\u001b[0;34m)\u001b[0m\u001b[0;34m/\u001b[0m\u001b[0;36m2\u001b[0m\u001b[0;34m)\u001b[0m\u001b[0;34m.\u001b[0m\u001b[0mastype\u001b[0m\u001b[0;34m(\u001b[0m\u001b[0mint\u001b[0m\u001b[0;34m)\u001b[0m\u001b[0;34m.\u001b[0m\u001b[0mclip\u001b[0m\u001b[0;34m(\u001b[0m\u001b[0;36m0\u001b[0m\u001b[0;34m,\u001b[0m\u001b[0;36m3\u001b[0m\u001b[0;34m)\u001b[0m\u001b[0;34m\u001b[0m\u001b[0;34m\u001b[0m\u001b[0m\n\u001b[0m\u001b[1;32m    118\u001b[0m \u001b[0mgrade_final\u001b[0m \u001b[0;34m=\u001b[0m \u001b[0mfinal_idx\u001b[0m\u001b[0;34m.\u001b[0m\u001b[0mmap\u001b[0m\u001b[0;34m(\u001b[0m\u001b[0minv_map\u001b[0m\u001b[0;34m)\u001b[0m\u001b[0;34m\u001b[0m\u001b[0;34m\u001b[0m\u001b[0m\n\u001b[1;32m    119\u001b[0m \u001b[0mgrade_final\u001b[0m\u001b[0;34m.\u001b[0m\u001b[0mname\u001b[0m \u001b[0;34m=\u001b[0m \u001b[0;34m\"grade_final\"\u001b[0m\u001b[0;34m\u001b[0m\u001b[0;34m\u001b[0m\u001b[0m\n",
            "\u001b[0;32m/usr/local/lib/python3.12/dist-packages/pandas/core/ops/common.py\u001b[0m in \u001b[0;36mnew_method\u001b[0;34m(self, other)\u001b[0m\n\u001b[1;32m     74\u001b[0m         \u001b[0mother\u001b[0m \u001b[0;34m=\u001b[0m \u001b[0mitem_from_zerodim\u001b[0m\u001b[0;34m(\u001b[0m\u001b[0mother\u001b[0m\u001b[0;34m)\u001b[0m\u001b[0;34m\u001b[0m\u001b[0;34m\u001b[0m\u001b[0m\n\u001b[1;32m     75\u001b[0m \u001b[0;34m\u001b[0m\u001b[0m\n\u001b[0;32m---> 76\u001b[0;31m         \u001b[0;32mreturn\u001b[0m \u001b[0mmethod\u001b[0m\u001b[0;34m(\u001b[0m\u001b[0mself\u001b[0m\u001b[0;34m,\u001b[0m \u001b[0mother\u001b[0m\u001b[0;34m)\u001b[0m\u001b[0;34m\u001b[0m\u001b[0;34m\u001b[0m\u001b[0m\n\u001b[0m\u001b[1;32m     77\u001b[0m \u001b[0;34m\u001b[0m\u001b[0m\n\u001b[1;32m     78\u001b[0m     \u001b[0;32mreturn\u001b[0m \u001b[0mnew_method\u001b[0m\u001b[0;34m\u001b[0m\u001b[0;34m\u001b[0m\u001b[0m\n",
            "\u001b[0;32m/usr/local/lib/python3.12/dist-packages/pandas/core/arraylike.py\u001b[0m in \u001b[0;36m__add__\u001b[0;34m(self, other)\u001b[0m\n\u001b[1;32m    184\u001b[0m         \u001b[0mmoose\u001b[0m     \u001b[0;36m3.0\u001b[0m     \u001b[0mNaN\u001b[0m\u001b[0;34m\u001b[0m\u001b[0;34m\u001b[0m\u001b[0m\n\u001b[1;32m    185\u001b[0m         \"\"\"\n\u001b[0;32m--> 186\u001b[0;31m         \u001b[0;32mreturn\u001b[0m \u001b[0mself\u001b[0m\u001b[0;34m.\u001b[0m\u001b[0m_arith_method\u001b[0m\u001b[0;34m(\u001b[0m\u001b[0mother\u001b[0m\u001b[0;34m,\u001b[0m \u001b[0moperator\u001b[0m\u001b[0;34m.\u001b[0m\u001b[0madd\u001b[0m\u001b[0;34m)\u001b[0m\u001b[0;34m\u001b[0m\u001b[0;34m\u001b[0m\u001b[0m\n\u001b[0m\u001b[1;32m    187\u001b[0m \u001b[0;34m\u001b[0m\u001b[0m\n\u001b[1;32m    188\u001b[0m     \u001b[0;34m@\u001b[0m\u001b[0munpack_zerodim_and_defer\u001b[0m\u001b[0;34m(\u001b[0m\u001b[0;34m\"__radd__\"\u001b[0m\u001b[0;34m)\u001b[0m\u001b[0;34m\u001b[0m\u001b[0;34m\u001b[0m\u001b[0m\n",
            "\u001b[0;32m/usr/local/lib/python3.12/dist-packages/pandas/core/series.py\u001b[0m in \u001b[0;36m_arith_method\u001b[0;34m(self, other, op)\u001b[0m\n\u001b[1;32m   6133\u001b[0m     \u001b[0;32mdef\u001b[0m \u001b[0m_arith_method\u001b[0m\u001b[0;34m(\u001b[0m\u001b[0mself\u001b[0m\u001b[0;34m,\u001b[0m \u001b[0mother\u001b[0m\u001b[0;34m,\u001b[0m \u001b[0mop\u001b[0m\u001b[0;34m)\u001b[0m\u001b[0;34m:\u001b[0m\u001b[0;34m\u001b[0m\u001b[0;34m\u001b[0m\u001b[0m\n\u001b[1;32m   6134\u001b[0m         \u001b[0mself\u001b[0m\u001b[0;34m,\u001b[0m \u001b[0mother\u001b[0m \u001b[0;34m=\u001b[0m \u001b[0mself\u001b[0m\u001b[0;34m.\u001b[0m\u001b[0m_align_for_op\u001b[0m\u001b[0;34m(\u001b[0m\u001b[0mother\u001b[0m\u001b[0;34m)\u001b[0m\u001b[0;34m\u001b[0m\u001b[0;34m\u001b[0m\u001b[0m\n\u001b[0;32m-> 6135\u001b[0;31m         \u001b[0;32mreturn\u001b[0m \u001b[0mbase\u001b[0m\u001b[0;34m.\u001b[0m\u001b[0mIndexOpsMixin\u001b[0m\u001b[0;34m.\u001b[0m\u001b[0m_arith_method\u001b[0m\u001b[0;34m(\u001b[0m\u001b[0mself\u001b[0m\u001b[0;34m,\u001b[0m \u001b[0mother\u001b[0m\u001b[0;34m,\u001b[0m \u001b[0mop\u001b[0m\u001b[0;34m)\u001b[0m\u001b[0;34m\u001b[0m\u001b[0;34m\u001b[0m\u001b[0m\n\u001b[0m\u001b[1;32m   6136\u001b[0m \u001b[0;34m\u001b[0m\u001b[0m\n\u001b[1;32m   6137\u001b[0m     \u001b[0;32mdef\u001b[0m \u001b[0m_align_for_op\u001b[0m\u001b[0;34m(\u001b[0m\u001b[0mself\u001b[0m\u001b[0;34m,\u001b[0m \u001b[0mright\u001b[0m\u001b[0;34m,\u001b[0m \u001b[0malign_asobject\u001b[0m\u001b[0;34m:\u001b[0m \u001b[0mbool\u001b[0m \u001b[0;34m=\u001b[0m \u001b[0;32mFalse\u001b[0m\u001b[0;34m)\u001b[0m\u001b[0;34m:\u001b[0m\u001b[0;34m\u001b[0m\u001b[0;34m\u001b[0m\u001b[0m\n",
            "\u001b[0;32m/usr/local/lib/python3.12/dist-packages/pandas/core/base.py\u001b[0m in \u001b[0;36m_arith_method\u001b[0;34m(self, other, op)\u001b[0m\n\u001b[1;32m   1380\u001b[0m \u001b[0;34m\u001b[0m\u001b[0m\n\u001b[1;32m   1381\u001b[0m         \u001b[0;32mwith\u001b[0m \u001b[0mnp\u001b[0m\u001b[0;34m.\u001b[0m\u001b[0merrstate\u001b[0m\u001b[0;34m(\u001b[0m\u001b[0mall\u001b[0m\u001b[0;34m=\u001b[0m\u001b[0;34m\"ignore\"\u001b[0m\u001b[0;34m)\u001b[0m\u001b[0;34m:\u001b[0m\u001b[0;34m\u001b[0m\u001b[0;34m\u001b[0m\u001b[0m\n\u001b[0;32m-> 1382\u001b[0;31m             \u001b[0mresult\u001b[0m \u001b[0;34m=\u001b[0m \u001b[0mops\u001b[0m\u001b[0;34m.\u001b[0m\u001b[0marithmetic_op\u001b[0m\u001b[0;34m(\u001b[0m\u001b[0mlvalues\u001b[0m\u001b[0;34m,\u001b[0m \u001b[0mrvalues\u001b[0m\u001b[0;34m,\u001b[0m \u001b[0mop\u001b[0m\u001b[0;34m)\u001b[0m\u001b[0;34m\u001b[0m\u001b[0;34m\u001b[0m\u001b[0m\n\u001b[0m\u001b[1;32m   1383\u001b[0m \u001b[0;34m\u001b[0m\u001b[0m\n\u001b[1;32m   1384\u001b[0m         \u001b[0;32mreturn\u001b[0m \u001b[0mself\u001b[0m\u001b[0;34m.\u001b[0m\u001b[0m_construct_result\u001b[0m\u001b[0;34m(\u001b[0m\u001b[0mresult\u001b[0m\u001b[0;34m,\u001b[0m \u001b[0mname\u001b[0m\u001b[0;34m=\u001b[0m\u001b[0mres_name\u001b[0m\u001b[0;34m)\u001b[0m\u001b[0;34m\u001b[0m\u001b[0;34m\u001b[0m\u001b[0m\n",
            "\u001b[0;32m/usr/local/lib/python3.12/dist-packages/pandas/core/ops/array_ops.py\u001b[0m in \u001b[0;36marithmetic_op\u001b[0;34m(left, right, op)\u001b[0m\n\u001b[1;32m    271\u001b[0m         \u001b[0;31m# Timedelta/Timestamp and other custom scalars are included in the check\u001b[0m\u001b[0;34m\u001b[0m\u001b[0;34m\u001b[0m\u001b[0m\n\u001b[1;32m    272\u001b[0m         \u001b[0;31m# because numexpr will fail on it, see GH#31457\u001b[0m\u001b[0;34m\u001b[0m\u001b[0;34m\u001b[0m\u001b[0m\n\u001b[0;32m--> 273\u001b[0;31m         \u001b[0mres_values\u001b[0m \u001b[0;34m=\u001b[0m \u001b[0mop\u001b[0m\u001b[0;34m(\u001b[0m\u001b[0mleft\u001b[0m\u001b[0;34m,\u001b[0m \u001b[0mright\u001b[0m\u001b[0;34m)\u001b[0m\u001b[0;34m\u001b[0m\u001b[0;34m\u001b[0m\u001b[0m\n\u001b[0m\u001b[1;32m    274\u001b[0m     \u001b[0;32melse\u001b[0m\u001b[0;34m:\u001b[0m\u001b[0;34m\u001b[0m\u001b[0;34m\u001b[0m\u001b[0m\n\u001b[1;32m    275\u001b[0m         \u001b[0;31m# TODO we should handle EAs consistently and move this check before the if/else\u001b[0m\u001b[0;34m\u001b[0m\u001b[0;34m\u001b[0m\u001b[0m\n",
            "\u001b[0;32m/usr/local/lib/python3.12/dist-packages/pandas/core/arrays/categorical.py\u001b[0m in \u001b[0;36m__array_ufunc__\u001b[0;34m(self, ufunc, method, *inputs, **kwargs)\u001b[0m\n\u001b[1;32m   1692\u001b[0m         \u001b[0;31m# for all other cases, raise for now (similarly as what happens in\u001b[0m\u001b[0;34m\u001b[0m\u001b[0;34m\u001b[0m\u001b[0m\n\u001b[1;32m   1693\u001b[0m         \u001b[0;31m# Series.__array_prepare__)\u001b[0m\u001b[0;34m\u001b[0m\u001b[0;34m\u001b[0m\u001b[0m\n\u001b[0;32m-> 1694\u001b[0;31m         raise TypeError(\n\u001b[0m\u001b[1;32m   1695\u001b[0m             \u001b[0;34mf\"Object with dtype {self.dtype} cannot perform \"\u001b[0m\u001b[0;34m\u001b[0m\u001b[0;34m\u001b[0m\u001b[0m\n\u001b[1;32m   1696\u001b[0m             \u001b[0;34mf\"the numpy op {ufunc.__name__}\"\u001b[0m\u001b[0;34m\u001b[0m\u001b[0;34m\u001b[0m\u001b[0m\n",
            "\u001b[0;31mTypeError\u001b[0m: Object with dtype category cannot perform the numpy op add"
          ]
        }
      ]
    },
    {
      "cell_type": "code",
      "source": [],
      "metadata": {
        "id": "I-hhxO1gytSF"
      },
      "execution_count": null,
      "outputs": []
    }
  ]
}
